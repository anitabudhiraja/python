{
 "cells": [
  {
   "cell_type": "code",
   "execution_count": 134,
   "metadata": {},
   "outputs": [],
   "source": [
    "import numpy as np"
   ]
  },
  {
   "cell_type": "code",
   "execution_count": 136,
   "metadata": {},
   "outputs": [
    {
     "data": {
      "text/plain": [
       "array([[64, 73, 94, 93],\n",
       "       [68, 71, 85, 66],\n",
       "       [83, 66, 95, 76],\n",
       "       [63, 88, 67, 99],\n",
       "       [85, 83, 92, 95]])"
      ]
     },
     "execution_count": 136,
     "metadata": {},
     "output_type": "execute_result"
    }
   ],
   "source": [
    "arr= np.array([[4,5,6,7],\n",
    "              [6,7,8,9],\n",
    "              [56,67,78,99]])\n",
    "arr.shape\n",
    "\n",
    "a=np.random.randint(60, 100, 20)\n",
    "a=a.reshape(5,4)\n",
    "a\n",
    "#a      ph   ch  ma  eng"
   ]
  },
  {
   "cell_type": "code",
   "execution_count": 137,
   "metadata": {},
   "outputs": [
    {
     "data": {
      "text/plain": [
       "array([363, 381, 433, 429])"
      ]
     },
     "execution_count": 137,
     "metadata": {},
     "output_type": "execute_result"
    }
   ],
   "source": [
    "#totaling columnwise\n",
    "#a[:, 0].sum()\n",
    "s= (a.sum(axis=0))\n",
    "#totaling rowwise\n",
    "s"
   ]
  },
  {
   "cell_type": "code",
   "execution_count": 141,
   "metadata": {},
   "outputs": [
    {
     "name": "stderr",
     "output_type": "stream",
     "text": [
      "<__array_function__ internals>:5: VisibleDeprecationWarning: Creating an ndarray from ragged nested sequences (which is a list-or-tuple of lists-or-tuples-or ndarrays with different lengths or shapes) is deprecated. If you meant to do this, you must specify 'dtype=object' when creating the ndarray.\n"
     ]
    },
    {
     "data": {
      "text/plain": [
       "array([array([[64, 73, 94, 93],\n",
       "              [68, 71, 85, 66],\n",
       "              [83, 66, 95, 76],\n",
       "              [63, 88, 67, 99],\n",
       "              [85, 83, 92, 95]]), array([363, 381, 433, 429])],\n",
       "      dtype=object)"
      ]
     },
     "execution_count": 141,
     "metadata": {},
     "output_type": "execute_result"
    }
   ],
   "source": [
    "np.concatenate((a,s),axis=0)"
   ]
  },
  {
   "cell_type": "code",
   "execution_count": 102,
   "metadata": {},
   "outputs": [
    {
     "data": {
      "text/plain": [
       "array([[459, 468],\n",
       "       [419, 766],\n",
       "       [211, 216]])"
      ]
     },
     "execution_count": 102,
     "metadata": {},
     "output_type": "execute_result"
    }
   ],
   "source": [
    "a[3: ,3: ]"
   ]
  },
  {
   "cell_type": "code",
   "execution_count": 104,
   "metadata": {},
   "outputs": [
    {
     "data": {
      "text/plain": [
       "array([796,  95, 418, 459, 468])"
      ]
     },
     "execution_count": 104,
     "metadata": {},
     "output_type": "execute_result"
    }
   ],
   "source": [
    "a[3, : ]"
   ]
  },
  {
   "cell_type": "code",
   "execution_count": 105,
   "metadata": {},
   "outputs": [
    {
     "data": {
      "text/plain": [
       "array([212, 748, 149, 459, 419, 211])"
      ]
     },
     "execution_count": 105,
     "metadata": {},
     "output_type": "execute_result"
    }
   ],
   "source": [
    "a[:, 3]"
   ]
  },
  {
   "cell_type": "code",
   "execution_count": null,
   "metadata": {},
   "outputs": [],
   "source": []
  },
  {
   "cell_type": "code",
   "execution_count": null,
   "metadata": {},
   "outputs": [],
   "source": [
    "#Q generate a 2 d array with 10 rows and 5 columns"
   ]
  },
  {
   "cell_type": "code",
   "execution_count": 86,
   "metadata": {},
   "outputs": [
    {
     "data": {
      "text/plain": [
       "array([[0.22026496, 0.12693494, 0.67214949, 0.28236088, 0.83388762,\n",
       "        0.39063156, 0.93288099, 0.59137909, 0.42241352, 0.81639347,\n",
       "        0.549125  , 0.99848047, 0.28348955, 0.55128622, 0.93048798,\n",
       "        0.8480346 , 0.85362577, 0.21505348, 0.39982986, 0.39345534,\n",
       "        0.87971084, 0.61456714, 0.7811917 , 0.69806887, 0.62195315],\n",
       "       [0.89027065, 0.79161528, 0.76413448, 0.55810432, 0.4620479 ,\n",
       "        0.24493314, 0.90571423, 0.95263684, 0.80686513, 0.87199991,\n",
       "        0.91856738, 0.07015079, 0.19175715, 0.86725262, 0.40642169,\n",
       "        0.91123634, 0.334642  , 0.1549241 , 0.99282263, 0.18166338,\n",
       "        0.33197593, 0.84121047, 0.48399746, 0.15078139, 0.73169888]])"
      ]
     },
     "execution_count": 86,
     "metadata": {},
     "output_type": "execute_result"
    }
   ],
   "source": [
    "a.reshape(2,25)"
   ]
  },
  {
   "cell_type": "code",
   "execution_count": null,
   "metadata": {},
   "outputs": [],
   "source": []
  },
  {
   "cell_type": "code",
   "execution_count": 58,
   "metadata": {},
   "outputs": [],
   "source": [
    "import csv\n",
    "import numpy as np\n",
    "\n",
    "def read_csv(x):\n",
    "    string_data = open(x).read()\n",
    "    string_list = string_data.split(\"\\n\")[1:]\n",
    "    #print(string_list)\n",
    "    final_list = []\n",
    "\n",
    "    for row in string_list:\n",
    "        string_fields = row.split(\";\")\n",
    "        int_fields = []\n",
    "        for value in string_fields:\n",
    "            int_fields.append((value))\n",
    "        final_list.append(int_fields)\n",
    "    return final_list\n",
    "\n",
    "winelist = read_csv(\"winequality-red.csv\")\n",
    "\n"
   ]
  },
  {
   "cell_type": "code",
   "execution_count": 28,
   "metadata": {},
   "outputs": [
    {
     "data": {
      "text/plain": [
       "array([0.63124226, 0.86210513, 0.82893388, 0.95724679, 0.94019986,\n",
       "       0.96270165, 0.66638688, 0.91582582, 0.93914071, 0.60101484,\n",
       "       0.93562489, 0.83318244, 0.77336292, 0.89088025, 0.88851371,\n",
       "       0.77946783, 0.60198326, 0.86554056, 0.91363035, 0.90901231,\n",
       "       0.84652048, 0.89469199, 0.85369876, 0.90307724, 0.90824151,\n",
       "       0.71138601, 0.92062742, 0.91565538, 0.92294915, 0.9070878 ,\n",
       "       0.8228144 , 0.90033444, 0.87552174, 0.89174674, 0.867413  ,\n",
       "       0.84915446, 0.82345549, 0.7937751 , 0.77744674, 0.78490922,\n",
       "       0.76825442, 0.75814708, 0.72594185, 0.71813448, 0.69506231,\n",
       "       0.61313595, 0.5264009 , 0.54233225, 0.49295721, 0.44608906,\n",
       "       0.45702005, 0.45966062, 0.45988408, 0.41725748, 0.44915336,\n",
       "       0.43006964, 0.37012178, 0.34314405, 0.34106394, 0.30147009,\n",
       "       0.29319345, 0.30580114, 0.29683744, 0.30961675, 0.29405014,\n",
       "       0.30974067, 0.29111835, 0.33576839, 0.32438974, 0.31791899,\n",
       "       0.34307535, 0.34538045, 0.33432404, 0.32028102, 0.32104573,\n",
       "       0.31705101, 0.30951102, 0.31273445, 0.3010008 , 0.28631273,\n",
       "       0.29756811, 0.26787248, 0.29635084, 0.28478483, 0.24912088,\n",
       "       0.25364277, 0.28131789, 0.21894215, 0.28555237, 0.25149051,\n",
       "       0.20871653, 0.2394999 , 0.21352075, 0.18963156, 0.22676187,\n",
       "       0.29163995, 0.22694366, 0.20741324, 0.23383614, 0.2613443 ,\n",
       "       0.20230315, 0.34025338])"
      ]
     },
     "execution_count": 28,
     "metadata": {},
     "output_type": "execute_result"
    }
   ],
   "source": [
    "import numpy as np\n",
    "spotify=np.genfromtxt(\"data_by_year.csv\", delimiter=\",\",skip_header=1)\n",
    "\n",
    "spotify\n",
    "type(spotify)\n",
    "spotify[:,1]"
   ]
  },
  {
   "cell_type": "code",
   "execution_count": 2,
   "metadata": {},
   "outputs": [
    {
     "data": {
      "text/plain": [
       "array([-20.84008264, -19.12315   , -18.48742287, -17.13142353,\n",
       "       -16.9279975 , -16.89752877, -16.81166026, -16.53305573])"
      ]
     },
     "execution_count": 2,
     "metadata": {},
     "output_type": "execute_result"
    }
   ],
   "source": [
    "a=np.sort(spotify, axis=None)\n",
    "a[0:8]\n",
    "#np.sort(a, axis = -1) "
   ]
  },
  {
   "cell_type": "code",
   "execution_count": 3,
   "metadata": {},
   "outputs": [
    {
     "data": {
      "text/plain": [
       "14"
      ]
     },
     "execution_count": 3,
     "metadata": {},
     "output_type": "execute_result"
    }
   ],
   "source": [
    "n=np.array([[[2,3,4,5],\n",
    "            [7,8,9,6],\n",
    "            [12,13,14,15],\n",
    "            [80,90,78,67],\n",
    "            [8,7,6,5]]])\n",
    "#[ rows, cols]\n",
    "\n",
    "n.ndim\n",
    "\n",
    "n.shape\n",
    "n[0, 2, 2]"
   ]
  },
  {
   "cell_type": "code",
   "execution_count": 171,
   "metadata": {},
   "outputs": [
    {
     "data": {
      "text/plain": [
       "array([[ 7.4  ,  0.7  ,  0.   , ...,  0.56 ,  9.4  ,  5.   ],\n",
       "       [ 7.8  ,  0.88 ,  0.   , ...,  0.68 ,  9.8  ,  5.   ],\n",
       "       [ 7.8  ,  0.76 ,  0.04 , ...,  0.65 ,  9.8  ,  5.   ],\n",
       "       ...,\n",
       "       [ 6.3  ,  0.51 ,  0.13 , ...,  0.75 , 11.   ,  6.   ],\n",
       "       [ 5.9  ,  0.645,  0.12 , ...,  0.71 , 10.2  ,  5.   ],\n",
       "       [ 6.   ,  0.31 ,  0.47 , ...,  0.66 , 11.   ,  6.   ]])"
      ]
     },
     "execution_count": 171,
     "metadata": {},
     "output_type": "execute_result"
    }
   ],
   "source": [
    "import numpy as np\n",
    "\n",
    "#wines=np.genfromtxt(\"http://winequality-red.csv\", delimiter=\";\",skip_header=2)\n",
    "#wines.shape\n",
    "\n",
    "wines2=np.genfromtxt(\"winequality-red.csv\", delimiter=\";\",skip_header=1)\n",
    "wines2"
   ]
  },
  {
   "cell_type": "code",
   "execution_count": 148,
   "metadata": {},
   "outputs": [
    {
     "data": {
      "text/plain": [
       "array([11., 25., 15., ..., 29., 32., 18.])"
      ]
     },
     "execution_count": 148,
     "metadata": {},
     "output_type": "execute_result"
    }
   ],
   "source": [
    "wines2[:, 5]"
   ]
  },
  {
   "cell_type": "code",
   "execution_count": 45,
   "metadata": {},
   "outputs": [
    {
     "data": {
      "text/plain": [
       "139.8589999999996"
      ]
     },
     "execution_count": 45,
     "metadata": {},
     "output_type": "execute_result"
    }
   ],
   "source": [
    "wines2.sum(axis=0)[2:8][0:3][2]\n",
    "\n"
   ]
  },
  {
   "cell_type": "code",
   "execution_count": 46,
   "metadata": {},
   "outputs": [
    {
     "name": "stdout",
     "output_type": "stream",
     "text": [
      "(1599, 12)\n"
     ]
    },
    {
     "data": {
      "text/plain": [
       "(1600, 12)"
      ]
     },
     "execution_count": 46,
     "metadata": {},
     "output_type": "execute_result"
    }
   ],
   "source": [
    "w2=np.concatenate((wines2, [wines2.sum(axis=0)]), axis=0)\n",
    "print(wines2.shape)\n",
    "w2.shape\n",
    "#wines=np.concatenate((wines,[randarr]), axis=0)"
   ]
  },
  {
   "cell_type": "code",
   "execution_count": 6,
   "metadata": {},
   "outputs": [
    {
     "data": {
      "text/plain": [
       "(1599, 13)"
      ]
     },
     "execution_count": 6,
     "metadata": {},
     "output_type": "execute_result"
    }
   ],
   "source": [
    "\n",
    "\n",
    "#Q to see first five rows\n",
    "wines2[0:5,:]\n",
    "#Q To see the fifth row\n",
    "wines2[5]\n",
    "#Q to see the fifth row and 3rd col\n",
    "wines2[5,3]\n",
    "#Q create a newcol which is addition of 1st column and 2nd column\n",
    "newcol=wines2[:,0] + wines2[:,1]\n",
    "newcol.shape\n",
    "#Q add this newcol to wines\n",
    "wines2 = np.insert(wines2, 1, newcol, axis=1)\n",
    "wines2.shape\n",
    "\n",
    "#Q create another numpy array for wines2, append them\n",
    "\n",
    "#Qfind the min value in numpy array\n",
    "#Qfind the min value in 5th column\n",
    "#Qfind the max value in first 10 rows\n",
    "#Q find the max value in first 20 rows and 4th and 5th col\n",
    "#Q find the mean of the 10th column\n",
    "#Q remove rows with NAN values\n",
    "#Q find the mean value of 11th, 20th and 32nd row \n",
    "#Q find the mean value of 11th, 20th and 32nd row for columns 2 to 6"
   ]
  },
  {
   "cell_type": "code",
   "execution_count": 97,
   "metadata": {},
   "outputs": [
    {
     "data": {
      "text/plain": [
       "23.0"
      ]
     },
     "execution_count": 97,
     "metadata": {},
     "output_type": "execute_result"
    }
   ],
   "source": [
    "wines[(11,20,32)  ,(2,5,8) ].max()\n"
   ]
  },
  {
   "cell_type": "code",
   "execution_count": 149,
   "metadata": {},
   "outputs": [
    {
     "name": "stdout",
     "output_type": "stream",
     "text": [
      "15.874921826141339 1.0 72.0 25384.0\n"
     ]
    }
   ],
   "source": [
    "#find the min value in 5th column\n",
    "#find the mean value in 5th column\n",
    "#find the max value in 5th column\n",
    "#find the mode value in 5th column\n",
    "m=wines2[:, 5].mean()\n",
    "n=wines2[:, 5].min()\n",
    "o=wines2[:, 5].max()\n",
    "p=wines2[:, 5].sum()\n",
    "print(m,n,o,p)\n"
   ]
  },
  {
   "cell_type": "code",
   "execution_count": 165,
   "metadata": {},
   "outputs": [
    {
     "data": {
      "text/plain": [
       "Text(0.5, 1.0, 'Sulphut dioxide')"
      ]
     },
     "execution_count": 165,
     "metadata": {},
     "output_type": "execute_result"
    },
    {
     "data": {
      "image/png": "[encoded data removed]",
      "text/plain": [
       "<Figure size 432x288 with 1 Axes>"
      ]
     },
     "metadata": {
      "needs_background": "light"
     },
     "output_type": "display_data"
    }
   ],
   "source": [
    "from matplotlib import pyplot as plt\n",
    "\n",
    "from matplotlib.pyplot import *\n",
    "bar([\"min\",\"max\",\"mean\"], [n, o, m],color=[\"cyan\",\"red\",\"green\"],width=.3)\n",
    "#wines2[\"newcol\"]= wines2[:3] + wines[:, 5]\n",
    "title(\"Sulphut dioxide\")\n"
   ]
  },
  {
   "cell_type": "code",
   "execution_count": 8,
   "metadata": {},
   "outputs": [
    {
     "name": "stdout",
     "output_type": "stream",
     "text": [
      "(1599,)\n"
     ]
    },
    {
     "data": {
      "text/plain": [
       "(1, 1599)"
      ]
     },
     "execution_count": 8,
     "metadata": {},
     "output_type": "execute_result"
    }
   ],
   "source": [
    "#Q1st solution\n",
    "newcol=np.array(wines2[:,0] + wines2[:,1])\n",
    "print(newcol.shape)\n",
    "newcol=np.array([newcol])\n",
    "newcol.shape\n",
    "\n",
    "\n"
   ]
  },
  {
   "cell_type": "code",
   "execution_count": 10,
   "metadata": {},
   "outputs": [
    {
     "data": {
      "text/plain": [
       "array([[15.5  ],\n",
       "       [16.48 ],\n",
       "       [16.36 ],\n",
       "       ...,\n",
       "       [13.11 ],\n",
       "       [12.445],\n",
       "       [12.31 ]])"
      ]
     },
     "execution_count": 10,
     "metadata": {},
     "output_type": "execute_result"
    }
   ],
   "source": [
    "wines2=np.concatenate((wines2,newcol.T), axis=1)\n",
    "wines2.shape\n",
    "wines2[:,13:]"
   ]
  },
  {
   "cell_type": "code",
   "execution_count": 82,
   "metadata": {},
   "outputs": [
    {
     "name": "stdout",
     "output_type": "stream",
     "text": [
      "(1598, 12)\n",
      "(1598, 12)\n"
     ]
    },
    {
     "data": {
      "text/plain": [
       "(3196, 12)"
      ]
     },
     "execution_count": 82,
     "metadata": {},
     "output_type": "execute_result"
    }
   ],
   "source": [
    "#solution 1\n",
    "print(wines.shape)\n",
    "print(wines2.shape)\n",
    "wines3=np.vstack((wines,wines2))\n",
    "wines3.shape\n"
   ]
  },
  {
   "cell_type": "code",
   "execution_count": 76,
   "metadata": {},
   "outputs": [
    {
     "data": {
      "text/plain": [
       "array([[ 7.8  ,  0.88 ,  0.   , ...,  0.68 ,  9.8  ,  5.   ],\n",
       "       [ 7.8  ,  0.76 ,  0.04 , ...,  0.65 ,  9.8  ,  5.   ],\n",
       "       [11.2  ,  0.28 ,  0.56 , ...,  0.58 ,  9.8  ,  6.   ],\n",
       "       ...,\n",
       "       [ 6.3  ,  0.51 ,  0.13 , ...,  0.75 , 11.   ,  6.   ],\n",
       "       [ 5.9  ,  0.645,  0.12 , ...,  0.71 , 10.2  ,  5.   ],\n",
       "       [ 6.   ,  0.31 ,  0.47 , ...,  0.66 , 11.   ,  6.   ]])"
      ]
     },
     "execution_count": 76,
     "metadata": {},
     "output_type": "execute_result"
    }
   ],
   "source": [
    "#solution 2\n",
    "import numpy as np\n",
    "wines1 = np.append(wines, wines2, axis=0)\n",
    "wines1\n"
   ]
  },
  {
   "cell_type": "code",
   "execution_count": 79,
   "metadata": {},
   "outputs": [
    {
     "data": {
      "text/plain": [
       "(1598, 15)"
      ]
     },
     "execution_count": 79,
     "metadata": {},
     "output_type": "execute_result"
    }
   ],
   "source": [
    "newcol=wines[:,0] + wines[:,1]\n",
    "wines = np.insert(wines, 1, newcol, axis=1)\n",
    "wines.shape\n"
   ]
  },
  {
   "cell_type": "code",
   "execution_count": 56,
   "metadata": {},
   "outputs": [
    {
     "data": {
      "text/plain": [
       "array([5., 5., 5., ..., 6., 5., 6.])"
      ]
     },
     "execution_count": 56,
     "metadata": {},
     "output_type": "execute_result"
    }
   ],
   "source": [
    "#Q see those records where the quality of wine > 7\n",
    "#Q see good wines which are :\n",
    "#    5th column if > 2.5\n",
    "#    11th column < 4\n",
    "#Q change the quality of wines to 8 if column 11 > 5\n",
    "wines2[:, 11]"
   ]
  },
  {
   "cell_type": "code",
   "execution_count": 167,
   "metadata": {},
   "outputs": [
    {
     "data": {
      "text/plain": [
       "array([[8.3 , 0.05]])"
      ]
     },
     "execution_count": 167,
     "metadata": {},
     "output_type": "execute_result"
    }
   ],
   "source": [
    "#Qsee those records where the quality is > 6\n",
    "\n",
    "wines2[(wines2[:,11]> 6) & (wines2[:,3]>7)][1:2,3:5]\n"
   ]
  },
  {
   "cell_type": "code",
   "execution_count": 61,
   "metadata": {},
   "outputs": [
    {
     "data": {
      "text/plain": [
       "(1598, 25)"
      ]
     },
     "execution_count": 61,
     "metadata": {},
     "output_type": "execute_result"
    }
   ],
   "source": [
    "#Q2nd solution\n",
    "wines = np.insert(wines, 2, newcol, axis=1)\n",
    "wines.shape\n"
   ]
  },
  {
   "cell_type": "code",
   "execution_count": 62,
   "metadata": {},
   "outputs": [
    {
     "data": {
      "text/plain": [
       "array([[ 7.4   ,  0.7   ,  0.    ,  1.9   ,  0.076 , 11.    , 34.    ,\n",
       "         0.9978,  3.51  ,  0.56  ,  9.4   ,  5.    ],\n",
       "       [ 7.4   ,  0.66  ,  0.    ,  1.8   ,  0.075 , 13.    , 40.    ,\n",
       "         0.9978,  3.51  ,  0.56  ,  9.4   ,  5.    ]])"
      ]
     },
     "execution_count": 62,
     "metadata": {},
     "output_type": "execute_result"
    }
   ],
   "source": [
    "wines[4:6]"
   ]
  },
  {
   "cell_type": "code",
   "execution_count": 2,
   "metadata": {},
   "outputs": [
    {
     "data": {
      "text/plain": [
       "array([25., 15., 17., ..., 29., 32., 18.])"
      ]
     },
     "execution_count": 2,
     "metadata": {},
     "output_type": "execute_result"
    }
   ],
   "source": [
    "#see the quality column\n",
    "w=(wines[ 2 , 5])\n",
    "wines[:, 5 ]\n",
    "\n"
   ]
  },
  {
   "cell_type": "code",
   "execution_count": 17,
   "metadata": {},
   "outputs": [
    {
     "data": {
      "text/plain": [
       "array([[6.000e-02, 6.900e-02, 4.600e-01, 6.000e-01, 9.964e-01, 1.600e+00,\n",
       "        3.300e+00, 5.000e+00, 7.900e+00, 9.400e+00, 1.500e+01, 5.900e+01],\n",
       "       [0.000e+00, 6.500e-02, 4.700e-01, 6.500e-01, 9.946e-01, 1.200e+00,\n",
       "        3.390e+00, 7.000e+00, 7.300e+00, 1.000e+01, 1.500e+01, 2.100e+01],\n",
       "       [2.000e-02, 7.300e-02, 5.700e-01, 5.800e-01, 9.968e-01, 2.000e+00,\n",
       "        3.360e+00, 7.000e+00, 7.800e+00, 9.000e+00, 9.500e+00, 1.800e+01]])"
      ]
     },
     "execution_count": 17,
     "metadata": {},
     "output_type": "execute_result"
    }
   ],
   "source": [
    "np.sort(wines[6:9])"
   ]
  },
  {
   "cell_type": "code",
   "execution_count": null,
   "metadata": {},
   "outputs": [],
   "source": []
  },
  {
   "cell_type": "code",
   "execution_count": 4,
   "metadata": {},
   "outputs": [
    {
     "data": {
      "text/plain": [
       "array([[7.800e+00, 2.800e-01, 0.000e+00, 1.900e+00, 7.500e-02, 1.500e+01,\n",
       "        5.400e+01, 9.968e-01, 3.160e+00, 5.800e-01, 9.800e+00, 5.000e+00],\n",
       "       [7.800e+00, 7.600e-01, 4.000e-02, 2.300e+00, 9.200e-02, 1.700e+01,\n",
       "        6.000e+01, 9.970e-01, 3.200e+00, 6.500e-01, 9.800e+00, 5.000e+00],\n",
       "       [1.120e+01, 8.800e-01, 5.600e-01, 2.600e+00, 9.800e-02, 2.500e+01,\n",
       "        6.700e+01, 9.980e-01, 3.260e+00, 6.800e-01, 9.800e+00, 6.000e+00]])"
      ]
     },
     "execution_count": 4,
     "metadata": {},
     "output_type": "execute_result"
    }
   ],
   "source": [
    "wines1= np.sort(wines[0:3], axis =0)\n",
    "wines1"
   ]
  },
  {
   "cell_type": "code",
   "execution_count": 6,
   "metadata": {},
   "outputs": [
    {
     "name": "stdout",
     "output_type": "stream",
     "text": [
      "[[7.9  0.6  0.06 1.6 ]\n",
      " [7.3  0.65 0.   1.2 ]]\n"
     ]
    },
    {
     "data": {
      "text/plain": [
       "array([1.976, 2.698, 2.392, ..., 2.376, 2.075, 3.667])"
      ]
     },
     "execution_count": 6,
     "metadata": {},
     "output_type": "execute_result"
    }
   ],
   "source": [
    "print(wines[6:8,0:4])\n",
    "\n",
    "winesnewcol = np.array(wines[:,3] + wines[:, 4])\n",
    "\n",
    "print(np.shape(wines))\n",
    "np.shape(winesnewcol)"
   ]
  },
  {
   "cell_type": "code",
   "execution_count": 110,
   "metadata": {},
   "outputs": [
    {
     "name": "stdout",
     "output_type": "stream",
     "text": [
      "(1599, 12)\n"
     ]
    },
    {
     "data": {
      "text/plain": [
       "(1599,)"
      ]
     },
     "execution_count": 110,
     "metadata": {},
     "output_type": "execute_result"
    }
   ],
   "source": [
    "winesnewcol"
   ]
  },
  {
   "cell_type": "code",
   "execution_count": 11,
   "metadata": {},
   "outputs": [
    {
     "data": {
      "text/plain": [
       "array([[7.800e+00, 7.600e-01, 4.000e-02, 2.300e+00, 9.200e-02, 1.500e+01,\n",
       "        5.400e+01, 9.970e-01, 3.260e+00, 6.500e-01, 9.800e+00, 5.000e+00],\n",
       "       [7.400e+00, 6.600e-01, 0.000e+00, 1.800e+00, 7.500e-02, 1.300e+01,\n",
       "        4.000e+01, 9.978e-01, 3.510e+00, 5.600e-01, 9.400e+00, 5.000e+00],\n",
       "       [7.300e+00, 6.500e-01, 0.000e+00, 1.200e+00, 6.500e-02, 1.500e+01,\n",
       "        2.100e+01, 9.946e-01, 3.390e+00, 4.700e-01, 1.000e+01, 7.000e+00]])"
      ]
     },
     "execution_count": 11,
     "metadata": {},
     "output_type": "execute_result"
    }
   ],
   "source": [
    "\n",
    "#wines.astype(int)\n",
    "#print(wines)\n",
    "h=wines[(2,5,7) ,: ] \n",
    "\n"
   ]
  },
  {
   "cell_type": "code",
   "execution_count": 64,
   "metadata": {},
   "outputs": [
    {
     "name": "stdout",
     "output_type": "stream",
     "text": [
      "1.0\n"
     ]
    },
    {
     "data": {
      "text/plain": [
       "<Container object of 3 artists>"
      ]
     },
     "execution_count": 64,
     "metadata": {},
     "output_type": "execute_result"
    },
    {
     "data": {
      "image/png": "[encoded data removed]",
      "text/plain": [
       "<matplotlib.figure.Figure at 0x17961ea17b8>"
      ]
     },
     "metadata": {},
     "output_type": "display_data"
    }
   ],
   "source": [
    "from matplotlib import pyplot as plt\n",
    "m=wines[:, 5].min()\n",
    "x=wines[:,5].max()\n",
    "n=wines[:,5].mean()\n",
    "print(m)\n",
    "plt.bar([\"min\", \"max\", \"mean\"],[m,x,n], color=[\"red\", \"cyan\", \"blue\"] )\n",
    "\n",
    "\n"
   ]
  },
  {
   "cell_type": "code",
   "execution_count": 12,
   "metadata": {},
   "outputs": [
    {
     "name": "stdout",
     "output_type": "stream",
     "text": [
      "[11. 25. 17. 15. 17.]\n",
      "(5,)\n"
     ]
    },
    {
     "data": {
      "text/plain": [
       "array([], dtype=float64)"
      ]
     },
     "execution_count": 12,
     "metadata": {},
     "output_type": "execute_result"
    }
   ],
   "source": [
    "#returns single dimensional array\n",
    "x=wines[[0,1,3,7,11], 5]\n",
    "print(x)\n",
    "print(x.shape)\n",
    "\n",
    "np.array( [ ])"
   ]
  },
  {
   "cell_type": "code",
   "execution_count": 21,
   "metadata": {},
   "outputs": [
    {
     "name": "stdout",
     "output_type": "stream",
     "text": [
      "[[263 264 243 770]]\n",
      "[[ 98  87  78 263]\n",
      " [ 87  88  89 264]\n",
      " [ 56  89  98 243]\n",
      " [241 264 265 770]]\n"
     ]
    }
   ],
   "source": [
    "marks=np.array([[98,87,78],\n",
    "                [87,88,89],\n",
    "                [56,89,98]])\n",
    "\n",
    "rowsum=np.array(marks.sum(axis=1))\n",
    "colsum=np.array([marks.sum(axis=0)])\n",
    "marks=np.append(marks,[np.sum(marks,axis=0)],axis=0)\n",
    "\n",
    "col=np.array([np.sum(marks,axis=1)])\n",
    "print(col)\n",
    "marks=np.concatenate((marks,col.T),axis=1)\n",
    "print(marks)\n"
   ]
  },
  {
   "cell_type": "code",
   "execution_count": 171,
   "metadata": {},
   "outputs": [
    {
     "data": {
      "text/plain": [
       "array([[ 98,  87,  78],\n",
       "       [ 87,  88,  89],\n",
       "       [ 56,  89,  98],\n",
       "       [241, 264, 265],\n",
       "       [482, 528, 530],\n",
       "       [482, 528, 530]])"
      ]
     },
     "execution_count": 171,
     "metadata": {},
     "output_type": "execute_result"
    }
   ],
   "source": [
    "marks"
   ]
  },
  {
   "cell_type": "code",
   "execution_count": 158,
   "metadata": {},
   "outputs": [
    {
     "name": "stdout",
     "output_type": "stream",
     "text": [
      "(1, 3)\n"
     ]
    },
    {
     "data": {
      "text/plain": [
       "numpy.ndarray"
      ]
     },
     "execution_count": 158,
     "metadata": {},
     "output_type": "execute_result"
    }
   ],
   "source": [
    "m=np.array([marks.sum(axis=1)])\n",
    "print(m.shape)\n",
    "m.ndim\n",
    "newmarks=np.concatenate((marks,m.T), axis=1)\n",
    "#w=np.array([wines[:, 10 ] * wines[:,11]])\n",
    "type(w)\n",
    "\n",
    "np.append(arr, np.sum(newarray,axis=0), axis=0)"
   ]
  },
  {
   "cell_type": "code",
   "execution_count": 159,
   "metadata": {},
   "outputs": [
    {
     "data": {
      "text/plain": [
       "array([[ 98,  87,  78, 263],\n",
       "       [ 87,  88,  89, 264],\n",
       "       [ 56,  89,  98, 243]])"
      ]
     },
     "execution_count": 159,
     "metadata": {},
     "output_type": "execute_result"
    }
   ],
   "source": [
    "newmarks"
   ]
  },
  {
   "cell_type": "code",
   "execution_count": 49,
   "metadata": {},
   "outputs": [
    {
     "data": {
      "text/plain": [
       "array([[1, 4],\n",
       "       [2, 5],\n",
       "       [3, 6]])"
      ]
     },
     "execution_count": 49,
     "metadata": {},
     "output_type": "execute_result"
    }
   ],
   "source": [
    "a=np.array([[1,2,3],\n",
    "        [4,5,6]])\n",
    "a.T\n"
   ]
  },
  {
   "cell_type": "code",
   "execution_count": 132,
   "metadata": {},
   "outputs": [
    {
     "name": "stdout",
     "output_type": "stream",
     "text": [
      "shape is: (1, 1598)\n",
      "<class 'numpy.ndarray'>\n"
     ]
    },
    {
     "data": {
      "text/plain": [
       "(1598, 13)"
      ]
     },
     "execution_count": 132,
     "metadata": {},
     "output_type": "execute_result"
    }
   ],
   "source": [
    "volacidity_quality= np.array([wines[:,11]+ wines[:,1]])\n",
    "print(\"shape is:\",volacidity_quality.shape)\n",
    "print(type(volacidity_quality))\n",
    "wines=np.concatenate((wines, volacidity_quality.T),axis=1)\n",
    "wines\n",
    "wines.shape"
   ]
  },
  {
   "cell_type": "code",
   "execution_count": 118,
   "metadata": {},
   "outputs": [],
   "source": [
    "#Q extract good wines, good wines are where the quality > 5 and alcohol > 9\n",
    "#quality col 11\n",
    "#alcohol col 10\n",
    "\n",
    "good_quality_wine = wines [(wines[:, 11 ] > 5) & (wines[:, 10] > 11)]\n"
   ]
  },
  {
   "cell_type": "code",
   "execution_count": 120,
   "metadata": {},
   "outputs": [
    {
     "data": {
      "text/plain": [
       "(346, 13)"
      ]
     },
     "execution_count": 120,
     "metadata": {},
     "output_type": "execute_result"
    }
   ],
   "source": [
    "good_quality_wine.shape"
   ]
  },
  {
   "cell_type": "code",
   "execution_count": 66,
   "metadata": {},
   "outputs": [
    {
     "data": {
      "text/plain": [
       "array([[47., 49., 49., ..., 66., 51., 66.]])"
      ]
     },
     "execution_count": 66,
     "metadata": {},
     "output_type": "execute_result"
    }
   ],
   "source": [
    "# multiply alcohol by quality\n",
    "#10th and 11th\n",
    "w=np.array([wines[:, 10 ] * wines[:,11]])\n",
    "w"
   ]
  },
  {
   "cell_type": "code",
   "execution_count": 131,
   "metadata": {},
   "outputs": [],
   "source": [
    "a=np.concatenate((wines, w.T), axis=1)"
   ]
  },
  {
   "cell_type": "code",
   "execution_count": 179,
   "metadata": {},
   "outputs": [
    {
     "data": {
      "text/plain": [
       "array([[11.2 ,  0.28,  0.56, ...,  0.58,  9.8 ,  6.  ],\n",
       "       [ 7.3 ,  0.65,  0.  , ...,  0.47, 10.  ,  7.  ],\n",
       "       [ 7.8 ,  0.58,  0.02, ...,  0.57,  9.5 ,  7.  ],\n",
       "       ...,\n",
       "       [ 5.9 ,  0.55,  0.1 , ...,  0.76, 11.2 ,  6.  ],\n",
       "       [ 6.3 ,  0.51,  0.13, ...,  0.75, 11.  ,  6.  ],\n",
       "       [ 6.  ,  0.31,  0.47, ...,  0.66, 11.  ,  6.  ]])"
      ]
     },
     "execution_count": 179,
     "metadata": {},
     "output_type": "execute_result"
    }
   ],
   "source": [
    "wines2[ (wines2[:,11] > 5) & (wines2[:,10] > 9)]"
   ]
  },
  {
   "cell_type": "code",
   "execution_count": 87,
   "metadata": {},
   "outputs": [
    {
     "data": {
      "text/plain": [
       "(346, 12)"
      ]
     },
     "execution_count": 87,
     "metadata": {},
     "output_type": "execute_result"
    }
   ],
   "source": [
    "qual_gt_5 = wines[ (wines[:,11] > 5) & (wines[:,10]>11) ]\n",
    "qual_gt_5.shape"
   ]
  },
  {
   "cell_type": "code",
   "execution_count": 54,
   "metadata": {},
   "outputs": [
    {
     "data": {
      "text/plain": [
       "(1599, 15)"
      ]
     },
     "execution_count": 54,
     "metadata": {},
     "output_type": "execute_result"
    }
   ],
   "source": [
    "newcol = np.array([wines[:, 11]+wines[:,12 ]])\n",
    "\n",
    "\n",
    "wines =np.concatenate((wines, newcol.T), axis=1)\n",
    "wines.shape\n",
    "#wines =np.concatenate((wines, w), axis=0)"
   ]
  },
  {
   "cell_type": "code",
   "execution_count": 63,
   "metadata": {},
   "outputs": [
    {
     "name": "stdout",
     "output_type": "stream",
     "text": [
      "[[10. 10. 10. ... 12. 10. 12.]]\n",
      "(1, 1599)\n"
     ]
    },
    {
     "data": {
      "text/plain": [
       "array([10., 10., 10., ..., 12., 10., 12.])"
      ]
     },
     "execution_count": 63,
     "metadata": {},
     "output_type": "execute_result"
    }
   ],
   "source": [
    "#add the quality column to itself,\n",
    "#to make it of same dimension\n",
    "\n",
    "y=np.array([wines[:,11] + wines[:,11]])\n",
    "y\n",
    "print(y)\n",
    "print(y.shape)\n",
    "#then add column to array\n",
    "wines=np.concatenate((wines,y.T),axis=1)\n",
    "#wines[1:4,8:]\n",
    "\n",
    "#find the rowwise and colwise sum of numpy array"
   ]
  },
  {
   "cell_type": "code",
   "execution_count": 70,
   "metadata": {},
   "outputs": [
    {
     "data": {
      "text/plain": [
       "array([5., 5., 5., ..., 6., 5., 6.])"
      ]
     },
     "execution_count": 70,
     "metadata": {},
     "output_type": "execute_result"
    }
   ],
   "source": [
    "wines[:,11]"
   ]
  },
  {
   "cell_type": "code",
   "execution_count": 17,
   "metadata": {},
   "outputs": [
    {
     "data": {
      "text/plain": [
       "array([False, False, False, ..., False, False, False])"
      ]
     },
     "execution_count": 17,
     "metadata": {},
     "output_type": "execute_result"
    }
   ],
   "source": [
    "h= (wines[:,0]>2) & (wines[:, 7] >2)\n",
    "h"
   ]
  },
  {
   "cell_type": "code",
   "execution_count": 133,
   "metadata": {},
   "outputs": [
    {
     "name": "stdout",
     "output_type": "stream",
     "text": [
      "(1598,)\n"
     ]
    },
    {
     "data": {
      "text/plain": [
       "array([[7.9000e+00, 3.5000e-01, 4.6000e-01, 3.6000e+00, 7.8000e-02,\n",
       "        1.5000e+01, 3.7000e+01, 9.9730e-01, 3.3500e+00, 8.6000e-01,\n",
       "        1.2800e+01, 8.0000e+00, 8.3500e+00],\n",
       "       [1.0300e+01, 3.2000e-01, 4.5000e-01, 6.4000e+00, 7.3000e-02,\n",
       "        5.0000e+00, 1.3000e+01, 9.9760e-01, 3.2300e+00, 8.2000e-01,\n",
       "        1.2600e+01, 8.0000e+00, 8.3200e+00],\n",
       "       [5.6000e+00, 8.5000e-01, 5.0000e-02, 1.4000e+00, 4.5000e-02,\n",
       "        1.2000e+01, 8.8000e+01, 9.9240e-01, 3.5600e+00, 8.2000e-01,\n",
       "        1.2900e+01, 8.0000e+00, 8.8500e+00],\n",
       "       [1.1300e+01, 6.2000e-01, 6.7000e-01, 5.2000e+00, 8.6000e-02,\n",
       "        6.0000e+00, 1.9000e+01, 9.9880e-01, 3.2200e+00, 6.9000e-01,\n",
       "        1.3400e+01, 8.0000e+00, 8.6200e+00],\n",
       "       [9.4000e+00, 3.0000e-01, 5.6000e-01, 2.8000e+00, 8.0000e-02,\n",
       "        6.0000e+00, 1.7000e+01, 9.9640e-01, 3.1500e+00, 9.2000e-01,\n",
       "        1.1700e+01, 8.0000e+00, 8.3000e+00],\n",
       "       [1.0700e+01, 3.5000e-01, 5.3000e-01, 2.6000e+00, 7.0000e-02,\n",
       "        5.0000e+00, 1.6000e+01, 9.9720e-01, 3.1500e+00, 6.5000e-01,\n",
       "        1.1000e+01, 8.0000e+00, 8.3500e+00],\n",
       "       [1.0700e+01, 3.5000e-01, 5.3000e-01, 2.6000e+00, 7.0000e-02,\n",
       "        5.0000e+00, 1.6000e+01, 9.9720e-01, 3.1500e+00, 6.5000e-01,\n",
       "        1.1000e+01, 8.0000e+00, 8.3500e+00],\n",
       "       [5.0000e+00, 4.2000e-01, 2.4000e-01, 2.0000e+00, 6.0000e-02,\n",
       "        1.9000e+01, 5.0000e+01, 9.9170e-01, 3.7200e+00, 7.4000e-01,\n",
       "        1.4000e+01, 8.0000e+00, 8.4200e+00],\n",
       "       [7.8000e+00, 5.7000e-01, 9.0000e-02, 2.3000e+00, 6.5000e-02,\n",
       "        3.4000e+01, 4.5000e+01, 9.9417e-01, 3.4600e+00, 7.4000e-01,\n",
       "        1.2700e+01, 8.0000e+00, 8.5700e+00],\n",
       "       [9.1000e+00, 4.0000e-01, 5.0000e-01, 1.8000e+00, 7.1000e-02,\n",
       "        7.0000e+00, 1.6000e+01, 9.9462e-01, 3.2100e+00, 6.9000e-01,\n",
       "        1.2500e+01, 8.0000e+00, 8.4000e+00],\n",
       "       [1.0000e+01, 2.6000e-01, 5.4000e-01, 1.9000e+00, 8.3000e-02,\n",
       "        4.2000e+01, 7.4000e+01, 9.9451e-01, 2.9800e+00, 6.3000e-01,\n",
       "        1.1800e+01, 8.0000e+00, 8.2600e+00],\n",
       "       [7.9000e+00, 5.4000e-01, 3.4000e-01, 2.5000e+00, 7.6000e-02,\n",
       "        8.0000e+00, 1.7000e+01, 9.9235e-01, 3.2000e+00, 7.2000e-01,\n",
       "        1.3100e+01, 8.0000e+00, 8.5400e+00],\n",
       "       [8.6000e+00, 4.2000e-01, 3.9000e-01, 1.8000e+00, 6.8000e-02,\n",
       "        6.0000e+00, 1.2000e+01, 9.9516e-01, 3.3500e+00, 6.9000e-01,\n",
       "        1.1700e+01, 8.0000e+00, 8.4200e+00],\n",
       "       [5.5000e+00, 4.9000e-01, 3.0000e-02, 1.8000e+00, 4.4000e-02,\n",
       "        2.8000e+01, 8.7000e+01, 9.9080e-01, 3.5000e+00, 8.2000e-01,\n",
       "        1.4000e+01, 8.0000e+00, 8.4900e+00],\n",
       "       [7.2000e+00, 3.8000e-01, 3.1000e-01, 2.0000e+00, 5.6000e-02,\n",
       "        1.5000e+01, 2.9000e+01, 9.9472e-01, 3.2300e+00, 7.6000e-01,\n",
       "        1.1300e+01, 8.0000e+00, 8.3800e+00],\n",
       "       [7.4000e+00, 3.6000e-01, 3.0000e-01, 1.8000e+00, 7.4000e-02,\n",
       "        1.7000e+01, 2.4000e+01, 9.9419e-01, 3.2400e+00, 7.0000e-01,\n",
       "        1.1400e+01, 8.0000e+00, 8.3600e+00]])"
      ]
     },
     "execution_count": 133,
     "metadata": {},
     "output_type": "execute_result"
    }
   ],
   "source": [
    "\n",
    "high_quality_and_alcohol = (wines[:,10] > 10) & (wines[:,11] > 7)\n",
    "print(high_quality_and_alcohol.shape)\n",
    "w=wines[high_quality_and_alcohol]\n",
    "w\n",
    "\n",
    "#wines[high_quality_and_alcohol,10:]"
   ]
  },
  {
   "cell_type": "code",
   "execution_count": 141,
   "metadata": {},
   "outputs": [
    {
     "name": "stdout",
     "output_type": "stream",
     "text": [
      "[[49.  49.  58.8 ... 66.  51.  66. ]]\n",
      "(1, 1598)\n"
     ]
    },
    {
     "data": {
      "text/plain": [
       "array([[ 0.65,  9.8 ,  5.  , 49.  , 49.  , 49.  ],\n",
       "       [ 0.58,  9.8 ,  6.  , 58.8 , 58.8 , 58.8 ],\n",
       "       [ 0.56,  9.4 ,  5.  , 47.  , 47.  , 47.  ],\n",
       "       [ 0.56,  9.4 ,  5.  , 47.  , 47.  , 47.  ],\n",
       "       [ 0.46,  9.4 ,  5.  , 47.  , 47.  , 47.  ],\n",
       "       [ 0.47, 10.  ,  7.  , 70.  , 70.  , 70.  ],\n",
       "       [ 0.57,  9.5 ,  7.  , 66.5 , 66.5 , 66.5 ],\n",
       "       [ 0.8 , 10.5 ,  5.  , 52.5 , 52.5 , 52.5 ],\n",
       "       [ 0.54,  9.2 ,  5.  , 46.  , 46.  , 46.  ],\n",
       "       [ 0.8 , 10.5 ,  5.  , 52.5 , 52.5 , 52.5 ],\n",
       "       [ 0.52,  9.9 ,  5.  , 49.5 , 49.5 , 49.5 ],\n",
       "       [ 1.56,  9.1 ,  5.  , 45.5 , 45.5 , 45.5 ],\n",
       "       [ 0.88,  9.2 ,  5.  , 46.  , 46.  , 46.  ],\n",
       "       [ 0.93,  9.2 ,  5.  , 46.  , 46.  , 46.  ],\n",
       "       [ 0.75, 10.5 ,  7.  , 73.5 , 73.5 , 73.5 ],\n",
       "       [ 1.28,  9.3 ,  5.  , 46.5 , 46.5 , 46.5 ],\n",
       "       [ 0.5 ,  9.  ,  4.  , 36.  , 36.  , 36.  ],\n",
       "       [ 1.08,  9.2 ,  6.  , 55.2 , 55.2 , 55.2 ],\n",
       "       [ 0.53,  9.4 ,  6.  , 56.4 , 56.4 , 56.4 ]])"
      ]
     },
     "execution_count": 141,
     "metadata": {},
     "output_type": "execute_result"
    }
   ],
   "source": [
    "#multiply alcohol by quality, and select the wine with the highest score:\n",
    "#data analytics\n",
    "\n",
    "y=np.array([wines[:,11] * wines[:,10]])\n",
    "y\n",
    "print(y)\n",
    "\n",
    "print(y.shape)\n",
    "#then add column to array\n",
    "\n",
    "\n",
    "wines=np.concatenate((wines,y.T),axis=1)\n",
    "wines[1:20, 9:]\n",
    "\n",
    "\n",
    "#wines[479: 481, 3]"
   ]
  },
  {
   "cell_type": "code",
   "execution_count": 96,
   "metadata": {},
   "outputs": [
    {
     "name": "stdout",
     "output_type": "stream",
     "text": [
      "mean is  9.544825\n"
     ]
    }
   ],
   "source": [
    "wines[:,3].min()\n",
    "wines.mean()\n",
    "print(\"mean is \"  ,wines[2:5,:8].mean())"
   ]
  },
  {
   "cell_type": "code",
   "execution_count": null,
   "metadata": {},
   "outputs": [],
   "source": []
  },
  {
   "cell_type": "code",
   "execution_count": null,
   "metadata": {},
   "outputs": [],
   "source": []
  },
  {
   "cell_type": "code",
   "execution_count": 6,
   "metadata": {},
   "outputs": [
    {
     "name": "stdout",
     "output_type": "stream",
     "text": [
      "(1598, 13)\n",
      "[0.38639187 0.12659264 0.97774564 0.39549822 0.49304762 0.78949102\n",
      " 0.0825375  0.54650336 0.72902037 0.04433062 0.76573441 0.079778\n",
      " 0.6587109 ]\n",
      "[ 6.38639187  6.43659264  1.28774564  0.86549822  4.09304762  0.85649102\n",
      " 18.0825375  42.54650336  1.72451037  3.43433062  1.42573441 11.079778\n",
      "  6.6587109 ]\n",
      "(1598, 13)\n"
     ]
    }
   ],
   "source": [
    "#broadcasting\n",
    "print(wines.shape)\n",
    "\n",
    "rand_array1 = np.random.rand(13)\n",
    "print(rand_array1)\n",
    "wines=wines + rand_array1\n",
    "print(wines[1597])\n",
    "print(wines.shape)"
   ]
  },
  {
   "cell_type": "code",
   "execution_count": 149,
   "metadata": {},
   "outputs": [
    {
     "name": "stdout",
     "output_type": "stream",
     "text": [
      "20.869170867362886\n"
     ]
    },
    {
     "data": {
      "text/plain": [
       "25.77307514077555"
      ]
     },
     "execution_count": 149,
     "metadata": {},
     "output_type": "execute_result"
    }
   ],
   "source": [
    "print(wines[0].mean())\n",
    "wines[-1].std()"
   ]
  },
  {
   "cell_type": "code",
   "execution_count": 100,
   "metadata": {},
   "outputs": [
    {
     "name": "stdout",
     "output_type": "stream",
     "text": [
      "[[  1   2   3  44  50]\n",
      " [  4   5   6   7  22]\n",
      " [  8   9  10  11  38]\n",
      " [ 13  16  19  62 110]]\n"
     ]
    }
   ],
   "source": [
    "newarray=np.array([[1,2,3,44],    \n",
    "                   [4,5,6,7],     \n",
    "                   [8,9,10,11]])   \n",
    "rowwise_sum=np.array(newarray.sum(axis=1))\n",
    "colwise_sum=np.array(newarray.sum(axis=0))\n",
    "#This adds the row\n",
    "newarray=np.append(newarray,[np.sum(newarray,axis=0)],axis=0)\n",
    "#or \n",
    "#newarray=np.append(newarray,[colwise_sum],axis=0)\n",
    "col=np.array([np.sum(newarray,axis=1)])\n",
    "#Finally we add the column\n",
    "newarray=np.concatenate((newarray,col.T),axis=1)\n",
    "#newarray = np.append(wines, newarray.reshape(1599,1),axis=1)\n",
    "print(newarray)\n"
   ]
  },
  {
   "cell_type": "code",
   "execution_count": 101,
   "metadata": {},
   "outputs": [
    {
     "name": "stdout",
     "output_type": "stream",
     "text": [
      "13.461473959712748\n"
     ]
    }
   ],
   "source": [
    "#sum one column\n",
    "\n",
    "print(wines[11:13,(4,7,8)].sum())"
   ]
  },
  {
   "cell_type": "code",
   "execution_count": 102,
   "metadata": {},
   "outputs": [
    {
     "name": "stdout",
     "output_type": "stream",
     "text": [
      "[ 24.58786201   3.95736687   1.99688082   9.37701786   1.42312966\n",
      "  51.97161284 155.6733875    5.50147973  12.87205155   4.36380773\n",
      "  29.23223965  17.75884833  18.56303489  18.57493101]\n"
     ]
    }
   ],
   "source": [
    "\n",
    "#sum all columns of three rows\n",
    "a1=np.array(wines[0:3].sum(axis=0))\n",
    "print(a1)\n",
    "#same but adds all rows\n",
    "#a=wines.sum(axis=-2)\n",
    "#print(a)\n",
    "\n",
    "\n"
   ]
  },
  {
   "cell_type": "code",
   "execution_count": 103,
   "metadata": {},
   "outputs": [
    {
     "name": "stdout",
     "output_type": "stream",
     "text": [
      "(1599,)\n",
      "[ 93.90248348 142.77348348 119.17768348 ... 121.46042348 124.46415348\n",
      " 113.07117348]\n",
      "[142.77348348 119.17768348 132.07168348  93.90248348]\n",
      "(1599,)\n"
     ]
    }
   ],
   "source": [
    "#adding rowwise\n",
    "a=wines.sum(axis=1)\n",
    "print(a.shape)\n",
    "print(a)\n",
    "#adding rowwise sum of row 1 to 4\n",
    "ab=wines[1:5].sum(axis=1)\n",
    "print(ab)\n",
    "#check the shape\n",
    "#wines.sum(axis=0).shape\n",
    "print(a.shape)"
   ]
  },
  {
   "cell_type": "code",
   "execution_count": 104,
   "metadata": {},
   "outputs": [
    {
     "name": "stdout",
     "output_type": "stream",
     "text": [
      "a is   [ 93.90248348 142.77348348 119.17768348 ... 121.46042348 124.46415348\n",
      " 113.07117348]\n",
      "(1599,) \n",
      "\n",
      "(1599,)\n",
      "(1599, 14)\n"
     ]
    }
   ],
   "source": [
    "#with axis=1, sum of each row:\n",
    "a=np.array(wines.sum(axis=1))\n",
    "print(\"a is  \", a)\n",
    "print(a.shape,\"\\n\")\n",
    "#wines = np.vstack ((wines, a) )\n",
    "print(a.shape)\n",
    "print(wines.shape)\n"
   ]
  },
  {
   "cell_type": "code",
   "execution_count": 105,
   "metadata": {},
   "outputs": [
    {
     "name": "stdout",
     "output_type": "stream",
     "text": [
      "[]\n"
     ]
    }
   ],
   "source": [
    "#This adds the row\n",
    "wines=np.append(wines,[np.sum(wines,axis=0)],axis=0)\n",
    "#This calculates the column\n",
    "col=np.array([np.sum(wines,axis=1)])\n",
    "#Finally we add the column\n",
    "wines=np.concatenate((wines,col.T),axis=1)\n",
    "print(wines[1597:,17:])"
   ]
  },
  {
   "cell_type": "code",
   "execution_count": 357,
   "metadata": {},
   "outputs": [
    {
     "name": "stdout",
     "output_type": "stream",
     "text": [
      "[[  0.   2.   4.   6.  12.]\n",
      " [  1.   3.   5.   7.  16.]\n",
      " [  2.   4.   6.   8.  20.]\n",
      " [  3.   5.   7.   9.  24.]\n",
      " [  4.   6.   8.  10.  28.]\n",
      " [ 10.  20.  30.  40. 100.]]\n"
     ]
    }
   ],
   "source": [
    "n=5\n",
    "k=4\n",
    "a=np.zeros([n,k])\n",
    "for i in range(n):\n",
    "    for j in range(k):\n",
    "        a[i][j]=i+2*j\n",
    "#rowwise colwise sum to be added\n",
    "#This adds the row\n",
    "a=np.append(a,[np.sum(a,axis=0)],axis=0)\n",
    "#This calculates the column\n",
    "col=np.array([np.sum(a,axis=1)])\n",
    "#Finally we add the column\n",
    "a=np.concatenate((a,col.T),axis=1)\n",
    "print(a)"
   ]
  },
  {
   "cell_type": "code",
   "execution_count": 106,
   "metadata": {},
   "outputs": [
    {
     "name": "stdout",
     "output_type": "stream",
     "text": [
      "b is \n",
      " [ 16.25857467   2.65824458   1.30458721   6.21801191   0.94541978\n",
      "  36.64774189 101.448925     3.66785315   8.64470103   2.88920516\n",
      "  19.35482643  11.83923222  12.39535659  12.40328734 236.67596697]\n",
      "(15,)\n",
      "c is \n",
      " [187.80496697 285.54696697]\n",
      "(2,)\n"
     ]
    }
   ],
   "source": [
    "#if axis =0 columnwise\n",
    "b=wines[0:2,:].sum(axis=0)\n",
    "print(\"b is \\n\", b)\n",
    "print(b.shape)\n",
    "#if axis =1 rowwise\n",
    "c=wines[0:2,:].sum(axis=1)\n",
    "print(\"c is \\n\", c)\n",
    "print(c.shape)"
   ]
  },
  {
   "cell_type": "code",
   "execution_count": 107,
   "metadata": {},
   "outputs": [
    {
     "data": {
      "text/plain": [
       "array([7.91961611e+00, 7.91961611e+00, 7.91961611e+00, 7.91961611e+00,\n",
       "       7.91961611e+00, 7.91961611e+00, 7.91961611e+00, 7.91961611e+00,\n",
       "       7.91961611e+00, 7.91961611e+00, 7.91961611e+00, 7.91961611e+00,\n",
       "       7.91961611e+00, 7.91961611e+00, 7.91961611e+00, 8.91961611e+00,\n",
       "       8.91961611e+00, 7.91961611e+00, 7.91961611e+00, 7.91961611e+00,\n",
       "       7.91961611e+00, 7.91961611e+00, 7.91961611e+00, 7.91961611e+00,\n",
       "       7.91961611e+00, 7.91961611e+00, 7.91961611e+00, 7.91961611e+00,\n",
       "       7.91961611e+00, 7.91961611e+00, 7.91961611e+00, 7.91961611e+00,\n",
       "       7.91961611e+00, 7.91961611e+00, 7.91961611e+00, 7.91961611e+00,\n",
       "       7.91961611e+00, 8.91961611e+00, 7.91961611e+00, 7.91961611e+00,\n",
       "       7.91961611e+00, 7.91961611e+00, 7.91961611e+00, 7.91961611e+00,\n",
       "       7.91961611e+00, 7.91961611e+00, 8.91961611e+00, 7.91961611e+00,\n",
       "       7.91961611e+00, 7.91961611e+00, 7.91961611e+00, 8.91961611e+00,\n",
       "       7.91961611e+00, 8.91961611e+00, 7.91961611e+00, 7.91961611e+00,\n",
       "       7.91961611e+00, 8.91961611e+00, 8.91961611e+00, 7.91961611e+00,\n",
       "       7.91961611e+00, 7.91961611e+00, 7.91961611e+00, 7.91961611e+00,\n",
       "       7.91961611e+00, 7.91961611e+00, 7.91961611e+00, 7.91961611e+00,\n",
       "       7.91961611e+00, 7.91961611e+00, 7.91961611e+00, 7.91961611e+00,\n",
       "       8.91961611e+00, 7.91961611e+00, 7.91961611e+00, 7.91961611e+00,\n",
       "       7.91961611e+00, 7.91961611e+00, 7.91961611e+00, 7.91961611e+00,\n",
       "       7.91961611e+00, 7.91961611e+00, 8.91961611e+00, 7.91961611e+00,\n",
       "       7.91961611e+00, 7.91961611e+00, 7.91961611e+00, 7.91961611e+00,\n",
       "       7.91961611e+00, 7.91961611e+00, 7.91961611e+00, 7.91961611e+00,\n",
       "       7.91961611e+00, 7.91961611e+00, 7.91961611e+00, 7.91961611e+00,\n",
       "       7.91961611e+00, 7.91961611e+00, 7.91961611e+00, 7.91961611e+00,\n",
       "       7.91961611e+00, 7.91961611e+00, 7.91961611e+00, 7.91961611e+00,\n",
       "       7.91961611e+00, 7.91961611e+00, 7.91961611e+00, 7.91961611e+00,\n",
       "       7.91961611e+00, 7.91961611e+00, 7.91961611e+00, 7.91961611e+00,\n",
       "       7.91961611e+00, 7.91961611e+00, 7.91961611e+00, 7.91961611e+00,\n",
       "       7.91961611e+00, 7.91961611e+00, 7.91961611e+00, 7.91961611e+00,\n",
       "       7.91961611e+00, 7.91961611e+00, 7.91961611e+00, 7.91961611e+00,\n",
       "       7.91961611e+00, 7.91961611e+00, 7.91961611e+00, 7.91961611e+00,\n",
       "       7.91961611e+00, 7.91961611e+00, 7.91961611e+00, 7.91961611e+00,\n",
       "       7.91961611e+00, 7.91961611e+00, 7.91961611e+00, 7.91961611e+00,\n",
       "       7.91961611e+00, 7.91961611e+00, 7.91961611e+00, 7.91961611e+00,\n",
       "       8.91961611e+00, 7.91961611e+00, 7.91961611e+00, 7.91961611e+00,\n",
       "       7.91961611e+00, 7.91961611e+00, 7.91961611e+00, 7.91961611e+00,\n",
       "       8.91961611e+00, 7.91961611e+00, 7.91961611e+00, 7.91961611e+00,\n",
       "       7.91961611e+00, 8.91961611e+00, 7.91961611e+00, 7.91961611e+00,\n",
       "       7.91961611e+00, 7.91961611e+00, 7.91961611e+00, 7.91961611e+00,\n",
       "       7.91961611e+00, 7.91961611e+00, 7.91961611e+00, 7.91961611e+00,\n",
       "       7.91961611e+00, 7.91961611e+00, 7.91961611e+00, 8.91961611e+00,\n",
       "       7.91961611e+00, 7.91961611e+00, 7.91961611e+00, 7.91961611e+00,\n",
       "       7.91961611e+00, 7.91961611e+00, 8.91961611e+00, 7.91961611e+00,\n",
       "       7.91961611e+00, 7.91961611e+00, 7.91961611e+00, 7.91961611e+00,\n",
       "       7.91961611e+00, 7.91961611e+00, 8.91961611e+00, 7.91961611e+00,\n",
       "       7.91961611e+00, 7.91961611e+00, 7.91961611e+00, 7.91961611e+00,\n",
       "       7.91961611e+00, 7.91961611e+00, 7.91961611e+00, 7.91961611e+00,\n",
       "       7.91961611e+00, 7.91961611e+00, 7.91961611e+00, 8.91961611e+00,\n",
       "       7.91961611e+00, 7.91961611e+00, 1.04824662e+04])"
      ]
     },
     "execution_count": 107,
     "metadata": {},
     "output_type": "execute_result"
    }
   ],
   "source": [
    "x1= wines[(wines[:,11]>7) & (wines[:,5]>5)]\n",
    "x1[:,11]"
   ]
  },
  {
   "cell_type": "code",
   "execution_count": 108,
   "metadata": {},
   "outputs": [
    {
     "name": "stdout",
     "output_type": "stream",
     "text": [
      "Quality wise wine : {'quality7': 1600, 'quality8': 1600, 'quality6': 1600, 'quality5': 1600}\n"
     ]
    }
   ],
   "source": [
    "#comparison operators\n",
    "#to see which wines have a quality rating higher than 5, we can do this:\n",
    "#print(wines[:,11] > 5)\n",
    "\n",
    "#to see if any wines have a quality rating equal to 10:\n",
    "x=wines[wines[:,11] ==5] \n",
    "x.size\n",
    "#x.shape\n",
    "#fancy indexing\n",
    "\n",
    "\n",
    "s7= wines[:,11] ==7\n",
    "s8= wines[:,11] ==8\n",
    "s6= wines[:,11] ==6\n",
    "s5= wines[:,11] ==5\n",
    "     \n",
    "s7\n",
    "#['False','True', 'False'........]\n",
    "d={}\n",
    "d['quality7'] = s7.size\n",
    "d['quality8'] = s8.size\n",
    "d['quality6'] = s6.size\n",
    "d['quality5'] = s5.size\n",
    "print(\"Quality wise wine :\", d)\n"
   ]
  },
  {
   "cell_type": "code",
   "execution_count": 96,
   "metadata": {},
   "outputs": [
    {
     "data": {
      "text/plain": [
       "array([[ 7.4  ,  0.7  ,  0.   , ...,  0.56 ,  9.4  ,  8.   ],\n",
       "       [ 7.8  ,  0.88 ,  0.   , ...,  0.68 ,  9.8  ,  8.   ],\n",
       "       [ 7.8  ,  0.76 ,  0.04 , ...,  0.65 ,  9.8  ,  8.   ],\n",
       "       ...,\n",
       "       [ 6.3  ,  0.51 ,  0.13 , ..., 10.   , 10.   , 10.   ],\n",
       "       [ 5.9  ,  0.645,  0.12 , ..., 10.   , 10.   , 10.   ],\n",
       "       [ 6.   ,  0.31 ,  0.47 , ..., 10.   , 10.   , 10.   ]])"
      ]
     },
     "execution_count": 96,
     "metadata": {},
     "output_type": "execute_result"
    }
   ],
   "source": [
    "wines[1596:, 8:]=10\n",
    "wines[1596:,8:11]\n",
    "wines"
   ]
  },
  {
   "cell_type": "code",
   "execution_count": 109,
   "metadata": {},
   "outputs": [
    {
     "name": "stdout",
     "output_type": "stream",
     "text": [
      "[False False False ... False False  True]\n",
      "\n",
      "\n",
      "\n"
     ]
    },
    {
     "data": {
      "text/plain": [
       "<function print>"
      ]
     },
     "execution_count": 109,
     "metadata": {},
     "output_type": "execute_result"
    }
   ],
   "source": [
    "#subsetting\n",
    "#only select rows in wines where the quality is over 7:\n",
    "#anaysing\n",
    "\n",
    "high_quality = wines[:,11] > 7 \n",
    "print(high_quality)\n",
    "\n",
    "print(\"\\n\\n\")\n",
    "#shows all the rows where the value is true along with all the columns\n",
    "print\n",
    "\n"
   ]
  },
  {
   "cell_type": "code",
   "execution_count": 110,
   "metadata": {},
   "outputs": [
    {
     "data": {
      "text/plain": [
       "array([[  7.82928734,   1.18912229,   0.65229361,   2.05900595,\n",
       "          0.45070989,  15.32387095,  21.2244625 ,   1.83122658,\n",
       "          4.35735052,   1.29460258,  10.07741322,   7.91961611,\n",
       "          8.0576783 ,   8.06164367,  90.32828348],\n",
       "       [  8.32928734,   1.11912229,   0.67229361,   2.85900595,\n",
       "          0.45870989,   9.32387095,  18.2244625 ,   1.83342658,\n",
       "          4.32735052,   1.39460258,   9.57741322,   7.91961611,\n",
       "          7.9876783 ,   7.99164367,  82.01848348],\n",
       "       [  9.02928734,   0.81912229,   1.21229361,   2.65900595,\n",
       "          0.47770989,  35.32387095, 103.2244625 ,   1.83352658,\n",
       "          4.26735052,   1.57460258,  10.57741322,   7.91961611,\n",
       "          7.6876783 ,   7.69164367, 194.29758348]])"
      ]
     },
     "execution_count": 110,
     "metadata": {},
     "output_type": "execute_result"
    }
   ],
   "source": [
    "#print(wines[high_quality,:])\n",
    "\n",
    "#further limiting the search\n",
    "#shows rows 0 to 2 along with all the columns out of true rows selected\n",
    "w = wines[high_quality,:][:3,:]\n",
    "w\n"
   ]
  },
  {
   "cell_type": "code",
   "execution_count": 111,
   "metadata": {},
   "outputs": [
    {
     "data": {
      "text/plain": [
       "array([False, False, False, ..., False, False,  True])"
      ]
     },
     "execution_count": 111,
     "metadata": {},
     "output_type": "execute_result"
    }
   ],
   "source": [
    "#subseting\n",
    "#to look for wines with a lot of alcohol and high quality. \n",
    "\n",
    "high_quality_and_alcohol = (wines[:,10] > 12) & (wines[:,11] > 7)\n",
    "high_quality_and_alcohol\n",
    "\n",
    "\n",
    "#shows the col 10 and 11 "
   ]
  },
  {
   "cell_type": "code",
   "execution_count": 113,
   "metadata": {},
   "outputs": [
    {
     "data": {
      "text/plain": [
       "array([20., 20., 20., 20., 20., 20., 20., 20., 20., 20., 20., 20., 20.,\n",
       "       20., 20., 20., 20., 20.])"
      ]
     },
     "execution_count": 113,
     "metadata": {},
     "output_type": "execute_result"
    }
   ],
   "source": [
    "#combining subsetting and assignment to overwrite certain values in an array:\n",
    "#QUESTION: set the value to 20 for columns 10 and 11 those rows where alcohol > 10 \n",
    "#and quality is > 7\n",
    "\n",
    "high_quality_and_alcohol = (wines[:,10] > 10) & (wines[:,11] > 8) \n",
    "#set value 20 in columns 10 onwards (10th and 11th)\n",
    "wines[(wines[:,10] > 10) & (wines[:,11] > 7) ,14] = 20\n",
    "wines[high_quality_and_alcohol,14]"
   ]
  },
  {
   "cell_type": "code",
   "execution_count": 37,
   "metadata": {},
   "outputs": [
    {
     "data": {
      "text/plain": [
       "array([10.79842778, 10.79842778, 10.79842778, ..., 10.79842778,\n",
       "       12.79842778, 20.        ])"
      ]
     },
     "execution_count": 37,
     "metadata": {},
     "output_type": "execute_result"
    }
   ],
   "source": [
    "wines[:,14]"
   ]
  },
  {
   "cell_type": "code",
   "execution_count": 54,
   "metadata": {},
   "outputs": [
    {
     "name": "stdout",
     "output_type": "stream",
     "text": [
      "[0 1 2 3 4 5 6 7 8 9]\n"
     ]
    }
   ],
   "source": [
    "import numpy as np\n",
    "\n",
    "a=np.arange(10)\n",
    "print(a)\n",
    "\n",
    "n=np.array([[4,5,6,7],[5,6,7,8],[9,8,17,6]])\n"
   ]
  },
  {
   "cell_type": "code",
   "execution_count": 40,
   "metadata": {},
   "outputs": [
    {
     "data": {
      "text/plain": [
       "(3, 4)"
      ]
     },
     "execution_count": 40,
     "metadata": {},
     "output_type": "execute_result"
    }
   ],
   "source": [
    "n.ndim\n",
    "n.shape"
   ]
  },
  {
   "cell_type": "code",
   "execution_count": 78,
   "metadata": {},
   "outputs": [
    {
     "data": {
      "text/plain": [
       "17"
      ]
     },
     "execution_count": 78,
     "metadata": {},
     "output_type": "execute_result"
    }
   ],
   "source": [
    "n[0,2,2]"
   ]
  },
  {
   "cell_type": "code",
   "execution_count": 95,
   "metadata": {},
   "outputs": [
    {
     "data": {
      "text/plain": [
       "array([[ 5,  6,  7,  8],\n",
       "       [ 9,  8, 17,  6]])"
      ]
     },
     "execution_count": 95,
     "metadata": {},
     "output_type": "execute_result"
    }
   ],
   "source": [
    "a=n[ 1: ]\n",
    "a"
   ]
  },
  {
   "cell_type": "code",
   "execution_count": 126,
   "metadata": {},
   "outputs": [
    {
     "name": "stdout",
     "output_type": "stream",
     "text": [
      "(1600,)\n"
     ]
    },
    {
     "data": {
      "text/plain": [
       "array([142.77348348, 119.17768348])"
      ]
     },
     "execution_count": 126,
     "metadata": {},
     "output_type": "execute_result"
    }
   ],
   "source": [
    "# Q1 Add a new column which should be 20% of the residual sugar column\n",
    "#in numpy\n",
    "residualsugar_20 = wines[:,3]*0.20\n",
    "print(residualsugar_20.shape)\n",
    "csvf = np.append(wines, residualsugar_20.reshape(1600,1),axis=1)\n",
    "#OR\n",
    "\n",
    "csvf[1:3,14]"
   ]
  },
  {
   "cell_type": "code",
   "execution_count": 127,
   "metadata": {},
   "outputs": [
    {
     "ename": "NameError",
     "evalue": "name 'pd' is not defined",
     "output_type": "error",
     "traceback": [
      "\u001b[1;31m---------------------------------------------------------------------------\u001b[0m",
      "\u001b[1;31mNameError\u001b[0m                                 Traceback (most recent call last)",
      "\u001b[1;32m<ipython-input-127-28acfedb6f2e>\u001b[0m in \u001b[0;36m<module>\u001b[1;34m()\u001b[0m\n\u001b[0;32m      1\u001b[0m \u001b[1;31m#in pandas\u001b[0m\u001b[1;33m\u001b[0m\u001b[1;33m\u001b[0m\u001b[0m\n\u001b[1;32m----> 2\u001b[1;33m \u001b[0mdf\u001b[0m \u001b[1;33m=\u001b[0m \u001b[0mpd\u001b[0m\u001b[1;33m.\u001b[0m\u001b[0mread_csv\u001b[0m\u001b[1;33m(\u001b[0m\u001b[1;34m\"winequality-red.csv\"\u001b[0m\u001b[1;33m,\u001b[0m\u001b[0mdelimiter\u001b[0m \u001b[1;33m=\u001b[0m \u001b[1;34m','\u001b[0m\u001b[1;33m)\u001b[0m\u001b[1;33m\u001b[0m\u001b[0m\n\u001b[0m\u001b[0;32m      3\u001b[0m \u001b[0mdf\u001b[0m\u001b[1;33m\u001b[0m\u001b[0m\n\u001b[0;32m      4\u001b[0m \u001b[0mdf\u001b[0m\u001b[1;33m[\u001b[0m\u001b[1;34m'20% residual sugar'\u001b[0m\u001b[1;33m]\u001b[0m\u001b[1;33m=\u001b[0m\u001b[1;33m(\u001b[0m\u001b[1;33m(\u001b[0m\u001b[1;36m20\u001b[0m\u001b[1;33m/\u001b[0m\u001b[1;36m100\u001b[0m\u001b[1;33m)\u001b[0m\u001b[1;33m*\u001b[0m\u001b[1;33m(\u001b[0m\u001b[0mdf\u001b[0m\u001b[1;33m[\u001b[0m\u001b[1;34m'residual sugar'\u001b[0m\u001b[1;33m]\u001b[0m\u001b[1;33m)\u001b[0m\u001b[1;33m)\u001b[0m\u001b[1;33m\u001b[0m\u001b[0m\n",
      "\u001b[1;31mNameError\u001b[0m: name 'pd' is not defined"
     ]
    }
   ],
   "source": [
    "#in pandas\n",
    "df = pd.read_csv(\"winequality-red.csv\",delimiter = ',')\n",
    "df\n",
    "df['20% residual sugar']=((20/100)*(df['residual sugar']))"
   ]
  },
  {
   "cell_type": "code",
   "execution_count": 128,
   "metadata": {},
   "outputs": [
    {
     "data": {
      "text/plain": [
       "array([[11.2   ,  0.28  ,  0.56  ,  1.9   ,  0.075 , 17.    , 60.    ,\n",
       "         0.998 ,  3.16  ,  0.58  ,  9.8   ,  6.    ,  0.46  ],\n",
       "       [ 7.4   ,  0.7   ,  0.    ,  1.9   ,  0.076 , 11.    , 34.    ,\n",
       "         0.9978,  3.51  ,  0.56  ,  9.4   ,  5.    ,  0.56  ]])"
      ]
     },
     "execution_count": 128,
     "metadata": {},
     "output_type": "execute_result"
    }
   ],
   "source": [
    "# Q2 Create two vectors with some new values for all the columns and concatenate it to existing wines table\n",
    "vector1 = np.array([11.2,0.28,0.56,1.9,0.075,17.0,60.0,0.9980,\n",
    "                    3.16,0.58,9.8,6,0.46])\n",
    "vector2 = np.array([7.4,0.70,0.00,1.9,0.076,11.0,34.0,0.9978,\n",
    "                    3.51,0.56,9.4,5,0.56])\n",
    "newvector = np.vstack((vector1,vector2))\n",
    "#csvf = np.vstack((csvf,newvector))\n",
    "#csvf\n",
    "newvector"
   ]
  },
  {
   "cell_type": "code",
   "execution_count": 129,
   "metadata": {},
   "outputs": [
    {
     "name": "stdout",
     "output_type": "stream",
     "text": [
      "[ 28298.86090086   3412.08308401   2952.61495335  10866.20104242\n",
      "   1513.21822078  51803.73928929 149321.83107436   5863.12766928\n",
      "  13682.52695152   4741.83904329  33580.26746207  20964.93232101\n",
      "  27145.76519441  21028.40645184 166429.36951858   2173.24020848]\n"
     ]
    },
    {
     "data": {
      "text/plain": [
       "array([[7.92928734e+00, 1.23912229e+00, 6.52293606e-01, ...,\n",
       "        6.11164367e+00, 9.39024835e+01, 5.51801191e-01],\n",
       "       [8.32928734e+00, 1.41912229e+00, 6.52293606e-01, ...,\n",
       "        6.29164367e+00, 1.42773483e+02, 6.91801191e-01],\n",
       "       [8.32928734e+00, 1.29912229e+00, 6.92293606e-01, ...,\n",
       "        6.17164367e+00, 1.19177683e+02, 6.31801191e-01],\n",
       "       ...,\n",
       "       [6.52928734e+00, 8.49122290e-01, 1.12229361e+00, ...,\n",
       "        6.72164367e+00, 1.13071173e+02, 8.91801191e-01],\n",
       "       [1.41494305e+04, 1.70604154e+03, 1.47630748e+03, ...,\n",
       "        1.05142032e+04, 2.00000000e+01, 1.08662010e+03],\n",
       "       [2.82988609e+04, 3.41208308e+03, 2.95261495e+03, ...,\n",
       "        2.10284065e+04, 1.66429370e+05, 2.17324021e+03]])"
      ]
     },
     "execution_count": 129,
     "metadata": {},
     "output_type": "execute_result"
    }
   ],
   "source": [
    "# Q3 Find the sum of all the columns and add it as the last row\n",
    "#print(csvf.shape)\n",
    "colsum = np.sum(csvf,axis = 0)\n",
    "print(colsum)\n",
    "csvf2 = np.vstack((csvf,colsum))\n",
    "csvf2\n",
    "\n",
    "#or\n",
    "#df.append(x,ignore_index=True)"
   ]
  },
  {
   "cell_type": "code",
   "execution_count": null,
   "metadata": {},
   "outputs": [],
   "source": [
    "# Q4 Find all those rows where the free sulphur dioxide is b/w 12 and 15 and make a new numpy array of this\n",
    "for i in range(1601):\n",
    "    if 12<csvf[i,5]<15:\n",
    "        print(i)\n",
    "        print(csvf[i])"
   ]
  },
  {
   "cell_type": "code",
   "execution_count": 400,
   "metadata": {},
   "outputs": [
    {
     "data": {
      "text/plain": [
       "array([[ 3.51,  9.4 ,  5.  ],\n",
       "       [ 3.3 ,  9.4 ,  5.  ],\n",
       "       [ 3.39, 10.  ,  7.  ],\n",
       "       [ 3.36,  9.5 ,  7.  ],\n",
       "       [ 3.35, 10.5 ,  5.  ],\n",
       "       [ 3.28,  9.2 ,  5.  ]])"
      ]
     },
     "execution_count": 400,
     "metadata": {},
     "output_type": "execute_result"
    }
   ],
   "source": [
    "# Q5 Extract records from 5th to 10th row showing information of ph, alcohol and quality\n",
    "csvf[5:11,[8,10,11]]"
   ]
  },
  {
   "cell_type": "code",
   "execution_count": 74,
   "metadata": {},
   "outputs": [
    {
     "name": "stdout",
     "output_type": "stream",
     "text": [
      "22.279965152457933    253.89687158680752    167.64734287492232\n"
     ]
    },
    {
     "data": {
      "text/plain": [
       "dict_keys(['Chloride'])"
      ]
     },
     "execution_count": 74,
     "metadata": {},
     "output_type": "execute_result"
    }
   ],
   "source": [
    "# Q6 Find avg of chloride, density and sulphates seperately and plot it on a bar graph by making a dict.\n",
    "# 4,7,9\n",
    "import matplotlib.pyplot as plt\n",
    "avg4 = np.mean(wines[:,4])\n",
    "avg7 = np.mean(wines[:,7])\n",
    "avg9 = np.mean(wines[:,9])\n",
    "print(avg4,\"  \", avg7, \"  \", avg9)\n",
    "\n",
    "dict={}\n",
    "dict[\"Chloride\"]=avg4\n",
    "dict.keys()"
   ]
  },
  {
   "cell_type": "code",
   "execution_count": 75,
   "metadata": {},
   "outputs": [
    {
     "name": "stdout",
     "output_type": "stream",
     "text": [
      "{'Chlorides': 22.279965152457933, 'density': 253.89687158680752, 'sulphates': 167.64734287492232}\n"
     ]
    },
    {
     "data": {
      "image/png": "[encoded data removed]",
      "text/plain": [
       "<matplotlib.figure.Figure at 0x2732e93ff98>"
      ]
     },
     "metadata": {},
     "output_type": "display_data"
    }
   ],
   "source": [
    "dict1={}\n",
    "dict1['Chlorides'] = avg4\n",
    "dict1['density'] = avg7\n",
    "dict1['sulphates'] = avg9\n",
    "print(dict1)\n",
    "plt.bar(dict1.keys(),dict1.values())\n",
    "plt.xlabel(\"Chemical\")\n",
    "plt.ylabel(\"Average\")\n",
    "plt.show()"
   ]
  },
  {
   "cell_type": "code",
   "execution_count": null,
   "metadata": {},
   "outputs": [],
   "source": [
    "#in pandas\n",
    "avg_chloride = np.mean(df['chlorides'])\n",
    "avg_density = np.mean(df['density'])\n",
    "avg_sulphate = np.mean(df['sulphates'])\n",
    "d = {}\n",
    "d['chlorides'] = avg_chloride\n",
    "d['density'] = avg_density\n",
    "d['sulphate'] = avg_sulphate\n",
    "plt.bar(d.keys(),d.values())\n",
    "plt.title('bar graph')"
   ]
  }
 ],
 "metadata": {
  "kernelspec": {
   "display_name": "Python 3 (ipykernel)",
   "language": "python",
   "name": "python3"
  },
  "language_info": {
   "codemirror_mode": {
    "name": "ipython",
    "version": 3
   },
   "file_extension": ".py",
   "mimetype": "text/x-python",
   "name": "python",
   "nbconvert_exporter": "python",
   "pygments_lexer": "ipython3",
   "version": "3.9.7"
  }
 },
 "nbformat": 4,
 "nbformat_minor": 2
}
