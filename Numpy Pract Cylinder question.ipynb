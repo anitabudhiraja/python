{
 "cells": [
  {
   "cell_type": "code",
   "execution_count": 31,
   "metadata": {},
   "outputs": [
    {
     "name": "stdout",
     "output_type": "stream",
     "text": [
      "(1, 3, 4)\n",
      "no of rows are : 1\n",
      "no of cols are : 3\n",
      "no of cols are : 4\n",
      "dimensions of the array is : 3\n"
     ]
    }
   ],
   "source": [
    "import numpy as np\n",
    "l=np.array([[[1,2,3,89],[4,5,6,90],[7,8,9,99]]])\n",
    "type(l)\n",
    "#shape will return 1,2,3\n",
    "sh=l.shape\n",
    "print(sh)\n",
    "print(\"no of rows are :\",sh[0])\n",
    "print(\"no of cols are :\", sh[1])\n",
    "print(\"no of cols are :\", sh[2])\n",
    "\n",
    "print(\"dimensions of the array is :\", l.ndim)\n"
   ]
  },
  {
   "cell_type": "code",
   "execution_count": 25,
   "metadata": {},
   "outputs": [
    {
     "data": {
      "text/plain": [
       "2"
      ]
     },
     "execution_count": 25,
     "metadata": {},
     "output_type": "execute_result"
    }
   ],
   "source": [
    "a=np.array([[[4,5,6],[6,7,8]]])\n",
    "a[0][0][2]\n",
    "\n",
    "#a.reshape(6,)\n",
    "a.shape[1]"
   ]
  },
  {
   "cell_type": "code",
   "execution_count": 36,
   "metadata": {},
   "outputs": [
    {
     "data": {
      "text/plain": [
       "array([13, 14, 15, 11, 14, 13, 23, 24, 24, 13])"
      ]
     },
     "execution_count": 36,
     "metadata": {},
     "output_type": "execute_result"
    }
   ],
   "source": [
    "np.random.rand(10)*5\n",
    "np.random.randint(5,25,10)"
   ]
  },
  {
   "cell_type": "markdown",
   "metadata": {},
   "source": [
    "#You are given 5 cylindrical containers with different radius and heights ranging\n",
    "#between 5 and 25 cm \n",
    "#Find out\n",
    "a) the volume of water that each container can contain,\n",
    "b) the total volume of water that all containers can contain,\n",
    "c) which container can hold the highest volume and how much,\n",
    "d) which container can hold the least volume and how much,\n",
    "e) what is the mean, median and standard deviation of the volumes \n",
    "#of water that can be contained in the containers?"
   ]
  },
  {
   "cell_type": "code",
   "execution_count": null,
   "metadata": {},
   "outputs": [],
   "source": [
    "#radius and height for 5 cylinders"
   ]
  },
  {
   "cell_type": "code",
   "execution_count": 37,
   "metadata": {},
   "outputs": [],
   "source": [
    "no_of_items=10\n",
    "lower_limit=5\n",
    "upper_limit=25"
   ]
  },
  {
   "cell_type": "code",
   "execution_count": 38,
   "metadata": {},
   "outputs": [
    {
     "data": {
      "text/plain": [
       "array([13, 18, 19,  9, 22, 19,  5, 14,  6, 11])"
      ]
     },
     "execution_count": 38,
     "metadata": {},
     "output_type": "execute_result"
    }
   ],
   "source": [
    "np.random.randint(5,25,10)"
   ]
  },
  {
   "cell_type": "code",
   "execution_count": 40,
   "metadata": {},
   "outputs": [],
   "source": [
    "values =np.random.randint(lower_limit,upper_limit,no_of_items)"
   ]
  },
  {
   "cell_type": "code",
   "execution_count": 41,
   "metadata": {},
   "outputs": [
    {
     "data": {
      "text/plain": [
       "array([13, 23, 17,  5, 17, 20,  7, 14, 20, 10])"
      ]
     },
     "execution_count": 41,
     "metadata": {},
     "output_type": "execute_result"
    }
   ],
   "source": [
    "values"
   ]
  },
  {
   "cell_type": "code",
   "execution_count": null,
   "metadata": {},
   "outputs": [],
   "source": [
    "v=values \n",
    "v*values"
   ]
  },
  {
   "cell_type": "code",
   "execution_count": 42,
   "metadata": {},
   "outputs": [
    {
     "data": {
      "text/plain": [
       "(10,)"
      ]
     },
     "execution_count": 42,
     "metadata": {},
     "output_type": "execute_result"
    }
   ],
   "source": [
    "values.shape"
   ]
  },
  {
   "cell_type": "code",
   "execution_count": 58,
   "metadata": {},
   "outputs": [],
   "source": [
    "no_of_rows=int(no_of_items/2)\n",
    "no_of_rows\n",
    "no_of_columns=2\n",
    "\n",
    "containers = values.reshape(no_of_rows, no_of_columns)\n",
    "containers=values.reshape(5,2)"
   ]
  },
  {
   "cell_type": "code",
   "execution_count": 60,
   "metadata": {},
   "outputs": [
    {
     "data": {
      "text/plain": [
       "array([[13, 23],\n",
       "       [17,  5],\n",
       "       [17, 20],\n",
       "       [ 7, 14],\n",
       "       [20, 10]])"
      ]
     },
     "execution_count": 60,
     "metadata": {},
     "output_type": "execute_result"
    }
   ],
   "source": [
    "containers.shape\n",
    "containers * "
   ]
  },
  {
   "cell_type": "code",
   "execution_count": 45,
   "metadata": {},
   "outputs": [
    {
     "data": {
      "text/plain": [
       "array([[169, 529],\n",
       "       [289,  25],\n",
       "       [289, 400],\n",
       "       [ 49, 196],\n",
       "       [400, 100]])"
      ]
     },
     "execution_count": 45,
     "metadata": {},
     "output_type": "execute_result"
    }
   ],
   "source": [
    "containers * containers"
   ]
  },
  {
   "cell_type": "code",
   "execution_count": 46,
   "metadata": {},
   "outputs": [],
   "source": [
    "radius=containers[ : , 0]\n",
    "height= containers[ :, 1]"
   ]
  },
  {
   "cell_type": "code",
   "execution_count": 61,
   "metadata": {},
   "outputs": [
    {
     "name": "stdout",
     "output_type": "stream",
     "text": [
      "Radius is : [13 17 17  7 20]\n",
      "Height is : [23  5 20 14 10]\n"
     ]
    }
   ],
   "source": [
    "print(\"Radius is :\",radius)\n",
    "print(\"Height is :\",height)"
   ]
  },
  {
   "cell_type": "code",
   "execution_count": 48,
   "metadata": {},
   "outputs": [
    {
     "data": {
      "text/plain": [
       "1"
      ]
     },
     "execution_count": 48,
     "metadata": {},
     "output_type": "execute_result"
    }
   ],
   "source": [
    "radius.ndim"
   ]
  },
  {
   "cell_type": "code",
   "execution_count": 63,
   "metadata": {},
   "outputs": [
    {
     "name": "stdout",
     "output_type": "stream",
     "text": [
      "[12211.3706445   4539.60138444 18158.40553775  2155.13256036\n",
      " 12566.37061436]\n"
     ]
    },
    {
     "data": {
      "text/plain": [
       "18158.405537749004"
      ]
     },
     "execution_count": 63,
     "metadata": {},
     "output_type": "execute_result"
    }
   ],
   "source": [
    "volume = np.pi * (radius**2) * height\n",
    "print(volume)\n",
    "volume.sum()\n",
    "volume[np.argmax(volume)]"
   ]
  },
  {
   "cell_type": "code",
   "execution_count": 64,
   "metadata": {},
   "outputs": [
    {
     "name": "stdout",
     "output_type": "stream",
     "text": [
      "Min volume is  2155.132560362598 at position 3\n",
      "Max volume is  18158.405537749004 at position 2\n"
     ]
    },
    {
     "data": {
      "text/plain": [
       "2"
      ]
     },
     "execution_count": 64,
     "metadata": {},
     "output_type": "execute_result"
    }
   ],
   "source": [
    "print(\"Min volume is \", volume[volume.argmin()], \"at position\", volume.argmin())\n",
    "print(\"Max volume is \", volume[volume.argmax()], \"at position\", volume.argmax())\n",
    "volume.argmax()"
   ]
  },
  {
   "cell_type": "code",
   "execution_count": null,
   "metadata": {},
   "outputs": [],
   "source": [
    "sq=np.square(radius)\n",
    "dot_p= np.dot(sq, height)\n",
    "dot_p\n",
    "total_volume=np.pi * dot_p\n",
    "total_volume"
   ]
  },
  {
   "cell_type": "code",
   "execution_count": null,
   "metadata": {},
   "outputs": [],
   "source": [
    "multiplication of matrices\n",
    "m1               m2\n",
    "row  * col       row * col \n"
   ]
  },
  {
   "cell_type": "code",
   "execution_count": 68,
   "metadata": {},
   "outputs": [],
   "source": [
    "a=np.array([[1,2,4],\n",
    "            [3,4,5]])\n",
    "b=np.array([[11,12],\n",
    "            [13,14]])"
   ]
  },
  {
   "cell_type": "code",
   "execution_count": 69,
   "metadata": {},
   "outputs": [
    {
     "ename": "ValueError",
     "evalue": "shapes (2,3) and (2,2) not aligned: 3 (dim 1) != 2 (dim 0)",
     "output_type": "error",
     "traceback": [
      "\u001b[1;31m---------------------------------------------------------------------------\u001b[0m",
      "\u001b[1;31mValueError\u001b[0m                                Traceback (most recent call last)",
      "\u001b[1;32m<ipython-input-69-3339b236d1c5>\u001b[0m in \u001b[0;36m<module>\u001b[1;34m()\u001b[0m\n\u001b[1;32m----> 1\u001b[1;33m \u001b[0mnp\u001b[0m\u001b[1;33m.\u001b[0m\u001b[0mdot\u001b[0m\u001b[1;33m(\u001b[0m\u001b[0ma\u001b[0m\u001b[1;33m,\u001b[0m\u001b[0mb\u001b[0m\u001b[1;33m)\u001b[0m\u001b[1;33m\u001b[0m\u001b[0m\n\u001b[0m",
      "\u001b[1;32m<__array_function__ internals>\u001b[0m in \u001b[0;36mdot\u001b[1;34m(*args, **kwargs)\u001b[0m\n",
      "\u001b[1;31mValueError\u001b[0m: shapes (2,3) and (2,2) not aligned: 3 (dim 1) != 2 (dim 0)"
     ]
    }
   ],
   "source": [
    "np.dot(a,b)"
   ]
  },
  {
   "cell_type": "code",
   "execution_count": null,
   "metadata": {},
   "outputs": [],
   "source": [
    "np.std(volume)\n",
    "np.mean(volume)"
   ]
  },
  {
   "cell_type": "code",
   "execution_count": 77,
   "metadata": {},
   "outputs": [
    {
     "data": {
      "text/plain": [
       "<Container object of 3 artists>"
      ]
     },
     "execution_count": 77,
     "metadata": {},
     "output_type": "execute_result"
    },
    {
     "data": {
      "image/png": "[encoded data removed]",
      "text/plain": [
       "<matplotlib.figure.Figure at 0x17228eb06d8>"
      ]
     },
     "metadata": {},
     "output_type": "display_data"
    }
   ],
   "source": [
    "from matplotlib import pyplot as plt\n",
    "X=['Mean','Median', 'Std']\n",
    "Y=[np.mean(volume), np.median(volume), np.std(volume)]\n",
    "plt.bar(X,Y, width=.4, color=[\"maroon\", \"blue\", \"cyan\"])"
   ]
  },
  {
   "cell_type": "code",
   "execution_count": 78,
   "metadata": {},
   "outputs": [
    {
     "data": {
      "text/plain": [
       "{'Mean': 9926.176148282311,\n",
       " 'Median': 12211.370644503526,\n",
       " 'Std': 5820.0798543817655}"
      ]
     },
     "execution_count": 78,
     "metadata": {},
     "output_type": "execute_result"
    }
   ],
   "source": [
    "volumedict={}\n",
    "volumedict['Mean']=np.mean(volume)\n",
    "volumedict['Median']=np.median(volume)\n",
    "volumedict['Std']=np.std(volume)\n",
    "volumedict"
   ]
  },
  {
   "cell_type": "code",
   "execution_count": 79,
   "metadata": {},
   "outputs": [
    {
     "data": {
      "text/plain": [
       "<Container object of 3 artists>"
      ]
     },
     "execution_count": 79,
     "metadata": {},
     "output_type": "execute_result"
    },
    {
     "data": {
      "image/png": "[encoded data removed]",
      "text/plain": [
       "<matplotlib.figure.Figure at 0x17228e00b00>"
      ]
     },
     "metadata": {},
     "output_type": "display_data"
    }
   ],
   "source": [
    "plt.bar(volumedict.keys(), volumedict.values())"
   ]
  },
  {
   "cell_type": "code",
   "execution_count": null,
   "metadata": {},
   "outputs": [],
   "source": [
    "no_of_items=10\n",
    "lower_limit=5\n",
    "upper_limit=25"
   ]
  },
  {
   "cell_type": "code",
   "execution_count": null,
   "metadata": {},
   "outputs": [],
   "source": [
    "First we need the radius and heights for the 5 cylindrical containers. \n",
    "The values for radius and heights are defined to be ranging between 5 and 25 cm. Let's first define these in variables."
   ]
  },
  {
   "cell_type": "code",
   "execution_count": null,
   "metadata": {},
   "outputs": [],
   "source": [
    "# Define variables\n",
    "no_of_items = 10 # we need 2 values for each container, one for radius and one for height\n",
    "lower_limit = 5\n",
    "upper_limit = 25"
   ]
  },
  {
   "cell_type": "code",
   "execution_count": null,
   "metadata": {},
   "outputs": [],
   "source": [
    "np.random.randint(5,25,10)"
   ]
  },
  {
   "cell_type": "code",
   "execution_count": null,
   "metadata": {},
   "outputs": [],
   "source": [
    "#rando\n",
    "#Now, using the above let us generate random values for the radius and heights of the cylindrical containers.\n",
    "#np.random.seed(0)\n",
    "a=5\n",
    "b=100\n",
    "np.random.seed(7)\n",
    "a=np.random.randint(lower_limit,upper_limit,1no_of_items)\n"
   ]
  },
  {
   "cell_type": "code",
   "execution_count": null,
   "metadata": {},
   "outputs": [],
   "source": [
    "# Generate random values\n",
    "import numpy as np\n",
    "np.random.seed(3)\n",
    "values = np.random.randint(lower_limit, upper_limit, 10)\n",
    "values"
   ]
  },
  {
   "cell_type": "markdown",
   "metadata": {},
   "source": [
    "The benefit of using seed is that we are using a particular set of random numbers. The numbers are still \n",
    "random, but running the above cell with always result in the same set of random numbers. You can use any\n",
    "number as argument to the seed, but using a different number will result in a different set of random numbers. \n",
    "Without the seed, every time np.random.randint is called, it will return a different collection of numbers."
   ]
  },
  {
   "cell_type": "code",
   "execution_count": null,
   "metadata": {},
   "outputs": [],
   "source": [
    "values.ndim"
   ]
  },
  {
   "cell_type": "code",
   "execution_count": null,
   "metadata": {},
   "outputs": [],
   "source": [
    "It just gives us 10 random integer numbers between 5 and 25. Note that the lower_limit is inclusive and the upper_limit is exclusive. So, 25 never appears on the array.\n",
    "\n",
    "\n",
    "So, there are 10 items in the array. We can use the size attribute to verify this."
   ]
  },
  {
   "cell_type": "code",
   "execution_count": null,
   "metadata": {},
   "outputs": [],
   "source": [
    "values.size"
   ]
  },
  {
   "cell_type": "code",
   "execution_count": null,
   "metadata": {},
   "outputs": [],
   "source": [
    "And from above we can see there is only a single opening and closing square bracket. \n",
    "So, this is a one dimensional array. Use ndim attribute to verify this."
   ]
  },
  {
   "cell_type": "code",
   "execution_count": null,
   "metadata": {},
   "outputs": [],
   "source": [
    "values.ndim"
   ]
  },
  {
   "cell_type": "code",
   "execution_count": null,
   "metadata": {},
   "outputs": [],
   "source": [
    "\n",
    "shape gives the number of items along each dimension. Since values is one dimensional, this is represented as (10,)\n",
    "\n",
    "To determine the data type of the entries in values, use dtype attribute"
   ]
  },
  {
   "cell_type": "code",
   "execution_count": null,
   "metadata": {},
   "outputs": [],
   "source": [
    "Let us also see how the values are organized using the shape attribute."
   ]
  },
  {
   "cell_type": "code",
   "execution_count": null,
   "metadata": {},
   "outputs": [],
   "source": [
    "values.shape"
   ]
  },
  {
   "cell_type": "code",
   "execution_count": null,
   "metadata": {},
   "outputs": [],
   "source": [
    "values.dtype\n",
    "print(values)\n",
    "values.reshape(5,2)\n",
    "\n",
    "#pi *r*r*h\n",
    "height=values[   :   ]"
   ]
  },
  {
   "cell_type": "code",
   "execution_count": null,
   "metadata": {},
   "outputs": [],
   "source": [
    "So, all values are found to be 64 bit integers and hence the array is of 32 bit integer type. \n",
    "If even one of the values were of type float, the entire values array would be of type float.\n",
    "\n",
    "So far, values is just a plain array of numbers. Let's reorganize it to represent the \n",
    "radius and heights of the container. We are going to create a two dimensional array \n",
    "such that each row represents entry for a single container with the first column representing\n",
    "radius and second column representing height. To do this, use the reshape method."
   ]
  },
  {
   "cell_type": "code",
   "execution_count": null,
   "metadata": {},
   "outputs": [],
   "source": [
    "no_of_rows = int(no_of_items/2) # no_of_rows becomes of type float on dividing, so need to convert it to int\n",
    "no_of_columns = 2\n",
    "containers = values.reshape(no_of_rows, no_of_columns)\n",
    "containers\n",
    "#values.reshape(5,8)\n"
   ]
  },
  {
   "cell_type": "code",
   "execution_count": null,
   "metadata": {},
   "outputs": [],
   "source": [
    "This results in a two dimensional array as can be seen by the two opening and closing square brackets. \n",
    "Note that to get the number of containers, no_of_items (the random number count) is divided by 2.\n",
    "However, doing this would result in a float type value which is not acceptable by the reshape method.\n",
    "So, it must be converted to int. Also, note that for the reshape method to work,\n",
    "the product of no_of_rows and no_of_colums should result in no_of_items."
   ]
  },
  {
   "cell_type": "code",
   "execution_count": null,
   "metadata": {},
   "outputs": [],
   "source": [
    "containers.dtype"
   ]
  },
  {
   "cell_type": "code",
   "execution_count": null,
   "metadata": {},
   "outputs": [],
   "source": [
    "containers.ndim"
   ]
  },
  {
   "cell_type": "code",
   "execution_count": null,
   "metadata": {},
   "outputs": [],
   "source": [
    "#To verfiy that this is a 2D array, let us again use \n",
    "containers.shape"
   ]
  },
  {
   "cell_type": "code",
   "execution_count": null,
   "metadata": {},
   "outputs": [],
   "source": [
    "#containers\n",
    "#containers[  rows  , columns ]\n",
    "radius=containers[:,0]\n",
    "height=containers[:, 1]"
   ]
  },
  {
   "cell_type": "code",
   "execution_count": null,
   "metadata": {},
   "outputs": [],
   "source": [
    "containers"
   ]
  },
  {
   "cell_type": "code",
   "execution_count": null,
   "metadata": {},
   "outputs": [],
   "source": [
    "radius=containers[:,0]\n",
    "height=containers[:, 1]\n",
    "height"
   ]
  },
  {
   "cell_type": "code",
   "execution_count": null,
   "metadata": {},
   "outputs": [],
   "source": [
    "collect all the radius in one array and all the heights in another. \n",
    "To do this,  use slicing. the first column to represent radius and the second column to represent heights."
   ]
  },
  {
   "cell_type": "code",
   "execution_count": null,
   "metadata": {},
   "outputs": [],
   "source": [
    "print(\"radius is \", radius)\n",
    "print(\"height is \", height)"
   ]
  },
  {
   "cell_type": "code",
   "execution_count": null,
   "metadata": {},
   "outputs": [],
   "source": [
    "containers[:,0] represents that from the containers array, we want all the rows(:) for the first column(0)\n",
    "\n",
    "And similarly for the heights"
   ]
  },
  {
   "cell_type": "code",
   "execution_count": null,
   "metadata": {},
   "outputs": [],
   "source": [
    "print(\"Dimension for radius: \", radius.ndim)\n",
    "print(\"Dimension for height: \", height.ndim)"
   ]
  },
  {
   "cell_type": "code",
   "execution_count": null,
   "metadata": {},
   "outputs": [],
   "source": [
    "Here, first each element in radius is squared, then element by element multiplication is done and \n",
    "finally all the values are multiplied by pi, which is also available from NumPy.\n",
    "At the end, we have 5 values, one for the volume of each container in cubic centimeter,\n",
    "which solves our first sub-problem defined in (a).\n",
    "\n",
    "The second sub-problem defined in (b) can be solved by simply adding all the volumes."
   ]
  },
  {
   "cell_type": "code",
   "execution_count": null,
   "metadata": {},
   "outputs": [],
   "source": [
    "volume = np.pi*(radius**2)*height\n",
    "print(volume)\n",
    "volume.sum()\n",
    "\n",
    "print(\"sum of volumes = \", volume.sum())\n",
    "print(\"the max volume is \", volume.max() ,\"at cylinder \", volume.argmax())\n",
    "print(\"the max volume is \", volume.min() ,\"at cylinder \", volume.argmin())"
   ]
  },
  {
   "cell_type": "code",
   "execution_count": null,
   "metadata": {},
   "outputs": [],
   "source": [
    "\n",
    "print(\"Minimum volume is\",volume[volume.argmin()],\"and at position\",volume.argmin())\n",
    "print(\"Maximum volume is\",volume[volume.argmax()],\"and at position\",volume.argmax())"
   ]
  },
  {
   "cell_type": "code",
   "execution_count": null,
   "metadata": {},
   "outputs": [],
   "source": [
    "#There is also an alternative method to compute the total volume without calculating the volumes \n",
    "#for individual containers, by computing the dot product of radius and height.\n",
    "# numpy.inner([a,b],[c,d]) = ac+bd\n",
    "\n"
   ]
  },
  {
   "cell_type": "markdown",
   "metadata": {},
   "source": [
    "\n",
    "radius_squared = np.square(radius)\n",
    "print(radius_squared)\n",
    "dot_product = np.dot(radius_squared, height)\n",
    "\n",
    "total_volume_by_dot_product = np.pi*dot_product\n",
    "total_volume_by_dot_product"
   ]
  },
  {
   "cell_type": "code",
   "execution_count": null,
   "metadata": {},
   "outputs": [],
   "source": [
    "radius_squared = np.square(radius) \n",
    "print(radius_squared) \n",
    "dot_product = np.dot(radius_squared, height)\n",
    "print(dot_product)\n",
    "total_volume_by_dot_product = np.pi*dot_product \n",
    "total_volume_by_dot_product"
   ]
  },
  {
   "cell_type": "markdown",
   "metadata": {},
   "source": [
    "#matrix multiplication\n",
    "[[1,2]     [[2,3,4]\n",
    "[3,4]]     [1,2,3,]]\n",
    "\n",
    "2,2     x   2, 3\n",
    "\n",
    "final matrix 2,3\n",
    "[[ , , ],\n",
    " [ , , ]]\n",
    "np.dot(a,b)\n"
   ]
  },
  {
   "cell_type": "code",
   "execution_count": 4,
   "metadata": {},
   "outputs": [
    {
     "data": {
      "text/plain": [
       "array([[37, 40],\n",
       "       [85, 92]])"
      ]
     },
     "execution_count": 4,
     "metadata": {},
     "output_type": "execute_result"
    }
   ],
   "source": [
    "##for 2 d array multiplication of matrices\n",
    "a=np.array([[1,2],\n",
    "            [3,4]])\n",
    "b=np.array([[11,12],\n",
    "            [13,14]])\n",
    "np.dot(a,b)\n"
   ]
  },
  {
   "cell_type": "code",
   "execution_count": null,
   "metadata": {},
   "outputs": [],
   "source": [
    "# for single dimensional arrays like in our example,there are two single dim arrays for radius and height\n",
    "       [17, 20], 289\n",
    "       [ 5,  8], 25\n",
    "       [ 8, 12], 64\n",
    "       [14, 24],  196 \n",
    "       [23,  9]   529\n",
    "    \n",
    "       [289 (17*20),25 (5*8),64 (8*12),196 (14*24),529 (23*9)]             squared radius\n",
    "       [20 ,8 ,12, 24, 9 ]                                                 height\n",
    "        (289*20) (25*8) (64*12) (196*24) (529*9)\n",
    "          5780  + 200 + 768 +  4704 + 4761 = 16213\n",
    "          \n",
    "          16213* pi\n",
    "          "
   ]
  },
  {
   "cell_type": "code",
   "execution_count": null,
   "metadata": {},
   "outputs": [],
   "source": [
    "#2 d array\n",
    "a=np.array([[1,2],[3,4]])\n",
    "b=np.array([[11,12],[13,14]])\n",
    "np.dot(a,b)"
   ]
  },
  {
   "cell_type": "code",
   "execution_count": null,
   "metadata": {},
   "outputs": [],
   "source": [
    "#This gives us the same total volume in cubic centimeter as above which solves our second sub-problem.\n",
    "#volume"
   ]
  },
  {
   "cell_type": "code",
   "execution_count": null,
   "metadata": {},
   "outputs": [],
   "source": [
    "Pi x r**2 x h\n",
    "np.pi*(np.dot(radius_squared,height))"
   ]
  },
  {
   "cell_type": "code",
   "execution_count": null,
   "metadata": {},
   "outputs": [],
   "source": []
  },
  {
   "cell_type": "code",
   "execution_count": null,
   "metadata": {},
   "outputs": [],
   "source": [
    "volume.argmin()"
   ]
  },
  {
   "cell_type": "code",
   "execution_count": null,
   "metadata": {},
   "outputs": [],
   "source": [
    "And to find which container hold the max volume, use the argmax method"
   ]
  },
  {
   "cell_type": "code",
   "execution_count": null,
   "metadata": {},
   "outputs": [],
   "source": [
    "np.std(volume)"
   ]
  },
  {
   "cell_type": "code",
   "execution_count": null,
   "metadata": {},
   "outputs": [],
   "source": [
    "So, the first container can hold the max volume of water which solves our third sub-problem."
   ]
  },
  {
   "cell_type": "code",
   "execution_count": null,
   "metadata": {},
   "outputs": [],
   "source": [
    "print(volume)\n",
    "\n",
    "stats=[]\n",
    "stats.append(np.mean(volume))\n",
    "stats.append(np.median(volume))\n",
    "stats.append(np.std(volume))\n",
    "stats\n",
    "\n",
    "#{'Mean' : 3333, \"Median\" : 344}"
   ]
  },
  {
   "cell_type": "code",
   "execution_count": null,
   "metadata": {},
   "outputs": [],
   "source": [
    "from matplotlib import pyplot as plt\n",
    "\n",
    "#graph(x axis , y axis   )\n",
    "data = ['Mean','Median','std'] \n",
    " \n",
    "#fig = plt.figure(figsize = (6, 3)) \n",
    "  \n",
    "# creating the bar plot \n",
    "plt.bar(data, stats, color =['maroon','yellow',\"cyan\"],width = 0.4) \n",
    "  \n",
    "plt.xlabel(\"Stats\") \n",
    "#plt.ylabel(\"Values\")\n",
    "\n",
    "plt.show() "
   ]
  },
  {
   "cell_type": "code",
   "execution_count": null,
   "metadata": {},
   "outputs": [],
   "source": [
    "\n",
    "statsdic={}\n",
    "statsdic['Mean']= np.mean(volume)\n",
    "statsdic['Median']= np.median(volume)\n",
    "statsdic['Std']= np.std(volume)\n",
    "x=statsdic.keys()\n",
    "y=statsdic.values()\n",
    "\n",
    "plt.bar(x,y, colour=\"red\")"
   ]
  },
  {
   "cell_type": "code",
   "execution_count": null,
   "metadata": {},
   "outputs": [],
   "source": [
    "from matplotlib  import pyplot as plt\n",
    "keys=statsdic.keys()\n",
    "values=statsdic.values()\n",
    "plt.bar(keys,values, color=[\"red\",\"blue\", \"yellow\"], width=0.3)"
   ]
  },
  {
   "cell_type": "code",
   "execution_count": null,
   "metadata": {},
   "outputs": [],
   "source": [
    "from matplotlib  import pyplot as plt\n",
    "# creating the dataset \n",
    " \n",
    "data = ['Mean','Median','std'] \n",
    "values = stats \n",
    "   \n",
    "#fig = plt.figure(figsize = (6, 3)) \n",
    "  \n",
    "# creating the bar plot \n",
    "plt.bar(data, values, color ='maroon',  \n",
    "        width = 0.5) \n",
    "  \n",
    "#plt.xlabel(\"Stats\") \n",
    "#plt.ylabel(\"Values\") \n",
    "#plt.title(\"Stats\") \n",
    "plt.show() \n"
   ]
  },
  {
   "cell_type": "code",
   "execution_count": null,
   "metadata": {},
   "outputs": [],
   "source": [
    "So, the second container can hold the least volume of water which solves our fourth sub-problem."
   ]
  },
  {
   "cell_type": "code",
   "execution_count": null,
   "metadata": {},
   "outputs": [],
   "source": [
    "And argmin method to find the index of container holding minimum volume of water"
   ]
  },
  {
   "cell_type": "code",
   "execution_count": null,
   "metadata": {},
   "outputs": [],
   "source": [
    "\n",
    "Finally, we compute the mean, median and standard deviation\n",
    "for the volume of water held by the containers using repectively the mean, median and std\n",
    "methods, which solves our fifth and final sub-problem."
   ]
  },
  {
   "cell_type": "code",
   "execution_count": null,
   "metadata": {},
   "outputs": [],
   "source": [
    "ans=[]\n",
    "ans.append(np.std(volume))\n",
    "ans.append(np.mean(volume))\n",
    "ans.append(np.median(volume))\n",
    "ans\n",
    "\n"
   ]
  },
  {
   "cell_type": "code",
   "execution_count": null,
   "metadata": {},
   "outputs": [],
   "source": [
    "l=[    ]\n",
    "l.append(np.mean(volume))\n",
    "l"
   ]
  },
  {
   "cell_type": "code",
   "execution_count": null,
   "metadata": {},
   "outputs": [],
   "source": [
    "np.mean(volume)"
   ]
  },
  {
   "cell_type": "code",
   "execution_count": null,
   "metadata": {},
   "outputs": [],
   "source": [
    "l.append(np.median(volume))\n"
   ]
  },
  {
   "cell_type": "code",
   "execution_count": null,
   "metadata": {},
   "outputs": [],
   "source": [
    "l.append(np.std(volume))"
   ]
  },
  {
   "cell_type": "code",
   "execution_count": null,
   "metadata": {},
   "outputs": [],
   "source": [
    "help(numpy.array) "
   ]
  },
  {
   "cell_type": "code",
   "execution_count": null,
   "metadata": {},
   "outputs": [],
   "source": [
    "a=np.array([[1,2],\n",
    "            [3,4]])\n",
    "b=np.array([[11,12],\n",
    "            [13,14]])\n",
    "np.dot(a,b)\n",
    "np.matmul(a,b)\n"
   ]
  }
 ],
 "metadata": {
  "kernelspec": {
   "display_name": "Python 3 (ipykernel)",
   "language": "python",
   "name": "python3"
  },
  "language_info": {
   "codemirror_mode": {
    "name": "ipython",
    "version": 3
   },
   "file_extension": ".py",
   "mimetype": "text/x-python",
   "name": "python",
   "nbconvert_exporter": "python",
   "pygments_lexer": "ipython3",
   "version": "3.9.7"
  }
 },
 "nbformat": 4,
 "nbformat_minor": 2
}
