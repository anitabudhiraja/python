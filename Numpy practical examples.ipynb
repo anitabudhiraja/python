{
 "cells": [
  {
   "cell_type": "code",
   "execution_count": 2,
   "metadata": {},
   "outputs": [
    {
     "data": {
      "text/plain": [
       "array([20, 25, 30])"
      ]
     },
     "execution_count": 2,
     "metadata": {},
     "output_type": "execute_result"
    }
   ],
   "source": [
    "import numpy as np\n",
    "lst=[4,5,6]\n",
    "lst*5\n",
    "arr=np.array([4,5,6])\n",
    "arr*5"
   ]
  },
  {
   "cell_type": "code",
   "execution_count": null,
   "metadata": {},
   "outputs": [],
   "source": [
    "#Python grade example\n",
    "#You’re a teacher who has just graded your students on a recent test.\n",
    "#Unfortunately, you may have made the test too challenging, and most of the students did worse than expected. \n",
    "#To help everybody out, you’re going to curve everyone’s grades."
   ]
  },
  {
   "cell_type": "code",
   "execution_count": null,
   "metadata": {},
   "outputs": [],
   "source": [
    "#You’ll take whatever the average score is  \n",
    "#Additionally, you’ll make sure that the curve doesn’t accidentally \n",
    "#hurt your students’ grades or the student does better than 100%."
   ]
  },
  {
   "cell_type": "code",
   "execution_count": 4,
   "metadata": {},
   "outputs": [
    {
     "data": {
      "text/plain": [
       "array([91.25, 55.  , 83.25, 99.  , 70.25, 99.  , 93.25, 55.  ])"
      ]
     },
     "execution_count": 4,
     "metadata": {},
     "output_type": "execute_result"
    }
   ],
   "source": [
    "import numpy as np\n",
    "CURVE_CENTER = 80\n",
    "grades = np.array([72, 35, 64, 88, 51, 90, 74, 12]) \n",
    "\n",
    "def curve(grades):\n",
    "    average = grades.mean()\n",
    "    #print(\"average is\", average)\n",
    "    change = CURVE_CENTER - average\n",
    "    #vectorisation and broadcasting [72, 35, 64, 88,....] + 19.25, 19.25, 19.25........\n",
    "    new_grades = grades + change\n",
    "    #print(new_grades)\n",
    "    return np.clip(new_grades, 55, 99)\n",
    "\n",
    "curve(grades)\n",
    "\n"
   ]
  },
  {
   "cell_type": "markdown",
   "metadata": {},
   "source": [
    "# Shapes"
   ]
  },
  {
   "cell_type": "code",
   "execution_count": 7,
   "metadata": {},
   "outputs": [
    {
     "name": "stdout",
     "output_type": "stream",
     "text": [
      "[ 0 10 20 30 40 50 60 70]\n",
      "[10 20 50]\n",
      "[10 20 50]\n"
     ]
    }
   ],
   "source": [
    "a = np.arange(0,80,10)\n",
    "print(a)\n",
    "#big data  \n",
    "y = a[[1, 2, -3]]\n",
    "print(y)\n",
    "\n",
    "s=np.take(a,[1,2,-3])\n",
    "print(s)\n"
   ]
  },
  {
   "cell_type": "code",
   "execution_count": 11,
   "metadata": {},
   "outputs": [
    {
     "data": {
      "text/plain": [
       "array([ 2,  5, 11])"
      ]
     },
     "execution_count": 11,
     "metadata": {},
     "output_type": "execute_result"
    }
   ],
   "source": [
    "X=np.array([[0,1,2,3],\n",
    "            [4,5,6,7],\n",
    "            [8,9,10,11]])\n",
    "\n",
    "#Like with standard indexing, the first index\n",
    "#refers to the row, and the second to the column:\n",
    "Row=np.array([0,1,2])\n",
    "Col=np.array([2,1,3])\n",
    "X[Row,Col]\n",
    "#or\n",
    "#X[2, (1,0,2)]    # shows ([2,5,11])\n"
   ]
  },
  {
   "cell_type": "code",
   "execution_count": 13,
   "metadata": {},
   "outputs": [
    {
     "name": "stdout",
     "output_type": "stream",
     "text": [
      "190\n",
      "[[ 0  1  2  3]\n",
      " [ 4  5  6  7]\n",
      " [ 8  9 10 11]\n",
      " [12 13 14 15]\n",
      " [16 17 18 19]]\n"
     ]
    }
   ],
   "source": [
    "a = np.arange(0,20).reshape(5,4)\n",
    "print(a.sum())\n",
    "print(a)"
   ]
  },
  {
   "cell_type": "code",
   "execution_count": 15,
   "metadata": {},
   "outputs": [
    {
     "name": "stdout",
     "output_type": "stream",
     "text": [
      "(4,) \t (5,)\n",
      "col wise total [40 45 50 55]\n",
      "row wise total [ 6 22 38 54 70]\n",
      "[ 6 22 38 54 70]\n"
     ]
    }
   ],
   "source": [
    "colsum=a.sum(axis=0)\n",
    "rowsum=a.sum(axis=1)\n",
    "print(colsum.shape,\"\\t\",rowsum.shape)\n",
    "print(\"col wise total\",colsum)\n",
    "print(\"row wise total\",rowsum)\n",
    "print(a.sum(axis=-1))\n",
    "#1. generate single dim array \n",
    "#2.to add in numpy array vertically , transpose\n",
    "#3.concatenate main array and single dimensional array after transposing"
   ]
  },
  {
   "cell_type": "code",
   "execution_count": 77,
   "metadata": {},
   "outputs": [
    {
     "name": "stdout",
     "output_type": "stream",
     "text": [
      "(3, 2, 2)\n",
      "[[[29.3 42.1]\n",
      "  [18.8 16.1]]\n",
      "\n",
      " [[38.  12.5]\n",
      "  [12.6 49.9]]\n",
      "\n",
      " [[38.6 31.3]\n",
      "  [ 9.2 22.2]]]\n"
     ]
    }
   ],
   "source": [
    "#import numpy as np\n",
    "\n",
    "temperatures = np.array([\n",
    "     29.3, 42.1, 18.8, 16.1, 38.0, 12.5,\n",
    "    12.6, 49.9, 38.6, 31.3, 9.2, 22.2]).reshape(3, 2, 2)\n",
    "#or reshape(2,3,2)\n",
    "print(temperatures.shape)\n",
    "\n",
    "print(temperatures)\n",
    "#Q extract the 2nd weeks temperature of last three days\n"
   ]
  },
  {
   "cell_type": "code",
   "execution_count": 78,
   "metadata": {},
   "outputs": [
    {
     "name": "stdout",
     "output_type": "stream",
     "text": [
      "[[[29.3 18.8]\n",
      "  [42.1 16.1]]\n",
      "\n",
      " [[38.  12.6]\n",
      "  [12.5 49.9]]\n",
      "\n",
      " [[38.6  9.2]\n",
      "  [31.3 22.2]]]\n"
     ]
    },
    {
     "data": {
      "text/plain": [
       "(3, 2, 2)"
      ]
     },
     "execution_count": 78,
     "metadata": {},
     "output_type": "execute_result"
    }
   ],
   "source": [
    "a=np.swapaxes(temperatures,1,2)\n",
    "print(a)\n",
    "a.shape"
   ]
  },
  {
   "cell_type": "code",
   "execution_count": 85,
   "metadata": {},
   "outputs": [
    {
     "data": {
      "text/plain": [
       "(5, 4)"
      ]
     },
     "execution_count": 85,
     "metadata": {},
     "output_type": "execute_result"
    }
   ],
   "source": [
    "#eng p  c  m  of 4 students\n",
    "table[:,0]\n",
    "table[:,1]\n",
    "table[:,2]\n",
    "\n",
    "table = np.array([\n",
    "                    [4,5 , 6, 7],\n",
    "                    [5, 3, 7, 1],\n",
    "                    [2, 6, 7 ,9],\n",
    "                    [10, 9, 8,8],\n",
    "                    [4, 3, 2, 0],\n",
    "                  ])\n",
    "#Q1 AVERAGE OF EVERY STUDENT\n",
    "#table[:,1].mean(axis=0)   #rowwise\n",
    "table.shape\n"
   ]
  },
  {
   "cell_type": "code",
   "execution_count": 38,
   "metadata": {},
   "outputs": [
    {
     "data": {
      "text/plain": [
       "array([5.25, 5.25, 6.  , 4.5 ])"
      ]
     },
     "execution_count": 38,
     "metadata": {},
     "output_type": "execute_result"
    }
   ],
   "source": [
    "table[:,:].mean(axis=0) "
   ]
  },
  {
   "cell_type": "markdown",
   "metadata": {},
   "source": [
    "# Axis"
   ]
  },
  {
   "cell_type": "code",
   "execution_count": 40,
   "metadata": {},
   "outputs": [
    {
     "name": "stdout",
     "output_type": "stream",
     "text": [
      "first student avg 4.0\n",
      "first student avg 6.0\n",
      "first student avg 8.75\n",
      "first student avg 2.25\n",
      "Average of Every Student:\n",
      " [ 6.  11.5  8.5  5.5]\n"
     ]
    }
   ],
   "source": [
    "for i in range(4):\n",
    "    avg=table[i,:]\n",
    "    print(\"first student avg\",avg.sum()/4)\n",
    "\n",
    "import numpy as np \n",
    "   \n",
    "arr1 = np.array([5,3,7,1]) \n",
    "arr2 = np.array([2,16,7,9])\n",
    "arr3 = np.array([1,1,1,1])\n",
    "arr4 = np.array([4,3,2,0]) \n",
    "   \n",
    "avg = (arr1 + arr2 + arr3 +  arr4) / 2\n",
    "  \n",
    "print(\"Average of Every Student:\\n\" , \n",
    "      avg)"
   ]
  },
  {
   "cell_type": "code",
   "execution_count": 88,
   "metadata": {},
   "outputs": [
    {
     "name": "stdout",
     "output_type": "stream",
     "text": [
      "10\n",
      "[16 18 33 19]\n",
      "[24 16 24 13  9]\n"
     ]
    }
   ],
   "source": [
    "#Understanding axis\n",
    "#how .max() behaves by default, with no axis argument, \n",
    "#and how it changes functionality depending on which axis you specify when you do supply an argument:\n",
    "import numpy as np\n",
    "\n",
    "table = np.array([\n",
    "[4, 5, 7, 8],  [9,8\n",
    "[5, 3, 7, 1],   8,5\n",
    "[2, 6, 7 ,9],   8,6\n",
    "[1, 1, 10, 1],  6,8\n",
    "[4, 3, 2, 0],   7,9\n",
    "               ]\n",
    ") ]\n",
    "#concat\n",
    "#vstack, stack\n",
    "#append\n",
    "print(table.max())\n",
    "#col wise\n",
    "print(table.sum(axis=0))\n",
    "#rowwise  which are max marks of every student\n",
    "print(table.sum(axis=1))\n"
   ]
  },
  {
   "cell_type": "code",
   "execution_count": null,
   "metadata": {},
   "outputs": [],
   "source": [
    "#Durer's magic square, a best-known and most enigmatic, with magic constant 34.\n",
    "#The number square below has some amazing properties. \n",
    "#If you add up any of the rows, columns, or diagonals, then you’ll get the same number,\n",
    "#That’s also what you’ll get if you add up each of the four quadrants,\n",
    "#the center four squares, the four corner squares,\n",
    "#or the four corner squares of any of the contained 3 × 3 grids. "
   ]
  },
  {
   "cell_type": "code",
   "execution_count": null,
   "metadata": {},
   "outputs": [],
   "source": [
    "import numpy as np\n",
    "\n",
    "square = np.array([\n",
    "[16, 3, 2, 13],\n",
    "[5, 10, 11, 8],\n",
    "[9, 6, 7, 12],\n",
    "[4, 15, 14, 1]\n",
    " ])\n",
    "\n",
    "a = square[:,0]\n",
    "columns = np.sum(square,axis=1)\n",
    "rows = np.sum(square,axis=0)\n",
    "count = 0;\n",
    "for i in columns:\n",
    "  if i != 34:\n",
    "    print(\"Is not a magic sqaure\")\n",
    "  else:\n",
    "    print(\"Is magic sqaure\")"
   ]
  },
  {
   "cell_type": "code",
   "execution_count": 21,
   "metadata": {},
   "outputs": [
    {
     "name": "stdout",
     "output_type": "stream",
     "text": [
      "[False False False False]\n",
      "[False False False False]\n",
      "[False False False False]\n",
      "[False False False False]\n",
      "True\n",
      "True\n",
      "True\n",
      "True\n",
      "True\n",
      "True\n",
      "True\n",
      "True\n",
      "True\n",
      "True\n",
      "True\n",
      "True\n"
     ]
    }
   ],
   "source": [
    "##Durer's magic square\n",
    "#Inside the for loop, you verify that all the rows and all the columns add up to 34. \n",
    "#After that, using selective indexing, you verify \n",
    "#that each of the quadrants also adds up to 34.\n",
    "import numpy as np\n",
    "\n",
    "square = np.array([\n",
    "[16, 3,   2,  13], \n",
    "[5,  10, 11,   8],\n",
    "[9,  6,   7,  12],\n",
    "[4, 15,  14,   1]\n",
    " ])\n",
    "\n",
    "for i in range(4):\n",
    "    print(square[:,i]==34)\n",
    "    \n",
    "for i in range(4):\n",
    "    print(square[:, i].sum() == 34)\n",
    "    print(square[i, :].sum() == 34)\n",
    "\n",
    "#the first quadrant\n",
    "print( square[:2, :2].sum() == 34)\n",
    "\n",
    "#third quadrant\n",
    "print( square[2:, :2].sum() == 34)\n",
    "\n",
    "#second quadrant\n",
    "print( square[:2, 2:].sum() == 34)\n",
    "\n",
    "#4th quadrant\n",
    "print( square[2:, 2:].sum() == 34)\n"
   ]
  },
  {
   "cell_type": "code",
   "execution_count": 97,
   "metadata": {},
   "outputs": [
    {
     "name": "stdout",
     "output_type": "stream",
     "text": [
      "magic square\n",
      "magic square\n",
      "magic square\n",
      "magic square\n"
     ]
    }
   ],
   "source": [
    "\n",
    "square=np.array([[16,3,2,13],\n",
    "                 [5,10,11,8],\n",
    "                 [9,6,7,12],\n",
    "                 [4,15,14,1]])\n",
    "\n",
    "def magic():\n",
    "    print(\"magic square\")\n",
    "def notmagic():\n",
    "    print(\"not magic square\")\n",
    "for i in range(4):\n",
    "    sq=square.sum(axis=0)\n",
    "    sq1=square.sum(axis=1)\n",
    "    \n",
    "    if square[(0,1,2,3),(0,1,2,3)].sum()==34:\n",
    "        if sq[i]==34:\n",
    "            if sq1[i]==34:\n",
    "                if (square[0:2,0:2].sum() ==34) and (square[2:,2:].sum() ==34) and (square[2:,0:2].sum()==34) and (square[0:2,2:].sum()  ==34):\n",
    "                     magic()\n",
    "                else:\n",
    "                    notmagic()\n",
    "            else:\n",
    "                notmagic()\n",
    "        else:\n",
    "            notmagic()\n",
    "    else:\n",
    "        notmagic()\n",
    "\n"
   ]
  },
  {
   "cell_type": "code",
   "execution_count": 109,
   "metadata": {},
   "outputs": [
    {
     "ename": "TypeError",
     "evalue": "'numpy.ndarray' object is not callable",
     "output_type": "error",
     "traceback": [
      "\u001b[1;31m---------------------------------------------------------------------------\u001b[0m",
      "\u001b[1;31mTypeError\u001b[0m                                 Traceback (most recent call last)",
      "\u001b[1;32m<ipython-input-109-de12e41414ee>\u001b[0m in \u001b[0;36m<module>\u001b[1;34m()\u001b[0m\n\u001b[0;32m      9\u001b[0m  ])\n\u001b[0;32m     10\u001b[0m \u001b[1;33m\u001b[0m\u001b[0m\n\u001b[1;32m---> 11\u001b[1;33m \u001b[1;32mif\u001b[0m \u001b[0msum\u001b[0m\u001b[1;33m(\u001b[0m\u001b[0msquare1\u001b[0m\u001b[1;33m[\u001b[0m\u001b[1;33m[\u001b[0m\u001b[1;36m0\u001b[0m\u001b[1;33m,\u001b[0m\u001b[1;36m0\u001b[0m\u001b[1;33m,\u001b[0m\u001b[1;36m1\u001b[0m\u001b[1;33m,\u001b[0m\u001b[1;36m1\u001b[0m\u001b[1;33m]\u001b[0m\u001b[1;33m,\u001b[0m\u001b[1;33m[\u001b[0m\u001b[1;36m0\u001b[0m\u001b[1;33m,\u001b[0m\u001b[1;36m1\u001b[0m\u001b[1;33m,\u001b[0m\u001b[1;36m0\u001b[0m\u001b[1;33m,\u001b[0m\u001b[1;36m1\u001b[0m\u001b[1;33m]\u001b[0m\u001b[1;33m]\u001b[0m\u001b[1;33m)\u001b[0m \u001b[1;33m==\u001b[0m \u001b[0msum\u001b[0m\u001b[1;33m(\u001b[0m\u001b[0msquare1\u001b[0m\u001b[1;33m[\u001b[0m\u001b[1;33m[\u001b[0m\u001b[1;36m0\u001b[0m\u001b[1;33m,\u001b[0m\u001b[1;36m0\u001b[0m\u001b[1;33m,\u001b[0m\u001b[1;36m1\u001b[0m\u001b[1;33m,\u001b[0m\u001b[1;36m1\u001b[0m\u001b[1;33m]\u001b[0m\u001b[1;33m,\u001b[0m\u001b[1;33m[\u001b[0m\u001b[1;36m2\u001b[0m\u001b[1;33m,\u001b[0m\u001b[1;36m3\u001b[0m\u001b[1;33m,\u001b[0m\u001b[1;36m2\u001b[0m\u001b[1;33m,\u001b[0m\u001b[1;36m3\u001b[0m\u001b[1;33m]\u001b[0m\u001b[1;33m]\u001b[0m\u001b[1;33m)\u001b[0m \u001b[1;33m==\u001b[0m \u001b[0msum\u001b[0m\u001b[1;33m(\u001b[0m\u001b[0msquare1\u001b[0m\u001b[1;33m[\u001b[0m\u001b[1;33m[\u001b[0m\u001b[1;36m2\u001b[0m\u001b[1;33m,\u001b[0m\u001b[1;36m2\u001b[0m\u001b[1;33m,\u001b[0m\u001b[1;36m3\u001b[0m\u001b[1;33m,\u001b[0m\u001b[1;36m3\u001b[0m\u001b[1;33m]\u001b[0m\u001b[1;33m,\u001b[0m\u001b[1;33m[\u001b[0m\u001b[1;36m0\u001b[0m\u001b[1;33m,\u001b[0m\u001b[1;36m1\u001b[0m\u001b[1;33m,\u001b[0m\u001b[1;36m0\u001b[0m\u001b[1;33m,\u001b[0m\u001b[1;36m1\u001b[0m\u001b[1;33m]\u001b[0m\u001b[1;33m]\u001b[0m\u001b[1;33m)\u001b[0m \u001b[1;33m==\u001b[0m \u001b[0msum\u001b[0m\u001b[1;33m(\u001b[0m\u001b[0msquare1\u001b[0m\u001b[1;33m[\u001b[0m\u001b[1;33m[\u001b[0m\u001b[1;36m2\u001b[0m\u001b[1;33m,\u001b[0m\u001b[1;36m2\u001b[0m\u001b[1;33m,\u001b[0m\u001b[1;36m3\u001b[0m\u001b[1;33m,\u001b[0m\u001b[1;36m3\u001b[0m\u001b[1;33m]\u001b[0m\u001b[1;33m,\u001b[0m\u001b[1;33m[\u001b[0m\u001b[1;36m2\u001b[0m\u001b[1;33m,\u001b[0m\u001b[1;36m3\u001b[0m\u001b[1;33m,\u001b[0m\u001b[1;36m2\u001b[0m\u001b[1;33m,\u001b[0m\u001b[1;36m3\u001b[0m\u001b[1;33m]\u001b[0m\u001b[1;33m]\u001b[0m\u001b[1;33m)\u001b[0m\u001b[1;33m:\u001b[0m\u001b[1;33m\u001b[0m\u001b[0m\n\u001b[0m\u001b[0;32m     12\u001b[0m     \u001b[0mprint\u001b[0m\u001b[1;33m(\u001b[0m\u001b[1;34m\"True 1\"\u001b[0m\u001b[1;33m)\u001b[0m\u001b[1;33m\u001b[0m\u001b[0m\n\u001b[0;32m     13\u001b[0m     \u001b[1;32mif\u001b[0m \u001b[0msum\u001b[0m\u001b[1;33m(\u001b[0m\u001b[0msquare1\u001b[0m\u001b[1;33m[\u001b[0m\u001b[1;36m0\u001b[0m\u001b[1;33m]\u001b[0m\u001b[1;33m)\u001b[0m \u001b[1;33m==\u001b[0m \u001b[0msum\u001b[0m\u001b[1;33m(\u001b[0m\u001b[0msquare1\u001b[0m\u001b[1;33m[\u001b[0m\u001b[1;36m1\u001b[0m\u001b[1;33m]\u001b[0m\u001b[1;33m)\u001b[0m \u001b[1;33m==\u001b[0m \u001b[0msum\u001b[0m\u001b[1;33m(\u001b[0m\u001b[0msquare1\u001b[0m\u001b[1;33m[\u001b[0m\u001b[1;36m2\u001b[0m\u001b[1;33m]\u001b[0m\u001b[1;33m)\u001b[0m \u001b[1;33m==\u001b[0m \u001b[0msum\u001b[0m\u001b[1;33m(\u001b[0m\u001b[0msquare1\u001b[0m\u001b[1;33m[\u001b[0m\u001b[1;36m3\u001b[0m\u001b[1;33m]\u001b[0m\u001b[1;33m)\u001b[0m\u001b[1;33m:\u001b[0m\u001b[1;33m\u001b[0m\u001b[0m\n",
      "\u001b[1;31mTypeError\u001b[0m: 'numpy.ndarray' object is not callable"
     ]
    }
   ],
   "source": [
    "\n",
    "import numpy as np\n",
    " \n",
    "square1 = np.array([\n",
    "[16, 3, 2, 13],\n",
    "[5, 10, 11, 8],\n",
    "[9, 6, 7, 12],\n",
    "[4, 15, 14, 1]\n",
    " ])\n",
    " \n",
    "if sum(square1[[0,0,1,1],[0,1,0,1]]) == sum(square1[[0,0,1,1],[2,3,2,3]]) == sum(square1[[2,2,3,3],[0,1,0,1]]) == sum(square1[[2,2,3,3],[2,3,2,3]]):\n",
    "    print(\"True 1\")\n",
    "    if sum(square1[0]) == sum(square1[1]) == sum(square1[2]) == sum(square1[3]):\n",
    "        print(\"True 2\")\n",
    "        if sum(square1[:,0]) == sum(square1[:,1]) == sum(square1[:,2]) == sum(square1[:,3]):\n",
    "            print(\"True 3\")\n",
    "            if sum(square1[[0,1,2,3],[0,1,2,3]]) == sum(square1[:,3]):\n",
    "                print(\"True\")\n"
   ]
  },
  {
   "cell_type": "code",
   "execution_count": 42,
   "metadata": {},
   "outputs": [
    {
     "name": "stdout",
     "output_type": "stream",
     "text": [
      "[34 34 34 34]\n",
      "[34 34 34 34]\n",
      "34\n",
      "34\n",
      "34\n",
      "34\n",
      "it's a magic square\n"
     ]
    }
   ],
   "source": [
    "import numpy as np\n",
    "square=np.array([[16,3,2,13],\n",
    "                 [5,10,11,8],\n",
    "                 [9,6,7,12],\n",
    "                 [4,15,14,1]])\n",
    "s=square.sum(axis=0)\n",
    "print(s)\n",
    "r=square.sum(axis=1)\n",
    "print(r)\n",
    "d= square[:2,:2].sum()\n",
    "print((d))\n",
    "e= square[2:,2:].sum()\n",
    "print((e))\n",
    "f= square[2:,:2].sum()\n",
    "print((f))\n",
    "g= square[:2,2:].sum()\n",
    "print((g))\n",
    "if  s[i]==r[i] and d==e==f==g:\n",
    "    print(\"it's a magic square\")\n",
    "else:\n",
    "    print(\"it's not a magic square\")"
   ]
  },
  {
   "cell_type": "code",
   "execution_count": 44,
   "metadata": {},
   "outputs": [
    {
     "name": "stdout",
     "output_type": "stream",
     "text": [
      "row 34\n",
      "row 34\n",
      "row 34\n",
      "row 34\n",
      "column 34\n",
      "column 34\n",
      "column 34\n",
      "column 34\n",
      "34\n",
      "34\n",
      "34\n",
      "34\n",
      "its a magic square\n"
     ]
    }
   ],
   "source": [
    "square=np.array([\n",
    "[16,3,2,13],\n",
    "[5,10,11,8],\n",
    "[9,6,7,12],\n",
    "[4,15,14,1],                \n",
    "])\n",
    "for i in range(4):\n",
    "  sum_row=square[i,:].sum()\n",
    "  print(\"row\",sum_row.sum())\n",
    "for i in range(4):\n",
    "  col_row=square[:,i].sum()\n",
    "  print(\"column\",col_row.sum())\n",
    "first_quad=print(square[0:2,0:2].sum())\n",
    "second_quad=print(square[0:2,2:4].sum())\n",
    "third_quad=print(square[2:4,0:2].sum())\n",
    "four_quad=print(square[2:4,2:4].sum())\n",
    "if(first_quad == second_quad ==third_quad ==four_quad):\n",
    "  print(\"its a magic square\")\n",
    "else:\n",
    "  print(\"not a magic square\")\n"
   ]
  },
  {
   "cell_type": "code",
   "execution_count": 106,
   "metadata": {},
   "outputs": [
    {
     "name": "stdout",
     "output_type": "stream",
     "text": [
      "All row sum = 34\n",
      "34\n",
      "All column sum = 34\n",
      "34\n",
      "it is durer matrix\n"
     ]
    }
   ],
   "source": [
    "import numpy as np\n",
    "durerarr = np.array([[16,3,2,13],\n",
    "                   [5,10,11,8],\n",
    "                    [9,6,7,12],\n",
    "                   [4,15,14,1]])\n",
    "for i in durerarr:\n",
    "    if sum(i) == 34:\n",
    "        r = sum(i)\n",
    "        continue\n",
    "    else:\n",
    "        print(\"no\")\n",
    "        break\n",
    "print(\"All row sum = 34\")\n",
    "print(r)\n",
    "for i in range(4):\n",
    "    if sum(durerarr[:,i]) == 34:\n",
    "        c = sum(durerarr[:,i])\n",
    "        continue\n",
    "    else:\n",
    "        print(\"no\")\n",
    "print(\"All column sum = 34\")\n",
    "print(c)\n",
    "d1 = durerarr[:2,:2]\n",
    "d2 = durerarr[2:,2:]\n",
    "d3 = durerarr[:2,2:]\n",
    "d4 = durerarr[2:,:2]\n",
    "if np.sum(d1) ==34 and np.sum(d2) == 34 and np.sum(d3) and np.sum(d4) == 34 and r ==34 and c ==34:\n",
    "    print(\"it is durer matrix\")\n",
    "else:\n",
    "    print(\"not\")"
   ]
  },
  {
   "cell_type": "markdown",
   "metadata": {},
   "source": [
    "# Indexing"
   ]
  },
  {
   "cell_type": "markdown",
   "metadata": {},
   "source": [
    "# Masking and Filtering"
   ]
  },
  {
   "cell_type": "code",
   "execution_count": null,
   "metadata": {},
   "outputs": [],
   "source": [
    "#to filter your data based on more complicated nonuniform or nonsequential criteria"
   ]
  },
  {
   "cell_type": "code",
   "execution_count": null,
   "metadata": {},
   "outputs": [],
   "source": [
    "import numpy as np\n",
    "#generates n numbers evenly distributed between a minimum and a maximum, \n",
    "#which is useful for evenly distributed sampling in scientific plotting.\n",
    "#because the space between 5 and 50 doesn’t divide evenly by 24,\n",
    "#the resulting numbers are floating numbers\n",
    "#You specify a dtype of int to force the function to round down and give you whole integers.\n",
    "# -1 signifies that NumPy should just figure out how big that \n",
    "#particular axis needs to be based on the size of the other axes. \n",
    "#In this case, with 24 values and a size of 4 in axis 0, axis 1 ends up\n",
    "#with a size of 6.\n"
   ]
  },
  {
   "cell_type": "code",
   "execution_count": 48,
   "metadata": {},
   "outputs": [
    {
     "data": {
      "text/plain": [
       "array([[ 5,  6,  8, 10, 12, 14],\n",
       "       [16, 18, 20, 22, 24, 26],\n",
       "       [28, 30, 32, 34, 36, 38],\n",
       "       [40, 42, 44, 46, 48, 50]])"
      ]
     },
     "execution_count": 48,
     "metadata": {},
     "output_type": "execute_result"
    }
   ],
   "source": [
    "numbers = np.linspace(5, 50, 24, dtype=int).reshape(4, 6)\n",
    "numbers\n"
   ]
  },
  {
   "cell_type": "code",
   "execution_count": 116,
   "metadata": {},
   "outputs": [],
   "source": [
    "#creates the mask by performing a vectorized Boolean computation\n",
    "mask= numbers % 4 == 0"
   ]
  },
  {
   "cell_type": "code",
   "execution_count": 54,
   "metadata": {},
   "outputs": [
    {
     "data": {
      "text/plain": [
       "array([ 8, 12, 16, 20, 24, 28, 32, 36, 40, 44, 48])"
      ]
     },
     "execution_count": 54,
     "metadata": {},
     "output_type": "execute_result"
    }
   ],
   "source": [
    "#uses this mask to index into the original numbers array. \n",
    "#This causes the array to lose its original shape, reducing it to one dimension \n",
    "numbers[mask]"
   ]
  },
  {
   "cell_type": "code",
   "execution_count": 55,
   "metadata": {},
   "outputs": [],
   "source": [
    "by_four = numbers[numbers % 4 == 0]"
   ]
  },
  {
   "cell_type": "code",
   "execution_count": 56,
   "metadata": {},
   "outputs": [
    {
     "data": {
      "text/plain": [
       "array([ 8, 12, 16, 20, 24, 28, 32, 36, 40, 44, 48])"
      ]
     },
     "execution_count": 56,
     "metadata": {},
     "output_type": "execute_result"
    }
   ],
   "source": [
    "# an anonymous filtering array created inline, inside the selection brackets.\n",
    "by_four"
   ]
  },
  {
   "cell_type": "code",
   "execution_count": null,
   "metadata": {},
   "outputs": [],
   "source": [
    "#Example : The normal distribution is a probability distribution in which \n",
    "#roughly 95.45% of values occur  within two standard deviations of the mean.\n",
    "\n",
    "#import numpy as np\n",
    "\n",
    "#from numpy.random import default_rng\n",
    "\n",
    "#rng = default_rng()\n",
    "\n",
    "#values = rng.standard_normal(10000)\n",
    "\n",
    "#values[:5]\n",
    "\n"
   ]
  },
  {
   "cell_type": "code",
   "execution_count": null,
   "metadata": {},
   "outputs": [],
   "source": [
    "#strange-looking syntax to combine filter conditions: a binary & operator. \n",
    "#Why would that be the case? It’s because NumPy designates & and | as the vectorized, \n",
    "#element-wise operators to combine Booleans. If you try to do A and B, then you’ll get \n",
    "#a warning about how the truth value for an array is weird, \n",
    "#because the and is operating on the truth value of the whole array, not element by element."
   ]
  },
  {
   "cell_type": "markdown",
   "metadata": {},
   "source": [
    "# Transposing, Sorting, and Concatenating"
   ]
  },
  {
   "cell_type": "code",
   "execution_count": 120,
   "metadata": {},
   "outputs": [
    {
     "data": {
      "text/plain": [
       "array([[1, 3, 5],\n",
       "       [2, 4, 6]])"
      ]
     },
     "execution_count": 120,
     "metadata": {},
     "output_type": "execute_result"
    }
   ],
   "source": [
    "#When you calculate the transpose of an array, the row and column \n",
    "#indices of every element are switched.\n",
    "\n",
    "import numpy as np\n",
    "\n",
    "a = np.array([\n",
    "    [1, 2],\n",
    "    [3, 4],\n",
    "    [5, 6],\n",
    "])\n",
    "\n",
    "a.T\n"
   ]
  },
  {
   "cell_type": "code",
   "execution_count": null,
   "metadata": {},
   "outputs": [],
   "source": [
    "a.transpose()"
   ]
  },
  {
   "cell_type": "markdown",
   "metadata": {},
   "source": [
    "# Sorting"
   ]
  },
  {
   "cell_type": "code",
   "execution_count": 49,
   "metadata": {},
   "outputs": [
    {
     "name": "stdout",
     "output_type": "stream",
     "text": [
      "Along first axis : \n",
      " [[10  1]\n",
      " [12 15]]\n",
      "\n",
      "Along last axis : \n",
      " [[10 15]\n",
      " [ 1 12]]\n",
      "\n",
      "Along none axis : \n",
      " [ 1 10 12 15]\n"
     ]
    }
   ],
   "source": [
    "# importing libraries \n",
    "import numpy as np \n",
    "  \n",
    "# sort along the first axis (col wise)\n",
    "a = np.array([[12, 15], \n",
    "              [10, 1]]) \n",
    "arr1 = np.sort(a, axis = 0)         \n",
    "print (\"Along first axis : \\n\", arr1)         \n",
    "    \n",
    "# sort along the last axis  (row wise)\n",
    "a = np.array([[10, 15], \n",
    "              [12, 1]]) \n",
    "arr2 = np.sort(a, axis = -1)         \n",
    "print (\"\\nAlong last axis : \\n\", arr2) \n",
    "   \n",
    "a = np.array([[12, 15], \n",
    "              [10, 1]]) \n",
    "#None flattens the array and performs a global sort.\n",
    "arr1 = np.sort(a, axis = None)         \n",
    "print (\"\\nAlong none axis : \\n\", arr1) \n",
    "\n"
   ]
  },
  {
   "cell_type": "code",
   "execution_count": 158,
   "metadata": {},
   "outputs": [],
   "source": [
    "np.sort?"
   ]
  },
  {
   "cell_type": "code",
   "execution_count": 50,
   "metadata": {},
   "outputs": [
    {
     "data": {
      "text/plain": [
       "array([[1, 4, 7],\n",
       "       [5, 6, 8],\n",
       "       [1, 2, 3]])"
      ]
     },
     "execution_count": 50,
     "metadata": {},
     "output_type": "execute_result"
    }
   ],
   "source": [
    "#Omitting the axis argument automatically selects the last and\n",
    "#innermost dimension, which is the rows in this example. \n",
    "\n",
    "import numpy as np\n",
    "\n",
    "data = np.array([[7, 1, 4],\n",
    "                 [8, 6, 5],\n",
    "                 [1, 2, 3]])\n",
    "\n",
    "np.sort(data)   #by default row-wise sorting done"
   ]
  },
  {
   "cell_type": "code",
   "execution_count": 51,
   "metadata": {},
   "outputs": [
    {
     "data": {
      "text/plain": [
       "array([1, 1, 2, 3, 4, 5, 6, 7, 8])"
      ]
     },
     "execution_count": 51,
     "metadata": {},
     "output_type": "execute_result"
    }
   ],
   "source": [
    "np.array([[1, 4, 7],\n",
    "          [5, 6, 8],\n",
    "          [1, 2, 3]])\n",
    "\n",
    "np.sort(data, axis=None)\n"
   ]
  },
  {
   "cell_type": "code",
   "execution_count": 53,
   "metadata": {},
   "outputs": [
    {
     "name": "stdout",
     "output_type": "stream",
     "text": [
      "[[7 1 4]\n",
      " [8 6 5]\n",
      " [1 2 3]]\n"
     ]
    },
    {
     "data": {
      "text/plain": [
       "array([[1, 1, 3],\n",
       "       [7, 2, 4],\n",
       "       [8, 6, 5]])"
      ]
     },
     "execution_count": 53,
     "metadata": {},
     "output_type": "execute_result"
    }
   ],
   "source": [
    "print(data)\n",
    "np.sort(data, axis=0)\n"
   ]
  },
  {
   "cell_type": "markdown",
   "metadata": {},
   "source": [
    "# Concatenation"
   ]
  },
  {
   "cell_type": "code",
   "execution_count": 110,
   "metadata": {},
   "outputs": [
    {
     "data": {
      "text/plain": [
       "array([[4, 8],\n",
       "       [6, 1],\n",
       "       [3, 5],\n",
       "       [7, 2],\n",
       "       [3, 4]])"
      ]
     },
     "execution_count": 110,
     "metadata": {},
     "output_type": "execute_result"
    }
   ],
   "source": [
    "#One important stumbling block to note is that all these functions take a \n",
    "#tuple of arrays as their first argument rather than a variable number of\n",
    "#arguments as you might expect. \n",
    "#You can tell because there’s an extra pair of parentheses.\n",
    "a = np.array([\n",
    "               [4, 8],\n",
    "               [6, 1]    \n",
    "              ])       \n",
    "b = np.array([\n",
    "              [3, 5],  \n",
    "              [7, 2],\n",
    "              [3, 4]\n",
    "              \n",
    "             ])\n",
    "\n",
    "np.vstack((a, b))  #axis 1\n"
   ]
  },
  {
   "cell_type": "code",
   "execution_count": 111,
   "metadata": {},
   "outputs": [
    {
     "data": {
      "text/plain": [
       "array([[4, 8],\n",
       "       [6, 1],\n",
       "       [3, 5],\n",
       "       [7, 2]])"
      ]
     },
     "execution_count": 111,
     "metadata": {},
     "output_type": "execute_result"
    }
   ],
   "source": [
    "a= np.array([\n",
    "               [4, 8],\n",
    "               [6, 1]\n",
    "              ])\n",
    "\n",
    "b = np.array([\n",
    "              [3, 5],\n",
    "              [7, 2]\n",
    "             ])\n",
    "np.concatenate((a, b))"
   ]
  },
  {
   "cell_type": "code",
   "execution_count": 56,
   "metadata": {},
   "outputs": [
    {
     "data": {
      "text/plain": [
       "array([[4, 8],\n",
       "       [6, 1],\n",
       "       [3, 5],\n",
       "       [7, 2]])"
      ]
     },
     "execution_count": 56,
     "metadata": {},
     "output_type": "execute_result"
    }
   ],
   "source": [
    "np.vstack((a, b))"
   ]
  },
  {
   "cell_type": "code",
   "execution_count": 72,
   "metadata": {},
   "outputs": [
    {
     "data": {
      "text/plain": [
       "array([4, 8, 6, 1, 3, 5, 7, 2])"
      ]
     },
     "execution_count": 72,
     "metadata": {},
     "output_type": "execute_result"
    }
   ],
   "source": [
    "a= np.array([\n",
    "               [4, 8],\n",
    "               [6, 1]\n",
    "              ])\n",
    "\n",
    "b = np.array([\n",
    "              [3, 5],\n",
    "              [7, 2]\n",
    "             ])\n",
    "np.concatenate((a, b), axis=None)"
   ]
  },
  {
   "cell_type": "code",
   "execution_count": null,
   "metadata": {},
   "outputs": [],
   "source": [
    "# NumPy has a special kind of array, called a record array or structured array, \n",
    "#with which you can specify a type and, optionally,a name on a per-column basis"
   ]
  },
  {
   "cell_type": "code",
   "execution_count": 58,
   "metadata": {},
   "outputs": [
    {
     "data": {
      "text/plain": [
       "('joe', 32, 6)"
      ]
     },
     "execution_count": 58,
     "metadata": {},
     "output_type": "execute_result"
    }
   ],
   "source": [
    "In [1]: import numpy as np\n",
    "\n",
    "data = np.array([\n",
    "(\"joe\", 32, 6),\n",
    "(\"mary\", 15, 20),\n",
    "(\"felipe\", 80, 100),\n",
    "(\"beyonce\", 38, 9001),], dtype=[(\"name\", str, 10), (\"age\", int), (\"power\", int)])\n",
    "\n",
    "data[0]\n"
   ]
  },
  {
   "cell_type": "code",
   "execution_count": 59,
   "metadata": {},
   "outputs": [
    {
     "data": {
      "text/plain": [
       "array(['joe', 'mary', 'felipe', 'beyonce'], dtype='<U10')"
      ]
     },
     "execution_count": 59,
     "metadata": {},
     "output_type": "execute_result"
    }
   ],
   "source": [
    "data[\"name\"]\n"
   ]
  },
  {
   "cell_type": "code",
   "execution_count": 60,
   "metadata": {},
   "outputs": [
    {
     "data": {
      "text/plain": [
       "array(['beyonce'], dtype='<U10')"
      ]
     },
     "execution_count": 60,
     "metadata": {},
     "output_type": "execute_result"
    }
   ],
   "source": [
    "a=data[data[\"power\"] > 9000][\"name\"]\n",
    "a\n"
   ]
  },
  {
   "cell_type": "code",
   "execution_count": 61,
   "metadata": {},
   "outputs": [
    {
     "data": {
      "text/plain": [
       "array([('joe', 32,    6), ('felipe', 80,  100), ('beyonce', 38, 9001)],\n",
       "      dtype=[('name', '<U10'), ('age', '<i4'), ('power', '<i4')])"
      ]
     },
     "execution_count": 61,
     "metadata": {},
     "output_type": "execute_result"
    }
   ],
   "source": [
    "data[data[\"age\"] > 20]"
   ]
  },
  {
   "cell_type": "code",
   "execution_count": 88,
   "metadata": {},
   "outputs": [
    {
     "data": {
      "text/plain": [
       "array(['joe', 'felipe', 'beyonce'], dtype='<U10')"
      ]
     },
     "execution_count": 88,
     "metadata": {},
     "output_type": "execute_result"
    }
   ],
   "source": [
    "np.sort(data[data[\"age\"] > 20], order=\"power\")[\"name\"]"
   ]
  },
  {
   "cell_type": "code",
   "execution_count": 89,
   "metadata": {},
   "outputs": [
    {
     "name": "stdout",
     "output_type": "stream",
     "text": [
      "int16\n"
     ]
    },
    {
     "data": {
      "text/plain": [
       "array([[ 3,  8,  9],\n",
       "       [ 1, -7,  0],\n",
       "       [ 4, 12,  4]], dtype=int16)"
      ]
     },
     "execution_count": 89,
     "metadata": {},
     "output_type": "execute_result"
    }
   ],
   "source": [
    "\n",
    "i16 = np.dtype(np.int16)\n",
    "print(i16)\n",
    "\n",
    "lst = [ [3.4, 8.7, 9.9], \n",
    "        [1.1, -7.8, -0.7],\n",
    "        [4.1, 12.3, 4.8] ]\n",
    "\n",
    "A = np.array(lst, dtype=i16)\n",
    "A"
   ]
  },
  {
   "cell_type": "code",
   "execution_count": 90,
   "metadata": {},
   "outputs": [
    {
     "name": "stdout",
     "output_type": "stream",
     "text": [
      "\n",
      "Sum of arr :  279\n",
      "Sum of arr(uint8) :  23\n",
      "Sum of arr(float32) :  279.0\n",
      "\n",
      "Is np.sum(arr).dtype == np.uint :  False\n"
     ]
    }
   ],
   "source": [
    "\n",
    "arr=np.array([[14, 17, 12, 33, 44],\n",
    "              [15, 6, 27, 8, 19],\n",
    "              [23, 2, 54, 1, 4]])\n",
    "print(\"\\nSum of arr : \", np.sum(arr))\n",
    "print(\"Sum of arr(uint8) : \", np.sum(arr, dtype = np.uint8))\n",
    "print(\"Sum of arr(float32) : \", np.sum(arr, dtype = np.float32))\n",
    "print (\"\\nIs np.sum(arr).dtype == np.uint : \",\n",
    "       np.sum(arr).dtype == np.uint)"
   ]
  },
  {
   "cell_type": "code",
   "execution_count": 93,
   "metadata": {},
   "outputs": [
    {
     "name": "stdout",
     "output_type": "stream",
     "text": [
      "\n",
      "Sum of arr :  279\n",
      "Sum of arr(axis = 0) :  [52 25 93 42 67]\n",
      "Sum of arr(axis = 1) :  [120.  75.  84.]\n",
      "out is [120.  75.  84.]\n",
      "\n",
      "Sum of arr (keepdimension is True): \n",
      " [[120]\n",
      " [ 75]\n",
      " [ 84]]\n",
      "new is  [120.  75.  84.]\n"
     ]
    }
   ],
   "source": [
    "new=np.empty([3])\n",
    "print(\"\\nSum of arr : \", np.sum(arr))\n",
    "print(\"Sum of arr(axis = 0) : \", np.sum(arr, axis = 0))\n",
    "print(\"Sum of arr(axis = 1) : \", np.sum(arr, axis = 1,out=new))\n",
    "print(\"new is\", new)\n",
    "print(\"\\nSum of arr (keepdimension is True): \\n\",\n",
    "      np.sum(arr, axis = 1, keepdims = True)) \n",
    "print(\"new is \", new)"
   ]
  },
  {
   "cell_type": "code",
   "execution_count": 62,
   "metadata": {},
   "outputs": [
    {
     "name": "stdout",
     "output_type": "stream",
     "text": [
      "[[1 2]\n",
      " [3 4]]\n",
      "\n",
      "[[5 6]]\n",
      "\n",
      "[[1 2]\n",
      " [3 4]\n",
      " [5 6]]\n",
      "[[1 2 5]\n",
      " [3 4 6]]\n",
      "[1 2 3 4 5 6]\n"
     ]
    }
   ],
   "source": [
    "a = np.array([[1, 2], [3, 4]])\n",
    "print(a)\n",
    "print()\n",
    "b = np.array([[5, 6]])\n",
    "print(b)\n",
    "print()\n",
    "arr=np.concatenate((a, b), axis=0)\n",
    "print(arr)\n",
    "arr1=np.concatenate((a,b.T), axis=1)\n",
    "print(arr1)\n",
    "arr2=np.concatenate((a, b), axis=None)\n",
    "print(arr2)"
   ]
  },
  {
   "cell_type": "code",
   "execution_count": 99,
   "metadata": {},
   "outputs": [
    {
     "name": "stdout",
     "output_type": "stream",
     "text": [
      "initial_array :  [[ 1  2  3]\n",
      " [45  4  7]\n",
      " [ 9  6 10]]\n",
      "resultant array [[ 1  2  3  1]\n",
      " [45  4  7  2]\n",
      " [ 9  6 10  3]]\n"
     ]
    }
   ],
   "source": [
    "# Python code to demonstrate\n",
    "# adding columns in numpy array\n",
    " \n",
    "import numpy as np\n",
    " \n",
    "ini_array = np.array([[1, 2, 3], [45, 4, 7], [9, 6, 10]])\n",
    " \n",
    "# printing initial array\n",
    "print(\"initial_array : \", str(ini_array));\n",
    " \n",
    "# Array to be added as column\n",
    "column_to_be_added = np.array([[1, 2, 3]])\n",
    " \n",
    "# Adding column to numpy array\n",
    "\n",
    "result=np.hstack((ini_array, column_to_be_added.T))\n",
    "#this will also work\n",
    "#result = np.hstack((ini_array, np.atleast_2d(column_to_be_added).T))\n",
    " \n",
    "# printing result\n",
    "print (\"resultant array\", str(result))"
   ]
  },
  {
   "cell_type": "code",
   "execution_count": null,
   "metadata": {},
   "outputs": [],
   "source": [
    " \n",
    "import numpy as np\n",
    " \n",
    "ini_array = np.array([[1, 2, 3], [45, 4, 7], [9, 6, 10]])\n",
    " \n",
    "# printing initial array\n",
    "print(\"initial_array : \", str(ini_array));\n",
    " \n",
    "# Array to be added as column\n",
    "column_to_be_added = np.array([1, 2, 3])\n",
    " \n",
    "# Adding column to numpy array\n",
    "result = np.column_stack((ini_array, column_to_be_added))\n",
    " \n",
    "# printing result\n",
    "print (\"resultant array\", str(result))"
   ]
  },
  {
   "cell_type": "code",
   "execution_count": null,
   "metadata": {},
   "outputs": [],
   "source": [
    "#python code to demonstrate\n",
    "# adding rows in numpy array\n",
    " \n",
    "import numpy as np\n",
    " \n",
    "ini_array = np.array([[1, 2, 3], [45, 4, 7], [9, 6, 10]])\n",
    " \n",
    "# printing initial array\n",
    "print(\"initial_array : \", str(ini_array));\n",
    " \n",
    "# Array to be added as row\n",
    "row_to_be_added = np.array([1, 2, 3])\n",
    " \n",
    "# Adding row to numpy array\n",
    "result = np.vstack ((ini_array, row_to_be_added) )\n",
    "print(row_to_be_added.shape) \n",
    "print(ini_array.shape) \n",
    "# printing result\n",
    "print (\"resultant array\", str(result))"
   ]
  },
  {
   "cell_type": "code",
   "execution_count": null,
   "metadata": {},
   "outputs": [],
   "source": [
    "#5 by 4 array\n",
    "n=5\n",
    "k=4\n",
    "a=np.zeros([n,k])\n",
    "print(a)\n",
    "for i in range(n):\n",
    "    for j in range(k):\n",
    "        a[i][j]=i+2*j\n",
    "\n",
    "        \n",
    "#rowwise colwise sum to be added\n",
    "#This adds the row\n",
    "a=np.append(a,[np.sum(a,axis=0)],axis=0)\n",
    "#This calculates the column\n",
    "col=np.array([np.sum(a,axis=1)])\n",
    "print(\"shape is \",col.shape)\n",
    "#Finally we add the column\n",
    "a=np.concatenate((a,col.T),axis=1)\n",
    "print(a)"
   ]
  },
  {
   "cell_type": "code",
   "execution_count": null,
   "metadata": {},
   "outputs": [],
   "source": [
    "#add a row wise sum list  in array\n",
    "a=np.array([[0,1,2,3,4,5],\n",
    "            [10,11,12,13,14,15],\n",
    "            [20,21,22,23,24,25],\n",
    "            [30,31,32,33,34,35],\n",
    "            [40,41,42,43,44,45],\n",
    "            [50,51,52,53,54,55]])\n",
    "x=a.sum(0)\n",
    "print(x)\n",
    "x=np.array(x)\n",
    "print(x)\n",
    "print(x.shape)\n",
    "print(a.shape)\n",
    "#a=np.append(a,np.array(x),axis=1)\n",
    "r=np.vstack((a,x))\n",
    "r\n"
   ]
  },
  {
   "cell_type": "code",
   "execution_count": null,
   "metadata": {},
   "outputs": [],
   "source": [
    "import numpy as np\n",
    "\n",
    "np.random.randint\n",
    "values = np.random.randint(lower_limit, upper_limit, 10)\n",
    "values"
   ]
  },
  {
   "cell_type": "code",
   "execution_count": 3,
   "metadata": {},
   "outputs": [
    {
     "data": {
      "text/plain": [
       "array([174,  49, 119, 194,  69, 197, 105,  11,  23,  38])"
      ]
     },
     "execution_count": 3,
     "metadata": {},
     "output_type": "execute_result"
    }
   ],
   "source": [
    "import numpy as np\n",
    "\n",
    "np.random.seed(0)\n",
    "values= np.random.randint( 2, 200, 10)\n",
    "values\n",
    "\n",
    "\n",
    "\n",
    "\n",
    "#testing\n",
    "#16, 124,  30, 118, 173, 161, 113, 111,  30,  18]"
   ]
  },
  {
   "cell_type": "code",
   "execution_count": null,
   "metadata": {},
   "outputs": [],
   "source": [
    "[0.34160221, 0.54234533, 0.11764301, 0.27429481],\n",
    "       [0.30989172, 0.46409958, 0.13890834, 0.89365142],\n",
    "       [0.18555531, 0.10564703, 0.19165216, 0.66152945]])\n",
    "       \n",
    "[[0.94381578, 0.83445753, 0.62749374, 0.54733059],\n",
    "       [0.23620659, 0.48376324, 0.96704776, 0.84194961],\n",
    "       [0.29726937, 0.05869515, 0.46087966, 0.68756895]]"
   ]
  },
  {
   "cell_type": "code",
   "execution_count": 4,
   "metadata": {},
   "outputs": [
    {
     "name": "stdout",
     "output_type": "stream",
     "text": [
      "Creating 8X3 array using numpy.arange\n",
      "[[10 11 12]\n",
      " [13 14 15]\n",
      " [16 17 18]\n",
      " [19 20 21]\n",
      " [22 23 24]\n",
      " [25 26 27]\n",
      " [28 29 30]\n",
      " [31 32 33]]\n",
      "\n",
      "Dividing 8X3 array into 4 sub array\n",
      "\n",
      "[array([[10, 11, 12],\n",
      "       [13, 14, 15]]), array([[16, 17, 18],\n",
      "       [19, 20, 21]]), array([[22, 23, 24],\n",
      "       [25, 26, 27]]), array([[28, 29, 30],\n",
      "       [31, 32, 33]])]\n"
     ]
    }
   ],
   "source": [
    "import numpy\n",
    "\n",
    "print(\"Creating 8X3 array using numpy.arange\")\n",
    "sampleArray = numpy.arange(10, 34, 1)\n",
    "sampleArray = sampleArray.reshape(8,3)\n",
    "print (sampleArray)\n",
    "\n",
    "print(\"\\nDividing 8X3 array into 4 sub array\\n\")\n",
    "subArrays = numpy.split(sampleArray, 4) \n",
    "print(subArrays)"
   ]
  },
  {
   "cell_type": "code",
   "execution_count": null,
   "metadata": {},
   "outputs": [],
   "source": []
  },
  {
   "cell_type": "code",
   "execution_count": null,
   "metadata": {},
   "outputs": [],
   "source": []
  },
  {
   "cell_type": "code",
   "execution_count": null,
   "metadata": {},
   "outputs": [],
   "source": []
  },
  {
   "cell_type": "code",
   "execution_count": null,
   "metadata": {},
   "outputs": [],
   "source": []
  },
  {
   "cell_type": "code",
   "execution_count": null,
   "metadata": {},
   "outputs": [],
   "source": [
    "\n"
   ]
  },
  {
   "cell_type": "code",
   "execution_count": null,
   "metadata": {},
   "outputs": [],
   "source": []
  },
  {
   "cell_type": "code",
   "execution_count": 69,
   "metadata": {},
   "outputs": [
    {
     "name": "stdout",
     "output_type": "stream",
     "text": [
      "<class 'numpy.ndarray'>\n",
      "uint8\n",
      "(194, 259, 3)\n"
     ]
    },
    {
     "data": {
      "text/plain": [
       "array([[[224, 231, 125],\n",
       "        [225, 232, 126],\n",
       "        [226, 233, 129],\n",
       "        ...,\n",
       "        [204, 216, 140],\n",
       "        [204, 216, 140],\n",
       "        [204, 216, 140]],\n",
       "\n",
       "       [[224, 231, 127],\n",
       "        [225, 232, 128],\n",
       "        [226, 233, 130],\n",
       "        ...,\n",
       "        [204, 216, 140],\n",
       "        [204, 216, 140],\n",
       "        [204, 216, 140]],\n",
       "\n",
       "       [[225, 232, 129],\n",
       "        [225, 232, 129],\n",
       "        [226, 232, 132],\n",
       "        ...,\n",
       "        [205, 217, 141],\n",
       "        [205, 217, 141],\n",
       "        [205, 217, 141]],\n",
       "\n",
       "       ...,\n",
       "\n",
       "       [[197, 213,  91],\n",
       "        [197, 212,  95],\n",
       "        [198, 212,  99],\n",
       "        ...,\n",
       "        [150,  91,  35],\n",
       "        [150,  91,  35],\n",
       "        [150,  91,  35]],\n",
       "\n",
       "       [[176, 213,  73],\n",
       "        [179, 211,  74],\n",
       "        [183, 210,  79],\n",
       "        ...,\n",
       "        [143,  82,  28],\n",
       "        [153,  92,  38],\n",
       "        [164, 103,  49]],\n",
       "\n",
       "       [[176, 213,  73],\n",
       "        [179, 211,  74],\n",
       "        [183, 210,  79],\n",
       "        ...,\n",
       "        [143,  82,  28],\n",
       "        [153,  92,  38],\n",
       "        [164, 103,  49]]], dtype=uint8)"
      ]
     },
     "execution_count": 69,
     "metadata": {},
     "output_type": "execute_result"
    }
   ],
   "source": [
    "from PIL import Image\n",
    "import numpy as np\n",
    "\n",
    "im = np.array(Image.open('tiger.jfif'))\n",
    "\n",
    "print(type(im))\n",
    "# <class 'numpy.ndarray'>\n",
    "\n",
    "print(im.dtype)\n",
    "# uint8\n",
    "\n",
    "print(im.shape)\n",
    "# (225, 400, 3)\n",
    "im"
   ]
  },
  {
   "cell_type": "code",
   "execution_count": 112,
   "metadata": {},
   "outputs": [
    {
     "name": "stdout",
     "output_type": "stream",
     "text": [
      "(194, 259)\n",
      "L\n"
     ]
    },
    {
     "data": {
      "text/plain": [
       "array([[216, 217, 219, ..., 203, 203, 203],\n",
       "       [217, 218, 219, ..., 203, 203, 203],\n",
       "       [218, 218, 218, ..., 204, 204, 204],\n",
       "       ...,\n",
       "       [194, 194, 194, ..., 102, 102, 102],\n",
       "       [185, 185, 186, ...,  94, 104, 115],\n",
       "       [185, 185, 186, ...,  94, 104, 115]], dtype=uint8)"
      ]
     },
     "execution_count": 112,
     "metadata": {},
     "output_type": "execute_result"
    }
   ],
   "source": [
    "im_gray = np.array(Image.open('tiger.jfif').convert('L'))\n",
    "\n",
    "print(im_gray.shape)\n",
    "pil_img_gray = Image.fromarray(im_gray)\n",
    "print(pil_img_gray.mode)\n",
    "# L\n",
    "\n",
    "pil_img_gray.save('tiger_grey.jfif')\n",
    "im_gray"
   ]
  },
  {
   "cell_type": "code",
   "execution_count": 115,
   "metadata": {},
   "outputs": [
    {
     "name": "stdout",
     "output_type": "stream",
     "text": [
      "[[[224 231 125]\n",
      "  [225 232 126]\n",
      "  [226 233 129]\n",
      "  ...\n",
      "  [204 216 140]\n",
      "  [204 216 140]\n",
      "  [204 216 140]]\n",
      "\n",
      " [[224 231 127]\n",
      "  [225 232 128]\n",
      "  [226 233 130]\n",
      "  ...\n",
      "  [204 216 140]\n",
      "  [204 216 140]\n",
      "  [204 216 140]]\n",
      "\n",
      " [[225 232 129]\n",
      "  [225 232 129]\n",
      "  [226 232 132]\n",
      "  ...\n",
      "  [205 217 141]\n",
      "  [205 217 141]\n",
      "  [205 217 141]]\n",
      "\n",
      " ...\n",
      "\n",
      " [[197 213  91]\n",
      "  [197 212  95]\n",
      "  [198 212  99]\n",
      "  ...\n",
      "  [150  91  35]\n",
      "  [150  91  35]\n",
      "  [150  91  35]]\n",
      "\n",
      " [[176 213  73]\n",
      "  [179 211  74]\n",
      "  [183 210  79]\n",
      "  ...\n",
      "  [143  82  28]\n",
      "  [153  92  38]\n",
      "  [164 103  49]]\n",
      "\n",
      " [[176 213  73]\n",
      "  [179 211  74]\n",
      "  [183 210  79]\n",
      "  ...\n",
      "  [143  82  28]\n",
      "  [153  92  38]\n",
      "  [164 103  49]]]\n"
     ]
    }
   ],
   "source": [
    "from PIL import Image\n",
    "import numpy as np\n",
    "\n",
    "im = np.array(Image.open('tiger.jfif'))\n",
    "print(im)\n",
    "im_R = im.copy()\n",
    "im_G = im.copy()\n",
    "im_B = im.copy()\n",
    "\n",
    "im_R[:, :, (1, 2)] = 0\n",
    "\n",
    "im_G[:, :, (0, 2)] = 0\n",
    "\n",
    "im_B[:, :, (0, 1)] = 0\n",
    "\n",
    "im_RGB = np.concatenate((im_R, im_G, im_B), axis=0)\n",
    "# im_RGB = np.hstack((im_R, im_G, im_B))\n",
    "# im_RGB = np.c_['1', im_R, im_G, im_B]\n",
    "\n",
    "pil_img = Image.fromarray(im_RGB)\n",
    "pil_img.save('tiger_concat.jpg')"
   ]
  },
  {
   "cell_type": "code",
   "execution_count": null,
   "metadata": {},
   "outputs": [],
   "source": []
  },
  {
   "cell_type": "code",
   "execution_count": null,
   "metadata": {},
   "outputs": [],
   "source": []
  }
 ],
 "metadata": {
  "kernelspec": {
   "display_name": "Python 3",
   "language": "python",
   "name": "python3"
  },
  "language_info": {
   "codemirror_mode": {
    "name": "ipython",
    "version": 3
   },
   "file_extension": ".py",
   "mimetype": "text/x-python",
   "name": "python",
   "nbconvert_exporter": "python",
   "pygments_lexer": "ipython3",
   "version": "3.6.4"
  }
 },
 "nbformat": 4,
 "nbformat_minor": 2
}
