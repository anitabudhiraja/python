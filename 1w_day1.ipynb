{
 "cells": [
  {
   "cell_type": "code",
   "execution_count": null,
   "metadata": {},
   "outputs": [],
   "source": [
    "Q4 Input Name and Basicpay of employee.\n",
    "calculate gross pay and net pay\n",
    "grosspay= bp + da + hra -Pf\n",
    "pf=12% of bp\n",
    "hra is 20% of bp but maximum can be 20000 only\n",
    "da is 20% of bp for bp < 3 lac\n",
    "otherwise\n",
    "da is 30% of bp\n",
    "netpay=grosspay - pf"
   ]
  },
  {
   "cell_type": "code",
   "execution_count": 9,
   "metadata": {},
   "outputs": [
    {
     "name": "stdout",
     "output_type": "stream",
     "text": [
      "Enter your name :seema\n",
      "enter the basic pay:700000\n",
      "seema will get  930000.0 gross pay\n",
      "seema will get  846000.0 net pay\n",
      "Enter your name :neena\n",
      "enter the basic pay:560000\n",
      "neena will get  748000.0 gross pay\n",
      "neena will get  680800.0 net pay\n",
      "Enter your name :rahul\n",
      "enter the basic pay:67676676\n",
      "rahul will get  87999678.8 gross pay\n",
      "rahul will get  79878477.67999999 net pay\n"
     ]
    }
   ],
   "source": [
    "counter=1\n",
    "while counter <=3:\n",
    "    name = input(\"Enter your name :\")\n",
    "    basicpay = int(input(\"enter the basic pay:\"))\n",
    "    #calculating da\n",
    "    if basicpay < 300000:\n",
    "        da = 20/100 * basicpay\n",
    "    else:\n",
    "        da=30/100 * basicpay\n",
    "    #calculating hra\n",
    "\n",
    "    hra = 20/100 * basicpay\n",
    "    if hra >20000:\n",
    "        hra=20000\n",
    "    #calculating pf\n",
    "    pf = 12/100 * basicpay\n",
    "    #grosspay\n",
    "\n",
    "    gross = basicpay + da + hra\n",
    "\n",
    "    netpay = gross - pf\n",
    "    print(name , \"will get \", gross, \"gross pay\")\n",
    "    print(name , \"will get \", netpay, \"net pay\")\n",
    "    \n",
    "    counter=counter+1"
   ]
  },
  {
   "cell_type": "code",
   "execution_count": 78,
   "metadata": {},
   "outputs": [
    {
     "name": "stdout",
     "output_type": "stream",
     "text": [
      "enter a charactere\n",
      "vowel\n"
     ]
    }
   ],
   "source": [
    "char=input(\"enter a character\")\n",
    "char = char.upper()\n",
    "if char == \"A\" or char ==\"O\" or char ==\"E\" or char ==\"I\" or char ==\"U\":\n",
    "    print(\"vowel\")\n",
    "else:\n",
    "    print(\"not vowel\")\n"
   ]
  },
  {
   "cell_type": "code",
   "execution_count": 83,
   "metadata": {},
   "outputs": [
    {
     "name": "stdout",
     "output_type": "stream",
     "text": [
      "enter a characterM\n",
      "vowel\n"
     ]
    }
   ],
   "source": [
    "#membership test\n",
    "char=input(\"enter a character\")\n",
    "char = char.upper()\n",
    "\n",
    "if char in \"AOEIU\":\n",
    "    print(\"vowel\")\n",
    "else:\n",
    "    print(\"not vowel\")\n"
   ]
  },
  {
   "cell_type": "code",
   "execution_count": null,
   "metadata": {},
   "outputs": [],
   "source": [
    "if 5:\n",
    "    \n",
    "\n"
   ]
  },
  {
   "cell_type": "code",
   "execution_count": 15,
   "metadata": {},
   "outputs": [
    {
     "name": "stdout",
     "output_type": "stream",
     "text": [
      "Enter the Number: 5\n",
      "Till what :30\n",
      "5  *  1  =  5\n",
      "5  *  2  =  10\n",
      "5  *  3  =  15\n",
      "5  *  4  =  20\n",
      "5  *  5  =  25\n",
      "5  *  6  =  30\n",
      "5  *  7  =  35\n",
      "5  *  8  =  40\n",
      "5  *  9  =  45\n",
      "5  *  10  =  50\n",
      "5  *  11  =  55\n",
      "5  *  12  =  60\n",
      "5  *  13  =  65\n",
      "5  *  14  =  70\n",
      "5  *  15  =  75\n",
      "5  *  16  =  80\n",
      "5  *  17  =  85\n",
      "5  *  18  =  90\n",
      "5  *  19  =  95\n",
      "5  *  20  =  100\n",
      "5  *  21  =  105\n",
      "5  *  22  =  110\n",
      "5  *  23  =  115\n",
      "5  *  24  =  120\n",
      "5  *  25  =  125\n",
      "5  *  26  =  130\n",
      "5  *  27  =  135\n",
      "5  *  28  =  140\n",
      "5  *  29  =  145\n",
      "5  *  30  =  150\n"
     ]
    }
   ],
   "source": [
    "i = 1\n",
    "number = eval(input(\"Enter the Number: \"))\n",
    "end = eval(input(\"Till what :\"))\n",
    "\n",
    "while i <= end:\n",
    "    value = number * i\n",
    "    \n",
    "    print(number, \" * \", i, \" = \", value)\n",
    "    i = i + 1"
   ]
  },
  {
   "cell_type": "code",
   "execution_count": 22,
   "metadata": {},
   "outputs": [
    {
     "name": "stdout",
     "output_type": "stream",
     "text": [
      "enter a number1\n",
      "odd\n",
      "enter a number3\n",
      "odd\n",
      "enter a number2\n",
      "even\n",
      "enter a number4\n",
      "even\n",
      "enter a number5\n",
      "odd\n",
      "total odd numbers are 3\n",
      "total even numbers are 2\n",
      "total of even numbers is  6\n",
      "total of odd numbers is  9\n"
     ]
    }
   ],
   "source": [
    "#Q enter 5 numbers, count odd and even and summ odd and even numbers separately\n",
    "counter=1\n",
    "even=0\n",
    "odd=0\n",
    "evensum=oddsum=0\n",
    "while counter <=5:\n",
    "    n=int(input(\"enter a number\"))\n",
    "    #quotient\n",
    "    if n % 2 == 0:\n",
    "        print(\"even\")\n",
    "        even=even+1\n",
    "        evensum = evensum + n\n",
    "    else:\n",
    "        print(\"odd\")\n",
    "        odd=odd+1\n",
    "        oddsum=oddsum + n\n",
    "    counter=counter+1\n",
    "    \n",
    "print(\"total odd numbers are\", odd)\n",
    "print(\"total even numbers are\", even)\n",
    "print(\"total of even numbers is \", evensum)\n",
    "print(\"total of odd numbers is \", oddsum)"
   ]
  },
  {
   "cell_type": "code",
   "execution_count": null,
   "metadata": {},
   "outputs": [],
   "source": [
    "enter a number , check whether its prime no\n",
    "n=int9input(\"enter a number\")\n",
    "div=2\n",
    "while div <= n/2:\n",
    "    \n",
    "\n"
   ]
  },
  {
   "cell_type": "code",
   "execution_count": 90,
   "metadata": {},
   "outputs": [
    {
     "ename": "SyntaxError",
     "evalue": "'break' outside loop (Temp/ipykernel_12260/668683560.py, line 1)",
     "output_type": "error",
     "traceback": [
      "\u001b[1;36m  File \u001b[1;32m\"C:\\Users\\Anita\\AppData\\Local\\Temp/ipykernel_12260/668683560.py\"\u001b[1;36m, line \u001b[1;32m1\u001b[0m\n\u001b[1;33m    break\u001b[0m\n\u001b[1;37m    ^\u001b[0m\n\u001b[1;31mSyntaxError\u001b[0m\u001b[1;31m:\u001b[0m 'break' outside loop\n"
     ]
    }
   ],
   "source": [
    "continue"
   ]
  },
  {
   "cell_type": "code",
   "execution_count": 91,
   "metadata": {},
   "outputs": [
    {
     "name": "stdout",
     "output_type": "stream",
     "text": [
      "enter a number3\n",
      "enter a number4\n",
      "enter a number-2\n",
      "7\n"
     ]
    }
   ],
   "source": [
    "i=1\n",
    "sum=0\n",
    "\n",
    "while i <=15:\n",
    "    n=int(input(\"enter a number\"))\n",
    "    if n < 0:\n",
    "        break\n",
    "    else:\n",
    "        sum=sum + n\n",
    "    i=i+1\n",
    "    continue\n",
    "    \n",
    "    \n",
    "print(sum)"
   ]
  },
  {
   "cell_type": "code",
   "execution_count": 49,
   "metadata": {},
   "outputs": [
    {
     "name": "stdout",
     "output_type": "stream",
     "text": [
      "Enter the number: 13\n",
      "13 is a prime number\n"
     ]
    }
   ],
   "source": [
    "#Vikram Ranga11:44\n",
    "n = int(input(\"Enter the number: \"))\n",
    "\n",
    "for div in range(2, n//2 +1 ,1 ):\n",
    "    if n % div == 0:\n",
    "        print(n, \"NOT a prime number\")\n",
    "        break       \n",
    "else:\n",
    "    print(n, \"is a prime number\")\n",
    "\n",
    "  "
   ]
  },
  {
   "cell_type": "code",
   "execution_count": 99,
   "metadata": {},
   "outputs": [
    {
     "name": "stdout",
     "output_type": "stream",
     "text": [
      "Enter the number: 4\n",
      "4  *  11  =  44\n"
     ]
    }
   ],
   "source": [
    "n = int(input(\"Enter the number: \"))\n",
    "for i in range(11,20):\n",
    "    table = n * i\n",
    "    print(n, \" * \", i, \" = \", table)"
   ]
  },
  {
   "cell_type": "code",
   "execution_count": 101,
   "metadata": {},
   "outputs": [
    {
     "name": "stdout",
     "output_type": "stream",
     "text": [
      "vowels are : 9\n"
     ]
    }
   ],
   "source": [
    "#Q  count the number of vowels in string\n",
    "vowel = 0\n",
    "\n",
    "for char in \"harry potter is a good novel\":\n",
    "    char=char.upper\n",
    "    if char == \"A\" :\n",
    "        vowel = vowel + 1\n",
    "    elif char ==\"O\" :\n",
    "        vowel = vowel + 1\n",
    "    elif char ==\"E\" :\n",
    "        vowel = vowel + 1   \n",
    "    elif char ==\"U\" :\n",
    "        vowel = vowel + 1\n",
    "    elif char ==\"I\":\n",
    "        vowel = vowel + 1\n",
    "print(\"vowels are :\", vowel)"
   ]
  },
  {
   "cell_type": "code",
   "execution_count": 179,
   "metadata": {},
   "outputs": [
    {
     "data": {
      "text/plain": [
       "[1, 2, 4, 5, 6, 7, 1, 2, 4, 5, 6, 7, 1, 2, 4, 5, 6, 7, 1, 2, 4, 5, 6, 7]"
      ]
     },
     "execution_count": 179,
     "metadata": {},
     "output_type": "execute_result"
    }
   ],
   "source": [
    "#lists, tuple, strings \n",
    "#sequences\n",
    "#operations : concatenation, replication, slicing, membership\n",
    "\n",
    "lst=[1,2,4,5,6,7]\n",
    "lst+lst+lst+lst\n"
   ]
  },
  {
   "cell_type": "code",
   "execution_count": null,
   "metadata": {},
   "outputs": [],
   "source": []
  },
  {
   "cell_type": "code",
   "execution_count": null,
   "metadata": {},
   "outputs": [],
   "source": []
  },
  {
   "cell_type": "code",
   "execution_count": 120,
   "metadata": {},
   "outputs": [
    {
     "name": "stdout",
     "output_type": "stream",
     "text": [
      "vowels are : 29\n",
      "consonants are : 47\n",
      "hash tags are : 3\n",
      "other symbols 2\n"
     ]
    }
   ],
   "source": [
    "#Q  count the number of vowels in string\n",
    "vowel = 0\n",
    "consonant=0\n",
    "hash=0\n",
    "others=0\n",
    "spaces=0\n",
    "for char in \"Any movie in which i cry % $somehow #becomes a hit #and it #shows that stories which touch us and our\":\n",
    "    char=char.upper()\n",
    "    if char in \"AEIOU\" :\n",
    "        vowel = vowel + 1\n",
    "    elif char in \"BCDFGHJKLMNPQRSTVWXYZ\":\n",
    "        consonant=consonant+1\n",
    "    elif char in \"#\":\n",
    "        hash = hash +1\n",
    "    elif char != \" \":\n",
    "        others=others+1\n",
    "print(\"vowels are :\", vowel)\n",
    "print(\"consonants are :\", consonant)\n",
    "print(\"hash tags are :\", hash)\n",
    "print(\"other symbols\", others)\n"
   ]
  },
  {
   "cell_type": "code",
   "execution_count": 165,
   "metadata": {},
   "outputs": [
    {
     "name": "stdout",
     "output_type": "stream",
     "text": [
      "[\"I'm\", 'a', 'big', 'fan', 'of', 'this', \"app's\", 'flexibility.', 'When', 'I', 'worked', 'at', 'a', 'restaurant,', 'I', 'would', 'utilize', 'this', 'platform', 'to', 'offer', 'current', 'specials', 'whenever', 'I', 'was', 'on', 'the', 'marketing', 'team.', 'As', 'a', 'social', 'networking', 'tool', 'and', 'a', 'way', 'to', 'unwind', 'and', 'keep', 'up', 'with', 'current', 'events,', \"I'd\", 'utilize', 'Twitter.']\n",
      "mangoes are  0\n",
      "oranges are  0\n",
      "pears are  0\n"
     ]
    }
   ],
   "source": [
    "#strings are\n",
    "mystr = \"I'm a big fan of this app's flexibility. When I worked at a restaurant, \\\n",
    "I would utilize this platform to offer current specials whenever I \\\n",
    "was on the marketing team. As a social networking tool and a way to \\\n",
    "unwind and keep up with current events, I'd utilize Twitter.I can't \\\n",
    "say enough good things about Twitter for social media marketing. In order\\\n",
    "to effectively promote a brand or product, a company must also be able to \\\n",
    "connect with its target audience on an emotional level. It is simple to use \\\n",
    "and has lenient content guidelines. Because there is no way to go back and amend \\\n",
    "our posts, we must be extra cautious. If you provide the system the correct keywords,\\\n",
    "/you may be able to avoid using paid advertising altogether.\"\n",
    "mango=orange=pear=0\n",
    "fruitlist = mystr.split()\n",
    "print(fruitlist)\n",
    "for fruit in fruitlist:\n",
    "    if fruit==\"mango\":\n",
    "        mango=mango+1\n",
    "    else:\n",
    "        if fruit==\"orange\":\n",
    "            orange=orange +1\n",
    "        else:\n",
    "            if fruit ==\"pear\":\n",
    "                pear = pear +1\n",
    "                \n",
    "print(\"mangoes are \", mango)\n",
    "print(\"oranges are \", orange)\n",
    "print(\"pears are \", pear)"
   ]
  },
  {
   "cell_type": "code",
   "execution_count": 262,
   "metadata": {},
   "outputs": [
    {
     "name": "stdout",
     "output_type": "stream",
     "text": [
      "yahoo 2\n",
      "gmail 3\n",
      "nielit 6\n"
     ]
    }
   ],
   "source": [
    "(4,5,6,7)\n",
    "(\"anu\", 12,45,55,78,\"seema\")\n",
    "gmail=nielit=yahoo=0\n",
    "email_log=[\"From anita.budhiraja@nielit.gov.in 12th July 2022 Tuesday 12:20 pm\",\n",
    "\"From anita.budhiraja@nielit.gov.in 12th July 2022 Tuesday 12:20 pm\",\n",
    "\"From raj@gmail.com 13th July 2022 Tuesday 12:20 pm\",\n",
    "\"From anisha@gmail.com 12th July 2022 Tuesday 12:20 pm\",\n",
    "\"From raj_bahadur@yahoo.com 15th July 2022 Tuesday 12:20 pm\",\n",
    "\"From raman@nielit.gov.in 12th July 2022 Tuesday 12:20 pm\",\n",
    "\"From soniasuri@nielit.gov.in 12th July 2022 Tuesday 12:20 pm\",\n",
    "\"From anisha@gmail.com 12th July 2022 Tuesday 12:20 pm\",\n",
    "\"From raja@yahoo.com 15th July 2022 Tuesday 12:20 pm\",\n",
    "\"From ram@nielit.gov.in 12th July 2022 Tuesday 12:20 pm\",\n",
    "\"From soniabansal@nielit.gov.in 12th July 2022 Tuesday 12:20 pm\"]\n",
    "\n",
    "for mail in email_log:\n",
    "    start_pos = mail.find(\"@\")\n",
    "    stop_pos = mail.find(\" \", start_pos+1)\n",
    "    m = mail[start_pos +1:  stop_pos]\n",
    "    if m==\"nielit.gov.in\":\n",
    "        nielit = nielit +1\n",
    "    elif m==\"gmail.com\":\n",
    "        gmail=gmail+1\n",
    "    elif m==\"yahoo.com\":\n",
    "        yahoo=yahoo+1\n",
    "        \n",
    "print(\"yahoo\", yahoo)\n",
    "print(\"gmail\", gmail)\n",
    "print(\"nielit\", nielit)\n",
    "\n",
    "\n",
    "    "
   ]
  },
  {
   "cell_type": "code",
   "execution_count": 257,
   "metadata": {},
   "outputs": [
    {
     "data": {
      "text/plain": [
       "8"
      ]
     },
     "execution_count": 257,
     "metadata": {},
     "output_type": "execute_result"
    }
   ],
   "source": [
    "str=\"computer hello @in thei\"\n",
    "str.find(\"@\")\n",
    "str.find(\" \",8)"
   ]
  },
  {
   "cell_type": "code",
   "execution_count": null,
   "metadata": {},
   "outputs": [],
   "source": []
  },
  {
   "cell_type": "markdown",
   "metadata": {},
   "source": [
    "### pr=nonpr=0\n",
    "n = int(input(\"Enter the start number: \"))\n",
    "stop = int(input(\"Enter the stop number: \"))\n",
    "while n <=stop:\n",
    "    div = 2\n",
    "    # div 2, 3, 4, 7.....24\n",
    "    flag=0\n",
    "    while div <= n/2 :\n",
    "        if n % div == 0:\n",
    "            #print(n, \"NOT a prime number\")\n",
    "            nonpr=nonpr+1\n",
    "            flag=1\n",
    "            break    \n",
    "        div = div + 1\n",
    "    else:\n",
    "        #print(n, \"no is prime\")\n",
    "        pr=pr+1\n",
    "    \n",
    "    n=n+1\n",
    "\n",
    "print(\"total prime\", pr)\n",
    "print(\"total non prime\", nonpr)"
   ]
  },
  {
   "cell_type": "code",
   "execution_count": null,
   "metadata": {},
   "outputs": [],
   "source": [
    "nishith arora11:44\n",
    "n=int(input('enter the number'))\n",
    "div=2\n",
    "while div <= n/2:\n",
    "  if (n%div) == 0:\n",
    "    print( 'it is not prime')\n",
    "  else:\n",
    "    print('it is prime')\n",
    "div=div+1\n"
   ]
  },
  {
   "cell_type": "code",
   "execution_count": null,
   "metadata": {},
   "outputs": [],
   "source": []
  },
  {
   "cell_type": "code",
   "execution_count": null,
   "metadata": {},
   "outputs": [],
   "source": []
  },
  {
   "cell_type": "code",
   "execution_count": null,
   "metadata": {},
   "outputs": [],
   "source": []
  },
  {
   "cell_type": "code",
   "execution_count": null,
   "metadata": {},
   "outputs": [],
   "source": []
  },
  {
   "cell_type": "markdown",
   "metadata": {},
   "source": [
    "#### def student():\n",
    "    ga=gb=gc=gf=0\n",
    "    i=1\n",
    "    while i <=5:\n",
    "        phy=int(input(\"enter marks of physics\"))\n",
    "        chem=int(input(\"enter marks of chemistry\"))\n",
    "        maths=int(input(\"enter marks of maths\"))\n",
    "        eng=int(input(\"enter marks o english\"))\n",
    "        Phyed=int(input(\"enter marks of phy ed\"))\n",
    "        #if >=80%  grade A\n",
    "        #if >=60%  grade B\n",
    "        #if >=40%  grade C\n",
    "        #if >=80%  grade Fail\n",
    "        total = phy + chem + maths + eng + Phyed\n",
    "        percentage = total/500 * 100\n",
    "        \n",
    "        if percentage >= 80:\n",
    "            grade=\"A\"\n",
    "            print(\"Grade is \", grade)\n",
    "            ga = ga + 1\n",
    "        elif percentage >=60:\n",
    "            grade=\"B\"\n",
    "            print(\"grade is \", grade)\n",
    "            gb= gb + 1\n",
    "        elif percentage >=40:\n",
    "            grade=\"C\"\n",
    "            print(\"grade is \", grade)\n",
    "            gc = gc + 1\n",
    "        else:\n",
    "            print(\"grade is fail\") \n",
    "            gf=gf + 1\n",
    "        i=i+1\n",
    "\n",
    "    return  ga, gb, gc, gf"
   ]
  },
  {
   "cell_type": "code",
   "execution_count": null,
   "metadata": {},
   "outputs": [],
   "source": []
  },
  {
   "cell_type": "code",
   "execution_count": 3,
   "metadata": {},
   "outputs": [
    {
     "name": "stdout",
     "output_type": "stream",
     "text": [
      "enter a number1\n",
      "enter a number4\n",
      "enter a number8\n",
      "enter a number12\n",
      "enter a number14\n",
      "enter a number3\n",
      " total odd numbers are : 2\n",
      " total even numbers are : 4\n"
     ]
    }
   ],
   "source": [
    "# enter six numbers and print how many odd and how many even entered\n",
    "i=1\n",
    "even=odd=0\n",
    "\n",
    "while i <=6:\n",
    "    n=int(input(\"enter a number\"))\n",
    "    #check for even\n",
    "    if n % 2 == 0:\n",
    "        even = even +1\n",
    "    else:\n",
    "        odd = odd + 1\n",
    "    i=i+1\n",
    "print(\" total odd numbers are :\", odd)\n",
    "print(\" total even numbers are :\", even)"
   ]
  },
  {
   "cell_type": "code",
   "execution_count": 1,
   "metadata": {},
   "outputs": [
    {
     "name": "stdout",
     "output_type": "stream",
     "text": [
      "hello\n",
      "how are you\n",
      "enter a number4\n",
      "hello\n",
      "how are you\n",
      "enter a number6\n",
      "hello\n",
      "how are you\n",
      "enter a number78\n",
      "hello\n",
      "how are you\n",
      "enter a number56\n",
      "hello\n",
      "how are you\n",
      "enter a number78\n",
      "finished\n"
     ]
    }
   ],
   "source": [
    "#infinite loop\n",
    "i=10\n",
    "while  i > 5:\n",
    "    print(\"hello\")\n",
    "    print(\"how are you\")\n",
    "    n = int(input(\"enter a number\"))\n",
    "    i = i -1\n",
    "print(\"finished\")\n"
   ]
  },
  {
   "cell_type": "code",
   "execution_count": 4,
   "metadata": {},
   "outputs": [
    {
     "name": "stdout",
     "output_type": "stream",
     "text": [
      "enter marks of physics1\n",
      "enter marks of chemistry1\n",
      "enter marks of maths1\n",
      "enter marks o english1\n",
      "enter marks of phy ed1\n",
      "grade is fail\n",
      "enter marks of physics2\n",
      "enter marks of chemistry2\n",
      "enter marks of maths2\n",
      "enter marks o english2\n",
      "enter marks of phy ed2\n",
      "grade is fail\n",
      "enter marks of physics45\n",
      "enter marks of chemistry56\n",
      "enter marks of maths67\n",
      "enter marks o english78\n",
      "enter marks of phy ed89\n",
      "grade is  B\n",
      "enter marks of physics88\n",
      "enter marks of chemistry88\n",
      "enter marks of maths77\n",
      "enter marks o english99\n",
      "enter marks of phy ed77\n",
      "Grade is  A\n",
      "enter marks of physics66\n",
      "enter marks of chemistry77\n",
      "enter marks of maths89\n",
      "enter marks o english90\n",
      "enter marks of phy ed99\n",
      "Grade is  A\n"
     ]
    },
    {
     "data": {
      "text/plain": [
       "(2, 1, 0, 2)"
      ]
     },
     "execution_count": 4,
     "metadata": {},
     "output_type": "execute_result"
    }
   ],
   "source": [
    "a,b,c,f = student()"
   ]
  },
  {
   "cell_type": "markdown",
   "metadata": {},
   "source": [
    "2## enter a number, check whether its prime or not\n",
    "n=int(input(\"enter a number\"))\n",
    "\n",
    "div=2\n",
    "11\n",
    "while div < n:\n",
    "    if n % div == 0:\n",
    "        print(\"not a prime no\")\n",
    "        break  \n",
    "    div=div+1\n",
    "else:\n",
    "    print(\"it is a prime no\")"
   ]
  },
  {
   "cell_type": "code",
   "execution_count": 5,
   "metadata": {},
   "outputs": [
    {
     "name": "stdout",
     "output_type": "stream",
     "text": [
      "i is  1 sum is  1\n",
      "i is  2 sum is  3\n",
      "i is  3 sum is  6\n",
      "i is  4 sum is  10\n",
      "i is  5 sum is  15\n",
      "i is  6 sum is  21\n",
      "i is  7 sum is  28\n",
      "i is  8 sum is  36\n",
      "i is  9 sum is  45\n",
      "i is  10 sum is  55\n",
      "11\n",
      "sum of first 10 natural numbers is  55\n"
     ]
    }
   ],
   "source": [
    "#s=1+2+3+4+5+6+7+8+9+10\n",
    "sum = 0\n",
    "i=1\n",
    "while i <=10:\n",
    "    sum = sum + i \n",
    "    print(\"i is \", i, \"sum is \", sum)\n",
    "    i = i + 1\n",
    "print(i)\n",
    "print(\"sum of first 10 natural numbers is \", sum)"
   ]
  },
  {
   "cell_type": "code",
   "execution_count": null,
   "metadata": {},
   "outputs": [],
   "source": []
  },
  {
   "cell_type": "code",
   "execution_count": null,
   "metadata": {},
   "outputs": [],
   "source": [
    "#Enter the empname and basicpay\n",
    "#Calculate the grosspay and netpay\n",
    "#DA is 12 % of bp\n",
    "#hra is 10% of bp for emp who have bp > 70000\n",
    "#otherwise hra is 13% of bp\n",
    "#allowances are fixed 1000\n",
    "#pf deducted is 8% of basic and da\n",
    "\n",
    "name=input(\"enter the employee name \")\n",
    "bp=int(input(\"enter the basicpay\"))\n",
    "da=12/100 * bp\n",
    "if bp > 70000:\n",
    "    hra=10/100 * bp\n",
    "else:\n",
    "    hra=13/100 * bp\n",
    "allowance=1000\n",
    "grosspay=bp + da + hra + allowance\n",
    "pf=8/100 * (bp+da)\n",
    "netsalary= grosspay - pf\n",
    "print(name , \" Gross salary is :\", grosspay)\n",
    "print(name , \" Net salary is :\", netsalary)\n"
   ]
  },
  {
   "cell_type": "code",
   "execution_count": null,
   "metadata": {},
   "outputs": [],
   "source": [
    "phy=int(input(\"enter marks of physics\"))\n",
    "chem=int(input(\"enter marks of chemistry\"))\n",
    "maths=int(input(\"enter marks of maths\"))\n",
    "eng=int(input(\"enter marks o english\"))\n",
    "Phyed=int(input(\"enter marks of phy ed\"))\n"
   ]
  },
  {
   "cell_type": "code",
   "execution_count": null,
   "metadata": {},
   "outputs": [],
   "source": [
    "a=eval(input(\"enter a number\"))\n",
    "b=eval(input(\"enter a number\"))\n",
    "c=eval(input(\"enter a number\"))\n",
    " \n",
    "#multiple  if\n",
    "#nesting of ifs...... efficiency of algorithm\n",
    "\n",
    "#algorithms - efficiency\n",
    "\n",
    "#1. Time ......order....loop break.....prime no.....\n",
    "#2. Space .....extra variables  ....extra files....extra arrays....eff. less\n",
    "\n",
    "if a>b and  a> c:\n",
    "        print(a)\n",
    "else:\n",
    "    if b>a and b>c:\n",
    "        print(b)\n",
    "    else:\n",
    "        if c > a and c> b:\n",
    "            print(c)\n",
    "    "
   ]
  },
  {
   "cell_type": "code",
   "execution_count": null,
   "metadata": {},
   "outputs": [],
   "source": [
    "def area():\n",
    "    fig=input(\"enter the figure : c for circle, t for triange, r for rectangle, q for quit\")\n",
    "    if fig in \"c\":\n",
    "        radius=eval(input(\"Enter the radius:\"))\n",
    "        area=22/7 * radius * radius\n",
    "        return area\n",
    "    elif fig == 't' or fig == 'T':\n",
    "        height=eval(input(\"Enter the height:\"))\n",
    "        base=eval(input(\"Enter the base:\"))\n",
    "        area=1/2 * base * height\n",
    "        return area\n",
    "    elif fig=='r' or fig == 'R':\n",
    "        length=eval(input(\"Enter the length:\"))\n",
    "        breadth=eval(input(\"Enter the breadth:\"))\n",
    "        area=length * breadth\n",
    "        return area\n",
    "      "
   ]
  },
  {
   "cell_type": "code",
   "execution_count": null,
   "metadata": {},
   "outputs": [],
   "source": [
    "ar = area()\n",
    "print(ar)"
   ]
  },
  {
   "cell_type": "markdown",
   "metadata": {},
   "source": [
    "# 12 x 1 =12\n",
    "#enter a number, print its table upto 10\n",
    "b=int(input(\"enter a number:\")\n",
    "counter=0\n",
    "While counter <11:\n",
    "          e=counter*b\n",
    "         Print (e)\n",
    "        Counter +=1\n",
    "\n"
   ]
  },
  {
   "cell_type": "code",
   "execution_count": null,
   "metadata": {},
   "outputs": [],
   "source": [
    "table=eval(input(\"enter no.\"))\n",
    "end=eval(input(\"till what number:\"))\n",
    "counter=1\n",
    "while counter <= end:\n",
    "          e=counter*table\n",
    "          print (table, \" x \", counter, \" = \" , e)\n",
    "          counter +=1\n",
    "        \n",
    "        \n"
   ]
  },
  {
   "cell_type": "code",
   "execution_count": null,
   "metadata": {},
   "outputs": [],
   "source": [
    "\n",
    "\n",
    "    name=input(\"enter name\")\n",
    "    physics=eval(input(\"enter marks in phy:\"))\n",
    "    maths=eval(input(\"enter marks in maths:\"))\n",
    "    chem=eval(input(\"enter marks in chem:\"))\n",
    "    tot=physics+maths+chem\n",
    "    per=tot/300*100\n",
    "    if per >=80:\n",
    "        gr=\"A\"\n",
    "        \n",
    "    elif per >=60:\n",
    "        gr=\"B\"\n",
    "        \n",
    "    elif per >=40:\n",
    "        gr=\"F\"\n",
    "       \n",
    "         \n",
    "    print(gr,end=\"\")\n",
    "    i=i+1"
   ]
  },
  {
   "cell_type": "code",
   "execution_count": null,
   "metadata": {},
   "outputs": [],
   "source": [
    "num=eval(input(\"Enter a no.\"));\n",
    "sum=0\n",
    "while num//10!=0:\n",
    "     while num!=0:\n",
    "       b=num%10\n",
    "       num=num//10\n",
    "       sum+=b\n",
    "     print(sum)\n",
    "     num=sum\n",
    "     sum=0"
   ]
  },
  {
   "cell_type": "code",
   "execution_count": null,
   "metadata": {},
   "outputs": [],
   "source": [
    "def sumdigit(n):\n",
    "    sum=0\n",
    "    while (n !=0):\n",
    "        q=n//10\n",
    "        r=n%10\n",
    "        n=q\n",
    "        sum=sum+r\n",
    "    return sum    \n",
    "\n",
    "def main():\n",
    "    n=int(input(\"enter a number to add\"))\n",
    "    while n > 9:\n",
    "        print(sumdigit(n))\n",
    "        n=sumdigit(n)\n",
    "    print(n)\n",
    "    \n",
    "main()\n",
    "  "
   ]
  },
  {
   "cell_type": "code",
   "execution_count": null,
   "metadata": {},
   "outputs": [],
   "source": [
    "def sumdigit(num):\n",
    "  total =0\n",
    "  while num>0 :\n",
    "    total = total + (num % 10)\n",
    "    num = num // 10\n",
    "  if total//10!=0:\n",
    "      sumdigit(total)\n",
    "  else:\n",
    "      print('Sum of all digits is:', total)\n",
    "\n",
    "num=eval(input(\"Enter any number:\"))\n",
    "sumdigit(num)\n",
    "\n"
   ]
  },
  {
   "cell_type": "code",
   "execution_count": null,
   "metadata": {},
   "outputs": [],
   "source": [
    "incrementdate()"
   ]
  },
  {
   "cell_type": "markdown",
   "metadata": {},
   "source": [
    "###### counters\n",
    "def marks_calculation():\n",
    "    ta=tb=tc=td=tf=0\n",
    "\n",
    "    for i in range(1, 6):\n",
    "        marks_maths = eval(input(\"enter the marks of student\"))\n",
    "        marks_physics = eval(input(\"enter the marks of student\"))\n",
    "        marks_chem = eval(input(\"enter the marks of student\"))\n",
    "\n",
    "        total= marks_maths + marks_physics + marks_chem\n",
    "        percentage = total / 3\n",
    "\n",
    "        if percentage >= 80:\n",
    "            grade=\"A\"\n",
    "            ta = ta+1\n",
    "        elif percentage >= 60:\n",
    "            grade='B'\n",
    "            tb += 1\n",
    "        elif percentage >= 40:\n",
    "            grade='C'\n",
    "            tc=tc+1\n",
    "        elif percentage >= 33:\n",
    "            grade='D'\n",
    "            td=td+1\n",
    "        else:\n",
    "            grade='F' \n",
    "            tf=tf+1\n",
    "    print(\"total A grades: \", ta)\n",
    "    print(\"total B grades: \", tb)\n",
    "    print(\"total C grades: \", tc)\n",
    "    print(\"total D grades: \", td)\n",
    "    print(\"total F grades: \", tf)\n",
    "    "
   ]
  },
  {
   "cell_type": "code",
   "execution_count": null,
   "metadata": {},
   "outputs": [],
   "source": [
    "#calling a function\n",
    "marks_calculation()"
   ]
  },
  {
   "cell_type": "markdown",
   "metadata": {},
   "source": [
    "#### input treats everything as a string  (characters)\n",
    "a=eval(input(\"enter the first no\"))\n",
    "b=eval(input(\"enter the second no\"))\n",
    "c=eval(input(\"enter the second no\"))\n",
    "#simple if\n",
    "#multiple if\n",
    "#if else\n",
    "#Nesting of ifs\n",
    "if a>b:\n",
    "    #a is bigger than b\n",
    "    if a>c:\n",
    "        print(\"greatest no is a \", a)\n",
    "    else:\n",
    "        print(\"greatest no is c \", c)\n",
    "else:\n",
    "    #b is bigger than a\n",
    "    if b > c:\n",
    "        print(\"greatest is b\", b)\n",
    "    else:\n",
    "        print(\"greatest no is c \", c)"
   ]
  },
  {
   "cell_type": "code",
   "execution_count": null,
   "metadata": {},
   "outputs": [],
   "source": [
    "#0+1+1+2+3+5+8+13+...........30 terms\n",
    "\n",
    "#s= 1!/2! + 2!/4! + 3!/6! + 4!/8!.......10 terms\n",
    "\n",
    "#s= 4/2! + 8/3! + 16/4!...5 terms\n",
    "def fact(n):\n",
    "    f=1\n",
    "    while n >=1 :\n",
    "        f=f*n\n",
    "        n=n-1\n",
    "    return f \n",
    "\n",
    "def main():\n",
    "    s=0\n",
    "    n=1\n",
    "    d=2\n",
    "    for i in range(1,4):\n",
    "        s = s+fact(n)/fact(d)\n",
    "        n=n+1\n",
    "        d=d+2\n",
    "    #print(\"the series sum is :\", s    %2f)\n",
    "    print(\"{:.2f}\".format(s))\n",
    "    \n",
    "  \n",
    "    \n",
    "main()"
   ]
  },
  {
   "cell_type": "code",
   "execution_count": null,
   "metadata": {},
   "outputs": [],
   "source": [
    "0+1+1+2+3+5+8+13+...........30 terms\n",
    "\n",
    "s= 1!/2 + 2!/4 + 3!/6 + 4!/8.......10 terms\n",
    "\n",
    "s= 4/2! + 8/3! + 16/4!...5 terms\n",
    "\n",
    "i=1\n",
    "s=0\n",
    "n=1\n",
    "d=2\n",
    "for i in range(1,11):\n",
    "    f=fact(n)\n",
    "    s=s+f/d\n",
    "    n=n+1\n",
    "    d=d+2\n",
    "print(s)\n",
    "   \n",
    "def fact(n):\n",
    "    f=1\n",
    "    while n >=1 :\n",
    "        f=f*n\n",
    "        n=n-1\n",
    "    return f \n",
    "\n",
    "\n",
    "\n"
   ]
  },
  {
   "cell_type": "code",
   "execution_count": null,
   "metadata": {},
   "outputs": [],
   "source": [
    "#input treats everything as a string  (characters)\n",
    "a=eval(input(\"enter the first no\"))\n",
    "b=eval(input(\"enter the second no\"))\n",
    "c=eval(input(\"enter the second no\"))\n",
    "#simple if\n",
    "#multiple if\n",
    "#if else\n",
    "\n",
    "#Nesting of ifs\n",
    "\n",
    "#frist one was more efficient\n",
    "#takes less time\n",
    "\n",
    "if a>b and a>c:\n",
    "    print(\"greatest no is a \", a)\n",
    "elif b> a and b > c:\n",
    "        print(\"greatest no is b \", b)\n",
    "elif c> a and c> b:\n",
    "        print(\"greatest no is c \", c)"
   ]
  },
  {
   "cell_type": "code",
   "execution_count": null,
   "metadata": {},
   "outputs": [],
   "source": [
    "Q1 Write a program to input three nos and print the greatest.\n",
    "Q2 Write a program to input two numbers, add them, multiply them, \n",
    "divide them, find remainder,\n",
    "\n",
    "Q3 Write a program to input a figure like C , R, S   \n",
    "(C for circle, r for rectange and s for square)\n",
    "\n",
    "Check the figure and appropriately ask the parameters for calculating the area.\n",
    "\n",
    "Give an error message if something else is\n",
    "entered.\n",
    "\n",
    " (basicpay)\n",
    "Q4 Input Name and Bp of employee.\n",
    "calculate gross pay and net pay\n",
    "grosspay= bp + da + hra -Pf\n",
    "\n",
    "pf=12% of bp\n",
    "hra is 20% of bp but maximum can be 2000 only\n",
    "da is 20% of bp for bp < 3 lac\n",
    "otherwise\n",
    "da is 30% of bp\n",
    "netpay=grosspay - pf\n",
    "\n",
    "Q5 Calculate the income tax of an employee\n",
    "input the income\n",
    "if income < 3 lac no tax\n",
    "if income between 3 and 5 , tax = 20%\n",
    "if income between 5 and 8 , tax = 30%\n",
    "else\n",
    "tax=40%\n",
    "Q6 Enter a four digit number, check whether its leap year.\n",
    "\n",
    "\n",
    "Q. print sum of first 10 numbers\n",
    "Q. enter a no and print whether its prime\n",
    "Q.  enter two ranges eg start 100 to stop 1000 and print all prime numbers between the two ranges.\n",
    "Q.  enter a no print sum of its digits\n",
    "Eg 4567\n",
    "22\n",
    "4\n",
    "Q. print the sum of digits till you get a single number.\n",
    "Q Print Fibonicci series upto given terms.\n",
    "Q Enter 8 numbers, print their average.\n",
    "\n"
   ]
  },
  {
   "cell_type": "code",
   "execution_count": null,
   "metadata": {},
   "outputs": [],
   "source": [
    "#to find prime numbers 100 to 300\n",
    "start=int(input(\"Check prime nos staring from which number?\"))\n",
    "end=int(input(\"Check prime nos till  which number?\"))\n",
    "for n in range(start,end):\n",
    "    \n",
    "    d=2\n",
    "    while d<n/2 :\n",
    "        if n%d==0:\n",
    "            print(n,\" is not a prime number\")\n",
    "            break\n",
    "        else:\n",
    "            d+=1\n",
    "\n",
    "    else:\n",
    "        print(\"no is prime\")"
   ]
  },
  {
   "cell_type": "code",
   "execution_count": null,
   "metadata": {},
   "outputs": [],
   "source": [
    "#n=eval(input(\"enter the no to check for prime: \"))\n",
    "\n",
    "#47123\n",
    "#2,3,4,........24\n",
    "start=eval(input(\"enter the starting no\"))  # 100    101   102   103\n",
    "end=eval(input(\"enter the starting no\")) #    200\n",
    "\n",
    "for n in range(start,end,1):\n",
    "    half= n//2\n",
    "    div=2\n",
    "\n",
    "    while  div <= half: #2 reasons   #1. condition fail\n",
    "        if n%div==0:                 #2. break\n",
    "            print(n, \"is a not prime no because it divided by\", div)\n",
    "            break\n",
    "        else:\n",
    "            div=div+1\n",
    "            continue\n",
    "    else:   #will execute only when the whole loop has executed and condition now failed\n",
    "        print(n, \"is prime\")\n",
    "        "
   ]
  },
  {
   "cell_type": "code",
   "execution_count": null,
   "metadata": {},
   "outputs": [],
   "source": [
    "n=eval(input(\"enter the no to check for prime: \"))\n",
    "\n",
    "#4712341\n",
    "#2,3,4,........24\n",
    "\n",
    "for n in range(50,101):\n",
    "    half= n//2\n",
    "    print(\"half is\", half)\n",
    "\n",
    "    for div in range(2,half+1,1):\n",
    "        if n%div==0:                 #2. break\n",
    "            print(n,\"is a not prime no becoz it has divided by\", div)\n",
    "            break\n",
    "\n",
    "    else:   #will execute only when the whole loop has executed and condition now failed\n",
    "        print(n, \"is prime\")\n",
    "        print(\"the whole loop has executed\")\n",
    "        print(\"out of loop\")"
   ]
  },
  {
   "cell_type": "code",
   "execution_count": null,
   "metadata": {},
   "outputs": [],
   "source": [
    "a=0\n",
    "sum=0\n",
    "print(\"Enter nos to add, -ve no ends the input\")\n",
    "while(a >= 0):\n",
    "        a=eval(input())\n",
    "        continue       \n",
    "        if a >=0:\n",
    "            sum=sum+a \n",
    "        \n",
    "        \n",
    "print(\"Sum is :\" , sum)"
   ]
  },
  {
   "cell_type": "markdown",
   "metadata": {},
   "source": [
    "\n"
   ]
  },
  {
   "cell_type": "code",
   "execution_count": null,
   "metadata": {},
   "outputs": [],
   "source": [
    "a,b=input(\"enter two numbers\")\n",
    "print(a)"
   ]
  },
  {
   "cell_type": "code",
   "execution_count": null,
   "metadata": {},
   "outputs": [],
   "source": [
    "#greatest btw 2 nos\n",
    "a=eval(input(\"enter a\"))\n",
    "b=eval(input(\"enter b\"))\n",
    "if a>b:\n",
    "    print(a,\"is greatest\")\n",
    "else:\n",
    "    print(b,\"is greatest\")"
   ]
  },
  {
   "cell_type": "code",
   "execution_count": null,
   "metadata": {},
   "outputs": [],
   "source": [
    "print(x)"
   ]
  },
  {
   "cell_type": "code",
   "execution_count": null,
   "metadata": {},
   "outputs": [],
   "source": [
    "#greatest 3 nos efficient way of writing   less time (performance/throughput) and less space\n",
    "a=eval(input(\"enter no a:\"))\n",
    "b=eval(input(\"enter no b:\"))\n",
    "c=eval(input(\"enter no c:\"))\n",
    "if a>b:\n",
    "    if a>c:\n",
    "        print(\"a is greatest\")\n",
    "        print(a)\n",
    "    else:\n",
    "        print(c)\n",
    "#a < b\n",
    "else:\n",
    "    if b>c:\n",
    "        print(b)\n",
    "    else:\n",
    "        print(c)\n",
    "        \n",
    "print(\"end\")"
   ]
  },
  {
   "cell_type": "code",
   "execution_count": null,
   "metadata": {},
   "outputs": [],
   "source": [
    "#greatest 3 nos\n",
    "a=eval(input(\"enter no a:\"))\n",
    "b=eval(input(\"enter no b:\"))\n",
    "c=eval(input(\"enter no c:\"))\n",
    "if a>b and  a>c:\n",
    "        print(\"a is greatest\")\n",
    "        print(a)\n",
    "#a < b\n",
    "elif b > a and b>c:\n",
    "    print(b)\n",
    "else:\n",
    "    print(c)\n",
    "        \n",
    "print(\"end\")"
   ]
  },
  {
   "cell_type": "code",
   "execution_count": null,
   "metadata": {},
   "outputs": [],
   "source": [
    "#enter divisor and divident\n",
    "divident=eval(input(\"enter divident\"))\n",
    "divisor=eval(input(\"enter divisor\"))\n",
    "\n",
    "if divident!=0:\n",
    "    q=divident/divisor\n",
    "    print(q)\n",
    "else:\n",
    "    print(\"not possible\")"
   ]
  },
  {
   "cell_type": "code",
   "execution_count": null,
   "metadata": {},
   "outputs": [],
   "source": [
    "#3 marks nd grades\n",
    "counter=1\n",
    "ta=tb=tc=td=tf=0\n",
    "\n",
    "while counter <=5:\n",
    "    a=eval(input(\"enter no a:\"))\n",
    "    b=eval(input(\"enter no b:\"))\n",
    "    c=eval(input(\"enter no c:\"))\n",
    "\n",
    "    sum=a+b+c\n",
    "\n",
    "    if sum>=240:\n",
    "        print(\"A\")\n",
    "        ta=ta + 1\n",
    "    elif sum>=200:\n",
    "        print(\"B\")\n",
    "        tb = tb +1\n",
    "    elif sum>=180:\n",
    "        print(\"C\")\n",
    "        tc = tc +1\n",
    "    elif sum>=150:\n",
    "        print(\"D\")\n",
    "        td=td+1\n",
    "    else:\n",
    "        print(\"F\")\n",
    "        tf=tf+1\n",
    "\n",
    "    counter=counter+1\n",
    "    \n",
    "print(\"total a grades\", ta)\n",
    "print(\"total b grades\", tb)\n",
    "print(\"total c grades\", tc)\n",
    "print(\"total d grades\", td)\n"
   ]
  },
  {
   "cell_type": "code",
   "execution_count": null,
   "metadata": {},
   "outputs": [],
   "source": [
    "count=1\n",
    "#for three students\n",
    "ta=0\n",
    "tb=0\n",
    "tc=0\n",
    "td=0\n",
    "tf=0\n",
    "\n",
    "while count <=5:  \n",
    "    a=eval(input(\"Maths:\"))\n",
    "    b=eval(input(\"Physics:\"))\n",
    "    c=eval(input(\"Chemistry:\"))\n",
    "    \n",
    "    sum=a+b+c\n",
    "    if sum>=240:\n",
    "        ta=ta + 1\n",
    "    elif sum>=180:\n",
    "        tb=tb + 1\n",
    "    elif sum>=140:\n",
    "        tc=tc + 1\n",
    "    elif sum>=100:\n",
    "        td=td + 1\n",
    "    else:\n",
    "        tf=tf +1\n",
    "\n",
    "    count=count+1\n",
    "\n",
    "#summary\n",
    "print(\"total A grades:\",ta )\n",
    "print(\"total B grades:\", tb)\n",
    "print(\"total C grades:\", tc)\n",
    "print(\"total D grades:\", td)\n",
    "print(\"total Fail:\", tf)\n"
   ]
  },
  {
   "cell_type": "code",
   "execution_count": null,
   "metadata": {},
   "outputs": [],
   "source": [
    "count=1\n",
    "#for three students\n",
    "while count <=3:\n",
    "    name=input(\"enter name:\")\n",
    "    a=eval(input(\"Maths:\"))\n",
    "    b=eval(input(\"Physics:\"))\n",
    "    c=eval(input(\"Chemistry:\"))\n",
    "    d=eval(input(\"English:\"))\n",
    "    e=eval(input(\"Computers:\"))\n",
    "    \n",
    "    #Total\n",
    "    sum=a+b+c+d+e\n",
    "    \n",
    "    #calculate grade\n",
    "    if sum>=240:\n",
    "        print(\"A\")\n",
    "    elif sum>=200:\n",
    "        print(\"B\")\n",
    "    elif sum>=180:\n",
    "        print(\"C\")\n",
    "    elif sum>=150:\n",
    "        print(\"D\")\n",
    "\n",
    "    count=count+1"
   ]
  },
  {
   "cell_type": "code",
   "execution_count": 224,
   "metadata": {},
   "outputs": [
    {
     "data": {
      "text/plain": [
       "'woh olleh'"
      ]
     },
     "execution_count": 224,
     "metadata": {},
     "output_type": "execute_result"
    }
   ],
   "source": [
    "s=\"hello how\"\n",
    "s[::-1]"
   ]
  },
  {
   "cell_type": "code",
   "execution_count": 227,
   "metadata": {},
   "outputs": [
    {
     "name": "stdout",
     "output_type": "stream",
     "text": [
      "India\n",
      "is\n",
      "my\n",
      "country\n"
     ]
    }
   ],
   "source": [
    "lst=[4,6,7,9,3]\n",
    "lst [2] =700\n",
    "lst\n",
    "#lists are mutable\n",
    "#tuples and strings are immutable\n",
    "str=[\"Computer\", \"is\", \"an\" ,\"electronic\", \"device\"]\n",
    "          \n",
    "abc=[\"India\", \"is\", \"my\" ,\"country\", \"India\", \"country\", \"not\", \"secular\", \"my\"]\n",
    "i=0\n",
    "while i < len(abc):\n",
    "    print(abc[i])\n",
    "    i=i+1"
   ]
  },
  {
   "cell_type": "code",
   "execution_count": 250,
   "metadata": {},
   "outputs": [
    {
     "name": "stdout",
     "output_type": "stream",
     "text": [
      "officially 1\n",
      "the 16\n",
      "Republic 1\n",
      "of 3\n",
      "India 2\n",
      "(Hindi: 1\n",
      "Bhārat 1\n",
      "Gaṇarājya),[26] 1\n",
      "is 3\n",
      "a 1\n",
      "country 2\n",
      "in 3\n",
      "South 1\n",
      "Asia. 1\n",
      "It 1\n",
      "seventh-largest 1\n",
      "by 2\n",
      "area,the 1\n",
      "second-most 1\n",
      "populous 2\n",
      "country, 1\n",
      "and 7\n",
      "most 1\n",
      "democracy 1\n",
      "world.Bounded 1\n",
      "Indian 2\n",
      "Ocean 1\n",
      "on 3\n",
      "south, 1\n",
      "Arabian 1\n",
      "Sea 1\n",
      "southwest, 1\n",
      "Bay 1\n",
      "Bengal 1\n",
      "southeast, 1\n",
      "it 1\n",
      "shares 1\n",
      "land 1\n",
      "borders 1\n",
      "with 1\n",
      "Pakistan 1\n",
      "to 2\n",
      "west;[f] 1\n",
      "China, 1\n",
      "Nepal, 1\n",
      "Bhutan 1\n",
      "north; 1\n",
      "Bangladesh 1\n",
      "Myanmarto 1\n",
      "east. 1\n",
      "In 1\n",
      "Ocean, 1\n",
      "vicinity 1\n",
      "SriLanka 1\n",
      "Maldives; 1\n",
      "its 1\n",
      "Andaman 1\n",
      "Nicobar 1\n",
      "Islands 1\n"
     ]
    }
   ],
   "source": [
    "#take out the unique words from the list\n",
    "str=\"officially the Republic of India (Hindi: Bhārat Gaṇarājya),[26] \\\n",
    "is a country in South Asia. It is the seventh-largest country by area,\\\n",
    "the second-most populous country, and the most populous democracy in the world.\\\n",
    "Bounded by the Indian Ocean on the south, the Arabian Sea on the southwest, \\\n",
    "and the Bay of Bengal on the southeast, it shares land borders with Pakistan \\\n",
    "to the west;[f] China, Nepal, and Bhutan to the north; and Bangladesh and Myanmar\\\n",
    "to the east. In the Indian Ocean, India is in the vicinity of Sri\\\n",
    "Lanka and the Maldives; its Andaman and Nicobar Islands\"\n",
    "data=str.split()\n",
    "\n",
    "#data=[\"india\", \"is\",\"my\",\"country\",\"india\",\"country\",\"not\", \"secular\",\"my\"]\n",
    "uniquelist=[]\n",
    "for wordcnt in data:\n",
    "    if wordcnt not in uniquelist:\n",
    "        uniquelist.append(wordcnt)\n",
    "\n",
    "for word in uniquelist:\n",
    "    print(word, data.count(word))\n"
   ]
  },
  {
   "cell_type": "code",
   "execution_count": 243,
   "metadata": {},
   "outputs": [],
   "source": [
    "fruit=[\"mango\", \"pear\", \"mango\", \"banana\", \"pear\", \"mango\"]"
   ]
  },
  {
   "cell_type": "code",
   "execution_count": 230,
   "metadata": {},
   "outputs": [
    {
     "name": "stdout",
     "output_type": "stream",
     "text": [
      "count of india:a\n",
      "count of is:1\n",
      "count of my:2\n",
      "count of country:0\n",
      "count of others:2\n"
     ]
    }
   ],
   "source": [
    "abc=[\"india\",\"is\",\"my\",\"country\",\"india\",\"country\",\"not\",\"secular\",\"my\"]\n",
    "a=0\n",
    "b=0\n",
    "c=0\n",
    "d=0\n",
    "e=0\n",
    "for i in abc:\n",
    "    if (i=='india'):\n",
    "        a=a+1\n",
    "    elif (i=='is'):\n",
    "        b=b+1\n",
    "    elif (i=='my'):\n",
    "        c=c+1\n",
    "    elif (i==\"country\"):\n",
    "        d+d+1\n",
    "    else:\n",
    "        e=e+1\n",
    "\n",
    "print(f\"count of india:{a}\")\n",
    "print(f\"count of is:{b}\")\n",
    "print(f\"count of my:{c}\")\n",
    "print(f\"count of country:{d}\")\n",
    "print(f\"count of others:{e}\")"
   ]
  },
  {
   "cell_type": "code",
   "execution_count": null,
   "metadata": {},
   "outputs": [],
   "source": []
  },
  {
   "cell_type": "markdown",
   "metadata": {},
   "source": [
    "### count=0\n",
    "while count <=3:\n",
    "    a=eval(input(\"enter no a:\"))\n",
    "    b=eval(input(\"enter no b:\"))\n",
    "    c=eval(input(\"enter no c:\"))\n",
    "    sum=a+b+c\n",
    "    if sum>=240:\n",
    "        print(\"A\")\n",
    "    elif sum>=200:\n",
    "        print(\"B\")\n",
    "    elif sum>=180:\n",
    "        print(\"C\")\n",
    "    elif sum>=150:\n",
    "        print(\"D\")\n",
    "    \n",
    "    count=count+1"
   ]
  },
  {
   "cell_type": "markdown",
   "metadata": {},
   "source": [
    "##### leap year\n",
    "year=eval(input(\"enter year\"))\n",
    "if year%4==0:\n",
    "    print(\"leap year is:\",year)\n",
    "else :\n",
    "    print(year,\"is not a leap year\")"
   ]
  },
  {
   "cell_type": "code",
   "execution_count": null,
   "metadata": {},
   "outputs": [],
   "source": [
    "#input shape and calculate area\n",
    "\n",
    "n=input(\"enter r for rectangle c for circle and t for triangle\")\n",
    "while n != 'q':\n",
    "    if n=='r' or n=='R':\n",
    "        l=eval(input(\"enter length:\"))\n",
    "        b=eval(input(\"enter breadth:\"))\n",
    "        area=l*b\n",
    "        print(\"area of rectangle is\",area)\n",
    "    else:\n",
    "        if n=='c' or n=='C':\n",
    "            r=eval(input(\"enter radius:\"))\n",
    "            area =3.14*r*r\n",
    "            print(\"area of circle is\",area)\n",
    "        else :\n",
    "            if n=='t' or n=='T':\n",
    "                b=eval(input(\"enter base:\"))\n",
    "                h=eval(input(\"enter height:\"))\n",
    "                area=0.5*b*h\n",
    "                print(\"area of triangle is\",area)\n",
    "            else :\n",
    "                print(\"Quit\")\n",
    "        "
   ]
  },
  {
   "cell_type": "code",
   "execution_count": null,
   "metadata": {},
   "outputs": [],
   "source": [
    "#input shape and calculate area\n",
    "n=input(\"enter r for rectangle c for circle and t for triangle\")\n",
    "if n=='r' or n=='R':\n",
    "    l=eval(input(\"enter length:\"))\n",
    "    b=eval(input(\"enter breadth:\"))\n",
    "    area=l*b\n",
    "    print(\"area of rectangle is\",area)\n",
    "else:\n",
    "    if n=='c' or n=='C':\n",
    "        r=eval(input(\"enter radius:\"))\n",
    "        area =3.14*r*r\n",
    "        print(\"area of circle is\",area)\n",
    "    else :\n",
    "        if n=='t' or n=='T':\n",
    "            b=eval(input(\"enter base:\"))\n",
    "            h=eval(input(\"enter height:\"))\n",
    "            area=0.5*b*h\n",
    "            print(\"area of triangle is\",area)\n",
    "        else :\n",
    "            print(\"Quit\")"
   ]
  },
  {
   "cell_type": "code",
   "execution_count": null,
   "metadata": {},
   "outputs": [],
   "source": [
    "#input shape by using WHILE\n",
    "n='x'\n",
    "tc=0\n",
    "tt=0\n",
    "tr=0\n",
    "\n",
    "while n != \"quit\" :\n",
    "   \n",
    "    n=input(\"enter r for rectangle c for circle and t for triangle\")\n",
    "    if n=='r' or n=='R' :\n",
    "        l=eval(input(\"enter length\"))\n",
    "        b=eval(input(\"enter breadth\"))\n",
    "        area=l*b\n",
    "        print(\"area of rectangle is\",area)\n",
    "        tr=tr+1\n",
    "    else :\n",
    "        if n=='c' or n=='C':\n",
    "            r=eval(input(\"enter radius:\"))\n",
    "            area =3.14*r*r\n",
    "            print(\"area of circle is\",area)\n",
    "            tc=tc+1\n",
    "        else :\n",
    "            if n=='t' or n=='T':\n",
    "                b=eval(input(\"enter base\"))\n",
    "                h=eval(input(\"enter height\"))\n",
    "                area=0.5*h*b\n",
    "                print(\"area of triangle is\",area)\n",
    "                tt=tt+1\n",
    "            else :\n",
    "                print(\"enter quit to exit\")\n",
    "    \n",
    "print (tt)\n",
    "print(tc)\n",
    "print(tr)\n",
    "print(\"end\")\n"
   ]
  },
  {
   "cell_type": "code",
   "execution_count": null,
   "metadata": {},
   "outputs": [],
   "source": []
  },
  {
   "cell_type": "code",
   "execution_count": null,
   "metadata": {},
   "outputs": [],
   "source": [
    "#sum of n numbers\n",
    "a=eval(input(\"enter no: \"))\n",
    "i=1\n",
    "sum=0\n",
    "while i<=a:\n",
    "    sum=sum+i\n",
    "    i+=1\n",
    "print(\"sum is \",sum)"
   ]
  },
  {
   "cell_type": "code",
   "execution_count": null,
   "metadata": {},
   "outputs": [],
   "source": [
    "#to find prime number\n",
    "n=eval(input(\"enter number\"))\n",
    "d=2\n",
    "while d<n/2 :\n",
    "    if n%d==0:\n",
    "        print(n,\" is not a prime number\")\n",
    "        break\n",
    "    else:\n",
    "        d+=1\n",
    "if d>=n/2:\n",
    "    print(n,\" is a prime number\")\n",
    "    "
   ]
  },
  {
   "cell_type": "markdown",
   "metadata": {},
   "source": [
    "#### start=int(input(\"enter the starting no to find as prime\"))\n",
    "end=int(input(\"enter the ending no \"))\n",
    "for n in range(start,end+1,1):\n",
    "    for d in range(2,n//2,1):\n",
    "        if n%d == 0:\n",
    "            print(n,\" is Not Prime\")\n",
    "            break\n",
    "    else:\n",
    "        print(n, \" is Prime\")\n",
    "        #if d == (n//2)-1:\n",
    "           #print(n, \"  is Prime\")"
   ]
  },
  {
   "cell_type": "code",
   "execution_count": null,
   "metadata": {},
   "outputs": [],
   "source": [
    "#print prime nos between a range    100    200\n",
    "start=int(input(\"enter the starting no to find as prime\"))\n",
    "end=int(input(\"enter the ending no \"))\n",
    "flag=0\n",
    "for n in range(start,end+1,1):\n",
    "    flag=0\n",
    "    for d in range(2,n//2,1):\n",
    "        if n%d == 0:\n",
    "            print(n,\" is Not Prime\")\n",
    "            flag=1\n",
    "            break\n",
    "    if flag==0:\n",
    "        print(n, \"  is Prime\")"
   ]
  },
  {
   "cell_type": "code",
   "execution_count": null,
   "metadata": {},
   "outputs": [],
   "source": [
    "def fib(n):\n",
    "  \"\"\"Print a Fibonacci series up to n.\"\"\"\n",
    "  a, b = 0, 1\n",
    "  while b < n:\n",
    "    print (b)\n",
    "    a, b = b, a+b"
   ]
  },
  {
   "cell_type": "code",
   "execution_count": null,
   "metadata": {},
   "outputs": [],
   "source": [
    "for n in range(1,11):\n",
    "    print(n )"
   ]
  },
  {
   "cell_type": "code",
   "execution_count": null,
   "metadata": {},
   "outputs": [],
   "source": [
    "for i in range(21,0,-3):\n",
    "    print(i,end=\" \")"
   ]
  },
  {
   "cell_type": "code",
   "execution_count": null,
   "metadata": {},
   "outputs": [],
   "source": [
    "#nesting\n",
    "for i in range (1,5,1):\n",
    "    for j in range(1,3,1):\n",
    "        print(\"i=\",i,\" \",\"j=\",j)"
   ]
  },
  {
   "cell_type": "code",
   "execution_count": null,
   "metadata": {},
   "outputs": [],
   "source": [
    "#multiplication table\n",
    "n=int(input(\"enter no:\"))\n",
    "for i in range (0,n+1,1):\n",
    "    print(n,\"*\",i,\"=\",n*i)"
   ]
  },
  {
   "cell_type": "code",
   "execution_count": null,
   "metadata": {},
   "outputs": [],
   "source": [
    "#fibonaci series\n",
    "n=int(input(\"enter no of terms: \"))\n",
    "a=0\n",
    "b=1\n",
    "for i in range (1,n+1,1):\n",
    "    print(a,end=\" \")\n",
    "    a,b=b,a+b"
   ]
  },
  {
   "cell_type": "code",
   "execution_count": null,
   "metadata": {},
   "outputs": [],
   "source": [
    "#avg of numbers entered by user\n",
    "m=int(input(\"enter m :\"))\n",
    "n=int(input(\"enter n :\"))\n",
    "sum=0\n",
    "for i in range(m,n+1,1):\n",
    "    sum=sum+i\n",
    "print(sum)\n",
    "total=n-m\n",
    "avg=sum/total\n",
    "print(\"avg is\",avg)"
   ]
  },
  {
   "cell_type": "code",
   "execution_count": null,
   "metadata": {},
   "outputs": [],
   "source": [
    "s=0\n",
    "i=1\n",
    "\n",
    "num=input('how many os to be entered:')\n",
    "while i <=int(num):\n",
    "    num1=input('enter number:')\n",
    "    s=s+int(num1)\n",
    "    i=i+1\n",
    "    \n",
    "avg=s/5\n",
    "print(\"Average is :\",avg)"
   ]
  },
  {
   "cell_type": "code",
   "execution_count": null,
   "metadata": {},
   "outputs": [],
   "source": [
    "%run sum.py"
   ]
  },
  {
   "cell_type": "code",
   "execution_count": null,
   "metadata": {},
   "outputs": [],
   "source": [
    "%%file prog2.py\n",
    "print(\"hello\")"
   ]
  },
  {
   "cell_type": "code",
   "execution_count": null,
   "metadata": {},
   "outputs": [],
   "source": [
    "bp=eval(input(\"enter basicpay\"))\n",
    "if bp < 30000:\n",
    "        da=20/100 * bp\n",
    "else:\n",
    "        da=30/100 * bp\n",
    "hra=20/100 * bp\n",
    "if hra > 2000:\n",
    "        hra=2000\n",
    "pf=12/100 * bp\n",
    "\n",
    "gp=bp + hra + da \n",
    "\n",
    "np=gp - pf\n",
    "        \n",
    "print(\"Netpay is\", np)\n",
    "print(\"Gross pay\", gp)\n",
    "\n",
    "print(type(gp))\n",
    "        \n"
   ]
  },
  {
   "cell_type": "code",
   "execution_count": null,
   "metadata": {},
   "outputs": [],
   "source": [
    "<=3 lac no tax\n",
    "<=5 lac 4 lac 20%  \n",
    "<=8 lac 30\n",
    "40%\n",
    "\n",
    "if salary < 300000\n",
    "   tax=0\n",
    "else \n",
    "    if salary <=500000\n",
    "        salary-3 lac * 20%\n",
    "    else\n",
    "        if salary <=8 lacs   ( 7 lac)\n",
    "             2 lac * 20% + sal- 5lac * 30%\n",
    "        else \n",
    "             (9 lac) 2 lac * 20% + 3 lac * 30 + sal - 8 * 40% \n",
    "            \n",
    "   \n",
    "\n",
    "\n"
   ]
  },
  {
   "cell_type": "code",
   "execution_count": null,
   "metadata": {},
   "outputs": [],
   "source": [
    "TA=TB=TC=TD=TR=0\n",
    "for i in range(5):\n",
    "    physics=eval(input(\"enter physics marks\"))\n",
    "    chem=eval(input(\"enter chemistry marks\"))\n",
    "    maths=eval(input(\"enter maths marks\"))\n",
    "\n",
    "    total= physics + chem + maths\n",
    "\n",
    "    percentage=total/300 *100\n",
    "\n",
    "    if percentage >= 90:\n",
    "        grade=\"A\"\n",
    "        TA=TA+1\n",
    "    elif percentage >=80:\n",
    "        grade=\"B\"\n",
    "        TB=TB+1\n",
    "    elif percentage >=70:\n",
    "        grade=\"C\"\n",
    "        TC=TC+1\n",
    "    elif percentage >=60:\n",
    "        grade=\"D\"\n",
    "        TD=TD+1\n",
    "    else:\n",
    "        grade=\"R\"\n",
    "        TR=TR+1\n",
    "\n",
    "    print(grade)  \n",
    "\n",
    "print(\"A graders are: \", TA)\n",
    "print(\"B graders are: \", TB)\n",
    "print(\"C graders are: \", TC)\n",
    "print(\"D graders are: \", TD)\n",
    "print(\"R graders are: \", TR)\n",
    "\n",
    "\n",
    "    \n",
    "    \n",
    "    \n",
    "    "
   ]
  },
  {
   "cell_type": "markdown",
   "metadata": {},
   "source": [
    "enter your income, print the income tax\n",
    "<= 5 lac  no tax\n",
    "<=10 lac 10% tax\n",
    "<=20 lac 20% tax\n",
    "<=30 lac 30% tax\n",
    "otherwise\n",
    "40%\n",
    "\n",
    "\n"
   ]
  },
  {
   "cell_type": "code",
   "execution_count": null,
   "metadata": {},
   "outputs": [],
   "source": [
    "#area calculator\n",
    "def areacalculator():\n",
    "    _input_ = input(\"Enter the shape you want to calculate area of: \")\n",
    "    area = 0\n",
    "    pie = 3.14\n",
    "    if _input_ == \"Square\":\n",
    "        side = int(input(\"Enter the value of side: \"))\n",
    "        area = area + (side ** 2)\n",
    "    elif _input_ == \"Circle\":\n",
    "        radius = int(input(\"Enter the value of radius: \"))\n",
    "        area = area + (2 * pie * radius)\n",
    "    elif _input_ == \"Rectangle\":\n",
    "        length = int(input(\"Enter the value of length: \"))\n",
    "        width = int(input(\"Enter the value of length: \"))\n",
    "        area = area + (length * width)\n",
    "    elif _input_ == \"Triangle\":\n",
    "        base = int(input(\"Enter the value of base: \"))\n",
    "        height = int(input(\"Enter the value of height: \"))\n",
    "        area = area +(0.5 * base * height)\n",
    "    else:\n",
    "        print (\"Select a valid shape\") \n",
    "    print (\"%.2f\" % area)  "
   ]
  },
  {
   "cell_type": "code",
   "execution_count": null,
   "metadata": {},
   "outputs": [],
   "source": [
    "areacalculator()"
   ]
  },
  {
   "cell_type": "markdown",
   "metadata": {},
   "source": []
  },
  {
   "cell_type": "code",
   "execution_count": null,
   "metadata": {},
   "outputs": [],
   "source": [
    "def calculate_incometax(income):\n",
    "    if income <= 500000:\n",
    "        tax=0\n",
    "    else:\n",
    "        if income <= 1000000:\n",
    "            tax=(income-500000)*10/100\n",
    "        else:\n",
    "            tax =90000  \n",
    "    \n",
    "    print(\"Tax is \", tax)\n",
    "    income=income+1000\n",
    "    \n",
    "    print(income)\n",
    "    #everything is passed by reference\n",
    "    "
   ]
  },
  {
   "cell_type": "code",
   "execution_count": null,
   "metadata": {},
   "outputs": [],
   "source": [
    "income=eval(input(\"enter the income\"))\n",
    "calculate_incometax(income)\n",
    "print(income)"
   ]
  },
  {
   "cell_type": "code",
   "execution_count": null,
   "metadata": {},
   "outputs": [],
   "source": [
    "id(income)"
   ]
  },
  {
   "cell_type": "code",
   "execution_count": null,
   "metadata": {},
   "outputs": [],
   "source": [
    "a=10\n",
    "b=29\n",
    "print(id(b))"
   ]
  },
  {
   "cell_type": "code",
   "execution_count": null,
   "metadata": {},
   "outputs": [],
   "source": [
    "print(id(a))"
   ]
  },
  {
   "cell_type": "code",
   "execution_count": null,
   "metadata": {},
   "outputs": [],
   "source": [
    "c=10"
   ]
  },
  {
   "cell_type": "code",
   "execution_count": null,
   "metadata": {},
   "outputs": [],
   "source": [
    "print(id(c))"
   ]
  },
  {
   "cell_type": "code",
   "execution_count": null,
   "metadata": {},
   "outputs": [],
   "source": [
    "def calculate_incometax(income):\n",
    "    \n",
    "        if income < 10000:\n",
    "            tax = 0\n",
    "        elif income > 10000 and income <= 30000:\n",
    "            tax = (income-10000)*(0.1)\n",
    "        elif income > 30000 and income <= 70000:\n",
    "            tax = (income-30000)*(0.2) + 2000\n",
    "        elif income > 70000:\n",
    "            tax = (income - 70000)*(0.3) + 10000\n",
    "        return tax\n"
   ]
  },
  {
   "cell_type": "code",
   "execution_count": null,
   "metadata": {},
   "outputs": [],
   "source": [
    "t=calculate_incometax(100000)"
   ]
  },
  {
   "cell_type": "code",
   "execution_count": null,
   "metadata": {},
   "outputs": [],
   "source": [
    "print(t)"
   ]
  },
  {
   "cell_type": "code",
   "execution_count": null,
   "metadata": {},
   "outputs": [],
   "source": [
    "(y,x,z)=(10,20,30)\n",
    "#tuple"
   ]
  },
  {
   "cell_type": "code",
   "execution_count": null,
   "metadata": {},
   "outputs": [],
   "source": [
    "               #start, stop, increment/dec\n",
    "#for (i=1; i < 3 ; i++)\n",
    "\n",
    "    \n",
    "for i in range(1,4,2):\n",
    "    print(i)\n",
    "    "
   ]
  },
  {
   "cell_type": "code",
   "execution_count": null,
   "metadata": {},
   "outputs": [],
   "source": [
    "               0,condition to stop, 1\n",
    "    \n",
    "   \n",
    "    \n",
    "for i in range(3):\n",
    "    phy,chem,maths=eval(input(\"enter three marks\"))\n",
    "    sum=phy+chem+maths\n",
    "    avg=sum/3\n"
   ]
  },
  {
   "cell_type": "code",
   "execution_count": null,
   "metadata": {},
   "outputs": [],
   "source": [
    "i=1\n",
    "while i <=3:\n",
    "    phy,chem,maths=eval(input(\"enter three marks\"))\n",
    "    sum=phy+chem+maths\n",
    "    avg=sum/3\n",
    "    i=i+1"
   ]
  },
  {
   "cell_type": "code",
   "execution_count": null,
   "metadata": {},
   "outputs": [],
   "source": [
    "#Sum of first 10 natural numbers\n",
    "i=1\n",
    "sum=0\n",
    "while i < 11:\n",
    "    sum=sum+i\n",
    "    i=i+1\n",
    "\n",
    "print(\"sum is \", sum)\n",
    "#1+2+3+4+5.....10"
   ]
  },
  {
   "cell_type": "code",
   "execution_count": null,
   "metadata": {},
   "outputs": [],
   "source": [
    "#Sum of first 10 natural numbers\n",
    "sum=0\n",
    "for i in range(1,11):\n",
    "    sum=sum+i\n",
    "print(\"sum is \", sum)\n"
   ]
  },
  {
   "cell_type": "code",
   "execution_count": null,
   "metadata": {},
   "outputs": [],
   "source": [
    "n=eval(input(\"enter a number for table\"))\n",
    "for i in range (1,11,3):\n",
    "    print(i)\n",
    "    print(n, \" x \", i,\" = \", n*i )"
   ]
  },
  {
   "cell_type": "code",
   "execution_count": null,
   "metadata": {},
   "outputs": [],
   "source": [
    "generate a series\n",
    "2/5 + 3/8 + 4/11 +  .....10 terms\n",
    "i=1\n",
    "while i < 11:\n",
    "    \n",
    "    \n",
    "    i=i+1\n",
    "    "
   ]
  },
  {
   "cell_type": "code",
   "execution_count": null,
   "metadata": {},
   "outputs": [],
   "source": [
    "#2!/5x + 3!/8x + 4!/11x + 5!/14x  .....100 terms\n",
    "#1+2+3\n",
    "numerator=2\n",
    "denominator=5\n",
    "sum=0\n",
    "x=int(input(\"Enter x \"))\n",
    "for number in range(1,40):\n",
    "    print(numerator,\"!/\",denominator,\" * \", x, \" + \")\n",
    "    fact = 1\n",
    "    for i in range(1,numerator+1,1):\n",
    "         fact*=i\n",
    "    \n",
    "    sum=sum + (fact/denominator) *x\n",
    "    numerator= numerator+1\n",
    "    denominator=denominator+3\n",
    "  \n",
    "print(sum)"
   ]
  },
  {
   "cell_type": "code",
   "execution_count": null,
   "metadata": {},
   "outputs": [],
   "source": [
    "#factorial of a number\n",
    "#6!\n",
    "#6*5*4*3*2*1\n",
    "f=1\n",
    "n=int(input(\"enter a number to find factorial\"))\n",
    "i=n\n",
    "while i >0:\n",
    "    f=f * i \n",
    "    i=i-1\n",
    "print(\"factorial of \", n, \" is \", f)    "
   ]
  },
  {
   "cell_type": "code",
   "execution_count": null,
   "metadata": {},
   "outputs": [],
   "source": [
    "i = eval(input()) \n",
    "fact = 1\n",
    "for i in range(i,0,-1):\n",
    "    fact*=i  \n",
    "print(fact)"
   ]
  },
  {
   "cell_type": "code",
   "execution_count": null,
   "metadata": {},
   "outputs": [],
   "source": [
    "#sum of digits of a number\n",
    "n=int(input(\"enter a number to find its sum of digits\"))\n",
    "\n",
    "\n",
    "\n",
    "4356     18\n",
    "349       16\n",
    "39856     24    6  3985   5   398   8   39   9   3 \n",
    "\n",
    "q =6787/10         678\n",
    "rem = 6787 % 10      7\n",
    "sum=sum+rem\n",
    "q=678/10      67\n",
    "rem 678%10  8\n",
    "sum=sum+8\n",
    "\n",
    "67\n",
    "\n",
    "6/10  0\n",
    "6%10   6\n",
    "\n",
    "\n"
   ]
  },
  {
   "cell_type": "code",
   "execution_count": null,
   "metadata": {},
   "outputs": [],
   "source": [
    "sum = 0\n",
    "i = 0\n",
    "# Taking user input \n",
    "num = input('Enter the integer number : ')\n",
    "print(num)\n",
    "# Performing logical code\n",
    "while i<len(num):\n",
    "  temp = int(num[i])\n",
    "  sum = sum + temp\n",
    "  i = i+1\n",
    "# Printing the ouput \n",
    "print('Sum of the digits is :',sum)"
   ]
  },
  {
   "cell_type": "code",
   "execution_count": null,
   "metadata": {},
   "outputs": [],
   "source": [
    "n=int(input())\n",
    "sum=0\n",
    "final=0\n",
    "for i in str(n):\n",
    "  sum=sum+int(i)\n",
    "print(sum)\n",
    "\n",
    "for j in str(sum):\n",
    "  final=final+int(j)\n",
    "print(final)"
   ]
  },
  {
   "cell_type": "code",
   "execution_count": null,
   "metadata": {},
   "outputs": [],
   "source": [
    "def sumdigit():\n",
    "    a=int(input(\"Enter a number:\"))\n",
    "    print(a) #4657\n",
    "    total=0\n",
    "    while(a>0):\n",
    "        new_num=a%10\n",
    "        total=total+new_num\n",
    "        a=a//10\n",
    "    print(\"The total sum of digits is:\",total)"
   ]
  },
  {
   "cell_type": "code",
   "execution_count": null,
   "metadata": {},
   "outputs": [],
   "source": [
    "num=input(\"Enter a number:\")\n",
    "sum=0\n",
    "for digit in num:\n",
    "    sum = sum + int(digit)\n",
    "print(sum)"
   ]
  },
  {
   "cell_type": "code",
   "execution_count": null,
   "metadata": {},
   "outputs": [],
   "source": [
    "#fibonicci series\n",
    "#0 + 1 + 1 + 2 + 3 + 5 + 8 + 13 + 21 + 34 +......20 terms\n",
    "a=0\n",
    "b=1\n",
    "n=34\n",
    "while b < n:\n",
    "    print(b)\n",
    "    a,b=b,a+b\n",
    "    "
   ]
  },
  {
   "cell_type": "code",
   "execution_count": null,
   "metadata": {},
   "outputs": [],
   "source": [
    "num= int(input(\"enter any number:\"))\n",
    "n1,n2=0,1\n",
    "Sum=0\n",
    "if num<0:\n",
    "    print(\"please enter a no. Greater than  0:\")\n",
    "else:\n",
    "    for i in range (0,num):\n",
    "        print(Sum,end=\" \")\n",
    "        n1=n2\n",
    "        n2= Sum \n",
    "        Sum= n1+n2\n",
    "print(\"done\")"
   ]
  },
  {
   "cell_type": "code",
   "execution_count": null,
   "metadata": {},
   "outputs": [],
   "source": [
    "#prime number\n",
    "n=int(input(\"enter a number to check for prime\"))\n",
    "divisor =2\n",
    "while divisor < n//2:\n",
    "    if n % divisor ==0:\n",
    "        print(\"It is not a prime number\")\n",
    "        break\n",
    "    else:\n",
    "        divisor=divisor+1\n",
    "else:\n",
    "    print(\"It is a prime number\")"
   ]
  },
  {
   "cell_type": "code",
   "execution_count": null,
   "metadata": {},
   "outputs": [],
   "source": [
    "i=10\n",
    "while i < 20:\n",
    "    if i ==15:\n",
    "        break\n",
    "        i=i+1\n",
    "    \n",
    "print(i)   "
   ]
  },
  {
   "cell_type": "code",
   "execution_count": null,
   "metadata": {},
   "outputs": [],
   "source": [
    "a=5\n",
    "b=15\n",
    "x=200\n",
    "while a <10 and b < 20:\n",
    "    if  a < 8 and b < 18:\n",
    "        if x>200:\n",
    "            break\n",
    "        \n",
    "    a=a+1\n",
    "    b=b+1\n",
    "    \n",
    "print(a)\n",
    "print(b)"
   ]
  },
  {
   "cell_type": "code",
   "execution_count": null,
   "metadata": {},
   "outputs": [],
   "source": [
    "sum=0\n",
    "#1+2+3+4+5......\n",
    "for i in range(1,40,1):\n",
    "    sum=sum+i\n",
    "    if sum > 50000:\n",
    "        break\n",
    "        \n",
    "print(sum)"
   ]
  },
  {
   "cell_type": "code",
   "execution_count": null,
   "metadata": {},
   "outputs": [],
   "source": [
    "Q10. Write a Python program to find numbers between 100 and 400 (both included) where each digit of a number is an even number. The numbers obtained should be printed in a comma-separated sequence."
   ]
  },
  {
   "cell_type": "code",
   "execution_count": null,
   "metadata": {},
   "outputs": [],
   "source": [
    "#Q4 Input employee name and baisc-pay and calculate grosspay, netpay. \n",
    "#grosspay= bp + da + hra -Pf\n",
    "#pf=12% of bp\n",
    "#hra is 20% of bp but maximum can be 2000 only\n",
    "#da is 20% of bp for bp < 3 lac\n",
    "#otherwise\n",
    "#da is 30% of bp\n",
    "#netpay=grosspay - pf\n",
    " \n",
    "employeeName, basicPay = str(input(\"Please enter your name: \")), eval(input(\"Please enter your basic pay: \"))\n",
    "pf = (basicPay*12)/100\n",
    "\n",
    "hra = (basicPay*20)/100 \n",
    "if hra > 2000:\n",
    "    print(\"HRA exceed maximum limit of 2000\")\n",
    "    hra=2000\n",
    "      \n",
    "if basicPay < 300000:\n",
    "    da = (basicPay*20)/100\n",
    "    print(da)\n",
    "else:\n",
    "    da = (basicPay*30)/100\n",
    "    print(da)\n",
    "\n",
    "pf=(12/100) * basicPay\n",
    "grossPay = basicPay + da + hra\n",
    "netPay = grossPay - pf\n",
    " \n",
    "print(employeeName,\", your basicPay is\", basicPay)\n",
    "print(employeeName,\", your da is\", da)\n",
    "print(employeeName,\", your hra is\", hra)\n",
    "\n",
    "print(employeeName,\", your gross-pay is\", grossPay)\n",
    "print(employeeName,\", your net-pay is\", netPay)\n",
    "\n"
   ]
  },
  {
   "cell_type": "markdown",
   "metadata": {},
   "source": [
    "#Q Enter a date, check its validity \n",
    "#and print incremented date by one day\n",
    "#dd/mm/yyyy\n",
    "\n",
    "31/11/2021   \n",
    "29/02/2021\n",
    "14/15/2021\n",
    "31/06/2022\n",
    "15/10/2021   next date 16/10/2021  1 change  day\n",
    "30/11/2021   next ate  01/12/2021  2 changes  day month\n",
    "31/12/2020   next date 01/01/2021  3 changes  day month year\n",
    "28/02/2022   next date 01/03/2022  2 changes day month"
   ]
  },
  {
   "cell_type": "code",
   "execution_count": null,
   "metadata": {},
   "outputs": [],
   "source": [
    "def incrementdate():    \n",
    "    date=input(\"Enter an order date :....dd/mm/yy  \")\n",
    "    print(date)\n",
    "    dd, mm, yy = date.split(\"/\")\n",
    "    dd=int(dd)\n",
    "    mm=int(mm)\n",
    "    yy=int(yy)\n",
    "    #validity\n",
    "    if mm==1 or mm==3 or mm==5 or mm== 7 or mm==8 or mm==10 or mm==12:\n",
    "        maxdays=31\n",
    "    elif mm==4 or mm==6 or mm==9 or mm==11:\n",
    "        maxdays=30\n",
    "    elif (yy%4==0 and yy%100 !=0 or yy%400 ==0):\n",
    "        maxdays=29\n",
    "    else:\n",
    "        maxdays=28\n",
    "\n",
    "    if mm < 1 or mm > 12:\n",
    "        print(\"Date is invalid\")\n",
    "    elif dd<1 or dd > maxdays :\n",
    "        print(\"date is invalid\")\n",
    "    elif dd==maxdays and mm !=12:\n",
    "        dd=1\n",
    "        mm=mm+1\n",
    "        print(\"the incremented date is :\", dd,mm,yy)\n",
    "    elif dd==31 and mm==12:\n",
    "            dd=1\n",
    "            mm=1\n",
    "            yy=yy+1\n",
    "            print(\"the incremented date is :\", dd,mm,yy)\n",
    "    else:\n",
    "            dd=dd+1\n",
    "            print(\"the incremented date is :\", dd,mm,yy)\n"
   ]
  },
  {
   "cell_type": "code",
   "execution_count": null,
   "metadata": {},
   "outputs": [],
   "source": [
    "incrementdate()"
   ]
  },
  {
   "cell_type": "code",
   "execution_count": null,
   "metadata": {},
   "outputs": [],
   "source": [
    "\n",
    "len(\"abc\")"
   ]
  },
  {
   "cell_type": "code",
   "execution_count": null,
   "metadata": {},
   "outputs": [],
   "source": [
    "import mylibrary"
   ]
  },
  {
   "cell_type": "code",
   "execution_count": null,
   "metadata": {},
   "outputs": [],
   "source": [
    "Q find numbers between 200 and 300 where each digit is an even number.\n"
   ]
  },
  {
   "cell_type": "code",
   "execution_count": null,
   "metadata": {},
   "outputs": [],
   "source": [
    "Sequence: consecutive collection of objects\n",
    "order "
   ]
  },
  {
   "cell_type": "code",
   "execution_count": null,
   "metadata": {},
   "outputs": [],
   "source": [
    "#strings\n",
    "str=\"computer\"\n",
    "lst= [12, 11, \"seema\", 45.67, 33  ]\n",
    "#1. accessing the elements of a sequence\n",
    "str[4]\n",
    "lst[2]\n",
    "lst[-3]\n",
    "\n",
    "tup= ( 12, 34, 56, 59, \"anu\", \"a\")\n",
    "tup[-2]"
   ]
  },
  {
   "cell_type": "code",
   "execution_count": null,
   "metadata": {},
   "outputs": [],
   "source": [
    "#1. accessing the elements of a sequence\n",
    "#2. slicing\n",
    "lst= [12, 20, 10, 30, 33 ,12,67,78,89,44,55,66,77,88 ]\n",
    "\n",
    "sum=0\n",
    "for i in range( 1, 4):\n",
    "    sum= sum + lst[i]\n",
    "\n",
    "print(sum)"
   ]
  },
  {
   "cell_type": "code",
   "execution_count": null,
   "metadata": {},
   "outputs": [],
   "source": [
    "#1. accessing the elements of a sequence   []\n",
    "#2. slicing : slice operator   : \n",
    "#3. concatenation      + \n",
    "#4. replication        *\n",
    "#5. membership test    in, not in\n",
    "\n",
    "str=\"ELectronic\"\n",
    "t=(10,20,30)\n",
    "\n",
    "lst=[10,'a',20,'b',30,'c']\n",
    "\n",
    "lst.reverse()\n",
    "lst"
   ]
  },
  {
   "cell_type": "code",
   "execution_count": null,
   "metadata": {},
   "outputs": [],
   "source": [
    "t=[1,2,3]\n",
    "t*3\n",
    "t+t+t"
   ]
  },
  {
   "cell_type": "code",
   "execution_count": null,
   "metadata": {},
   "outputs": [],
   "source": [
    "del str"
   ]
  },
  {
   "cell_type": "code",
   "execution_count": null,
   "metadata": {},
   "outputs": [],
   "source": [
    "Q enter a string and find whether a vowel exists in the string\n",
    "Q enter a string and find how many vowels are present\n",
    "Q enter a string, find its length\n",
    "Q enter a string, extract last 5 characters\n",
    "Q enter a string, print from 10th character till the last\n",
    "meet at 12:05\n"
   ]
  },
  {
   "cell_type": "code",
   "execution_count": null,
   "metadata": {},
   "outputs": [],
   "source": [
    "str=\"eletrpni device\"\n",
    "str[10:]"
   ]
  },
  {
   "cell_type": "code",
   "execution_count": null,
   "metadata": {},
   "outputs": [],
   "source": [
    "str=\"COMPUTER\"\n",
    "str=str.lower()\n",
    "if \"a\" in str or \"e\" in str or \"i\" in str or \"o\"  in str or \"u\" in str:\n",
    "    print(\"there is vowel\")\n",
    "else:\n",
    "    print(\"no vowel\")"
   ]
  },
  {
   "cell_type": "code",
   "execution_count": null,
   "metadata": {},
   "outputs": [],
   "source": [
    "s1 = input()\n",
    "s1 = s1.upper()\n",
    "\n",
    "if \"A\" in s1 or \"E\" in s1 or \"I\" in s1 or \"O\" in s1 or \"U\" in s1 :\n",
    "    print(\"Vowel is present\")\n",
    "else:\n",
    "    print(\"Vowel is not present\")"
   ]
  },
  {
   "cell_type": "code",
   "execution_count": null,
   "metadata": {},
   "outputs": [],
   "source": [
    "str=\"Hello my name is utkarsh\"\n",
    "count=0\n",
    "for i in str.lower():\n",
    "    if i=='a' or i=='e' or i=='i' or i=='o' or i=='u':\n",
    "        #print(\"vowel Exists \",i)\n",
    "        count=count+1\n",
    "        \n",
    "print(\" Total Vowels: \",count)\n",
    "#print(\" Last 5 Characters of the string are :\", str[-1:-6]\n",
    "print(\"Length of the string :\",len(str))\n",
    "print(str[10:])\n"
   ]
  },
  {
   "cell_type": "code",
   "execution_count": null,
   "metadata": {},
   "outputs": [],
   "source": [
    "# enter a string and find how many vowel exists\n",
    "count=0\n",
    "str=input('Enter string: ')\n",
    "str1=str.lower()\n",
    "for i in str1:\n",
    "    if i in ['a','e','i','o','u']:\n",
    "        count=count+1\n",
    " \n",
    "print(\"total vowel:\", count)"
   ]
  },
  {
   "cell_type": "code",
   "execution_count": null,
   "metadata": {},
   "outputs": [],
   "source": [
    "str=\"utkarsh is my name\"\n",
    "str=str.lower()\n",
    "count=0\n",
    "for char in str:\n",
    "    if char in \"aeiou\":\n",
    "       count=count+1\n",
    "        \n",
    "print(\" Total Vowels: \",count)\n",
    "#print(\" Last 5 Characters of the string are :\", str[-1:-6]\n",
    "print(\"Length of the string :\",len(str))"
   ]
  },
  {
   "cell_type": "code",
   "execution_count": null,
   "metadata": {},
   "outputs": [],
   "source": [
    "#List\n",
    "#Q build create a list with five nos input from user\n",
    "#creating an empty list\n",
    "sumodd=sumeven=0\n",
    "odd=even=0\n",
    "newlist=[5,6,12,34,45,67,78]\n",
    "#odd 5 + 45+67+89+91\n",
    "#even 6+12+34+78\n",
    "for i in newlist:\n",
    "    if i % 2 ==0:\n",
    "        even=even+1\n",
    "        sumeven = sumeven + i\n",
    "    else:\n",
    "        odd=odd + 1\n",
    "        sumodd= sumodd + i      \n",
    "print(\"Sum of \",odd, \" odd numbers is \" ,sumodd)\n",
    "print(\"Sum of \",even, \" odd numbers is \" ,sumeven)\n"
   ]
  },
  {
   "cell_type": "markdown",
   "metadata": {},
   "source": [
    "14### 6\n",
    "7\n",
    "8##### "
   ]
  },
  {
   "cell_type": "code",
   "execution_count": null,
   "metadata": {},
   "outputs": [],
   "source": [
    "newlist=[5,6,9]"
   ]
  },
  {
   "cell_type": "code",
   "execution_count": null,
   "metadata": {},
   "outputs": [],
   "source": [
    "for n in newlist: \n",
    "    print(\"************\")\n",
    "    for j in  range(1,11):\n",
    "        print(n, \" x\", j,\" = \", n  "
   ]
  },
  {
   "cell_type": "code",
   "execution_count": null,
   "metadata": {},
   "outputs": [],
   "source": [
    "lst=['apple', 'orange', 'guava', 'orange', 'apple','orange']\n",
    "count1=0\n",
    "for i in lst:\n",
    "    if i == \"orange\":\n",
    "        count1=count1+1\n",
    "count1   \n"
   ]
  },
  {
   "cell_type": "code",
   "execution_count": null,
   "metadata": {},
   "outputs": [],
   "source": [
    "lst.count(\"orange\")"
   ]
  },
  {
   "cell_type": "code",
   "execution_count": null,
   "metadata": {},
   "outputs": [],
   "source": [
    "lst.remove(\"orange\")"
   ]
  },
  {
   "cell_type": "code",
   "execution_count": null,
   "metadata": {},
   "outputs": [],
   "source": [
    "lst"
   ]
  },
  {
   "cell_type": "code",
   "execution_count": null,
   "metadata": {},
   "outputs": [],
   "source": [
    "str=\"hello\"\n"
   ]
  },
  {
   "cell_type": "markdown",
   "metadata": {},
   "source": [
    "Generally, you have an input in competitive coding, something like −\n",
    "\n",
    "1234567\n",
    "\n",
    "To get them as a list of numbers simply"
   ]
  },
  {
   "cell_type": "code",
   "execution_count": null,
   "metadata": {},
   "outputs": [],
   "source": [
    "\n",
    "list(map(int, input(\"enter numbers:\").split()))"
   ]
  },
  {
   "cell_type": "markdown",
   "metadata": {},
   "source": [
    "Strings concatenation: Do not use the below construct."
   ]
  },
  {
   "cell_type": "code",
   "execution_count": null,
   "metadata": {},
   "outputs": [],
   "source": [
    "str1 = \"\"\n",
    "some_list = [\"Welcome \", \"To \", \"Tutorialspoint \"]\n",
    "for x in some_list:\n",
    "   str1 += x\n",
    "print(str1)"
   ]
  },
  {
   "cell_type": "code",
   "execution_count": null,
   "metadata": {},
   "outputs": [],
   "source": [
    "#Above method gives huge time overhead.Instead, try to use this (join method) \n",
    "str1 = \"\"\n",
    "some_list = [\"Welcome \", \"To \", \"Tutorialspoint \"]\n",
    "print(str1.join(some_list))"
   ]
  },
  {
   "cell_type": "markdown",
   "metadata": {},
   "source": [
    "be careful to use extend() and append() in lists, while merging two or more lists."
   ]
  },
  {
   "cell_type": "code",
   "execution_count": null,
   "metadata": {},
   "outputs": [],
   "source": [
    "a = [1, 2, 3,4] # list 1\n",
    "b = [5, 6, 7] # list 2\n",
    "a.extend(b)#gives one list\n",
    "a\n",
    "\n"
   ]
  },
  {
   "cell_type": "code",
   "execution_count": null,
   "metadata": {},
   "outputs": [],
   "source": [
    "a.append(b) # gives list of list\n",
    "a"
   ]
  },
  {
   "cell_type": "markdown",
   "metadata": {},
   "source": [
    " use the itertools(standard library), as they are much faster for a common task. For example, you can have something like permutation for a loop with a few lines of code."
   ]
  },
  {
   "cell_type": "code",
   "execution_count": null,
   "metadata": {},
   "outputs": [],
   "source": [
    "import itertools\n",
    "iter = itertools.permutations([4,5,6])\n",
    "list(iter)"
   ]
  },
  {
   "cell_type": "code",
   "execution_count": null,
   "metadata": {},
   "outputs": [],
   "source": []
  },
  {
   "cell_type": "code",
   "execution_count": null,
   "metadata": {},
   "outputs": [],
   "source": [
    "str=\"From rahul@nielit.gov.in Sat Jan  5 @123 10:24:16 2008\"\n",
    "#slicing\n",
    "\n",
    "\n",
    "str.rfind(\"@\")\n",
    "\n"
   ]
  },
  {
   "cell_type": "code",
   "execution_count": null,
   "metadata": {},
   "outputs": [],
   "source": [
    "maillist=[\"From stephen.marquard@gmail.com Sat Jan  5 09:14:16 2008\",\n",
    "\"From rahul@nielit.gov.in Sat Jan  5 10:24:16 2008\",\n",
    "\"From stephen.marquard@gmail.com Sat Jan  5 09:14:16 2008\",\n",
    "\"From anita@nielit.gov.in Sat Jan  5 11:14:16 2008\",\n",
    "\"From rajeshkumar@yahoo.com Sat Jan  5 09:14:16 2008\",\n",
    "\"From meenu@yahoo.com Sat Jan  5 10:14:16 2019\",\n",
    "\"From rashmi@rediff.com Sun Jan  5 09:14:16 2011\", \n",
    "\"From rashmi@yahoo.com Sun Jan  5 09:14:16 2012\",\n",
    "\"From rash@gmail.com Sun Jan  5 12:14:16 2009\" , \n",
    "\"From rash@msn.com Sun Jan  5 09:14:16 2080\"]\n",
    "maillist[0]\n",
    "\n",
    "#dictionary\n",
    "\n",
    "\n"
   ]
  },
  {
   "cell_type": "code",
   "execution_count": null,
   "metadata": {},
   "outputs": [],
   "source": [
    "final_maillist=[]\n",
    "nielit=yahoo=gmail=rediff=0\n",
    "for mail in maillist:\n",
    "    pos=mail.find(\"@\")\n",
    "    end=mail.find(\" \", pos)\n",
    "    m= mail[pos+1 : end  ]\n",
    "    if m not in final_maillist:\n",
    "        final_maillist.append(m)\n",
    "#['gmail.com','nielit.gov.in','yahoo.com','yahoo.com','mn.com']\n",
    "\n",
    "for m in maillist: \n",
    "\n",
    "\n",
    "print (final_maillist )\n",
    "    \n",
    "    \n",
    "#['gmail.com','nielit.gov.in','yahoo.com','yahoo.com']"
   ]
  },
  {
   "cell_type": "code",
   "execution_count": null,
   "metadata": {
    "scrolled": true
   },
   "outputs": [],
   "source": [
    "nielit=yahoo=gmail=rediff=0\n",
    "for mail in maillist:\n",
    "    pos=mail.find(\"@\")\n",
    "    end=mail.find(\" \", pos)\n",
    "    m= mail[pos+1 : end  ]\n",
    "    if m == \"nielit.gov.in\":\n",
    "        nielit=nielit+1\n",
    "    elif m==\"gmail.com\":\n",
    "        gmail=gmail+1\n",
    "    elif m==\"rediff.com\":\n",
    "        rediff=rediff+1\n",
    "    elif m==\"yahoo.com\":\n",
    "        yahoo=yahoo+1\n",
    "\n",
    "print(\"Yahoo mails :\", yahoo)\n",
    "print(\"Nielit mails :\", nielit)\n",
    "print(\"Rediff mails :\", rediff)\n",
    "print(\"Gmail mails :\", gmail)"
   ]
  },
  {
   "cell_type": "code",
   "execution_count": null,
   "metadata": {},
   "outputs": [],
   "source": [
    "nielit=yahoo=gmail=rediff=0\n",
    "for mail in maillist:\n",
    "    pos=mail.find(\"@\")\n",
    "    end=mail.find(\" \", pos)\n",
    "    m= mail[pos+1 : end  ]\n",
    "    if m == \"nielit.gov.in\":\n",
    "        nielit=nielit+1\n",
    "    elif m==\"gmail.com\":\n",
    "        gmail=gmail+1\n",
    "    elif m==\"rediff.com\":\n",
    "        rediff=rediff+1\n",
    "    elif m==\"yahoo.com\":\n",
    "        yahoo=yahoo+1"
   ]
  },
  {
   "cell_type": "code",
   "execution_count": null,
   "metadata": {},
   "outputs": [],
   "source": [
    "import matplotlib.pyplot as plt\n",
    "plt.ylabel(\n",
    "plt.xlabel(\"Year\")\n",
    "plt.title(\"Year wise sum of quantities ordered\")"
   ]
  },
  {
   "cell_type": "code",
   "execution_count": null,
   "metadata": {},
   "outputs": [],
   "source": [
    "4550\n",
    "Four thousand five hundred and fifty\n",
    "Four five five zero"
   ]
  },
  {
   "cell_type": "code",
   "execution_count": null,
   "metadata": {},
   "outputs": [],
   "source": [
    "maillist=[\n",
    "\"From 192.168.1.12 21 Sat Jan 25 09:14:16 2020\",\n",
    "\"From 192.167.1.23 23 Sat Jan 5  10:24:16 2021\",\n",
    "\"From 192.165,1.65 80 Sat Jan 5  09:14:16 2008\",\n",
    "\"From 192.168.1.12 21 Sat Jan 15 09:14:16 2008\",\n",
    "\"From 192.167.1.23 23 Sat Jan 25 10:24:16 2008\",\n",
    "\"From 192.165.1.65 80 Sat Jan 5  09:14:16 2008\",\n",
    "\"From 192.168.1.12 21 Sat Jan 25 09:14:16 2008\",\n",
    "\"From 192.167.1.23 23 Sat Jan 5  10:24:16 2008\",\n",
    "\"From 192.165.1.65 80 Sat Jan 15 09:14:16 2008\"]\n",
    "Q Jan 5 requests\n",
    "Q jan 5 9 to 10 am"
   ]
  },
  {
   "cell_type": "code",
   "execution_count": null,
   "metadata": {},
   "outputs": [],
   "source": [
    "lst=[1,2,3,4]"
   ]
  },
  {
   "cell_type": "code",
   "execution_count": null,
   "metadata": {},
   "outputs": [],
   "source": [
    "t=lst.copy()\n",
    "t[3] = 50\n",
    "print(\"t\", t)\n",
    "print(\"lst\",lst)\n",
    "print(id(lst))\n",
    "print(id(t))\n",
    "\n"
   ]
  },
  {
   "cell_type": "code",
   "execution_count": null,
   "metadata": {},
   "outputs": [],
   "source": [
    "#SEQUENCE : strings lists tuples\n",
    "#Dictionaries, sets\n",
    "\n",
    "s=\"computer123\"\n",
    "l=[\"anu\", 12, \"seeema\", 15]\n",
    "t=(12,13,14,\"anu\", 78,90)"
   ]
  },
  {
   "cell_type": "code",
   "execution_count": null,
   "metadata": {},
   "outputs": [],
   "source": [
    "tup=[1,2,(30,40,50,60,34,12),4,[5,6,[7,80,90],8,9]]\n",
    "type(tup)\n",
    "print(tup[2][2])\n",
    "print(tup[4][2][:2])\n"
   ]
  },
  {
   "cell_type": "markdown",
   "metadata": {},
   "source": [
    "student=['anu',90,89,78,'meenu',56,67,78,'seema',77,66,88]\n",
    "Q find total marks of each student and store in a list\n",
    "Q find the average of class\n",
    "Q find the average subject wise in the class\n"
   ]
  },
  {
   "cell_type": "code",
   "execution_count": null,
   "metadata": {},
   "outputs": [],
   "source": [
    "student=['anu',90,89,78,'meenu',56,67,78,'seema',77,66,88,'rahul',90,80,79,'rajat',76,56,67]\n",
    "studlist=[]\n",
    "j=-3\n",
    "for i in range(0,len(student),4):\n",
    "    j=j+4\n",
    "    print(j)\n",
    "    marks=student[j]+student[j+1]+student[j+2]\n",
    "    studlist.append(marks)\n",
    "studlist \n",
    "print(studlist)\n",
    "studname=['anu', 'meenu', 'seema','rahul', 'rajat']\n",
    "print(studname)"
   ]
  },
  {
   "cell_type": "code",
   "execution_count": null,
   "metadata": {},
   "outputs": [],
   "source": [
    "for i in st:\n",
    "    print(i[1])"
   ]
  },
  {
   "cell_type": "code",
   "execution_count": null,
   "metadata": {},
   "outputs": [],
   "source": [
    "chess=hockey=cricket=0\n",
    "\n",
    "games=['cricket','chess','hockey','chess']\n",
    "st =list(zip(studlist,studname, games))\n",
    "print(st)\n",
    "for i in range(len(st)):\n",
    "    if st[i][2] == \"chess\":\n",
    "        chess+=1\n",
    "    elif st[i][2] ==\"hockey\":\n",
    "        hockey+=1\n",
    "    else:\n",
    "            cricket+=1\n",
    "print(\"Total hockey\", hockey)\n",
    "print(\"Total chess\", chess)\n",
    "print(\"Total crickety\", cricket)\n",
    "\n"
   ]
  },
  {
   "cell_type": "code",
   "execution_count": null,
   "metadata": {},
   "outputs": [],
   "source": [
    "student=['anu',90,89,78,'meenu',56,67,78,'seema',77,66,88]\n",
    "studlist=[]\n",
    "for i in student:\n",
    "    if i.isnumeric():\n",
    "        s=s+\n",
    "    print(\"yes\")"
   ]
  },
  {
   "cell_type": "code",
   "execution_count": null,
   "metadata": {},
   "outputs": [],
   "source": []
  },
  {
   "cell_type": "code",
   "execution_count": null,
   "metadata": {},
   "outputs": [],
   "source": [
    "import pandas as pd\n"
   ]
  },
  {
   "cell_type": "code",
   "execution_count": null,
   "metadata": {},
   "outputs": [],
   "source": [
    "p=pd.Series([3,4,5,6])\n",
    "p"
   ]
  },
  {
   "cell_type": "code",
   "execution_count": null,
   "metadata": {},
   "outputs": [],
   "source": [
    "#defining a function\n",
    "def sumdigit(a, b):\n",
    "    total=0\n",
    "    while(a>0):\n",
    "        new_num=a%10\n",
    "        total=total+new_num\n",
    "        a=a//10\n",
    "    #print(\"The total sum of digits is:\",total)\n",
    "    return total"
   ]
  },
  {
   "cell_type": "code",
   "execution_count": null,
   "metadata": {},
   "outputs": [],
   "source": [
    "k = sumdigit(67, 78)\n",
    "k"
   ]
  },
  {
   "cell_type": "code",
   "execution_count": null,
   "metadata": {},
   "outputs": [],
   "source": [
    "#calling a function\n"
   ]
  },
  {
   "cell_type": "code",
   "execution_count": null,
   "metadata": {},
   "outputs": [],
   "source": [
    "area()"
   ]
  },
  {
   "cell_type": "code",
   "execution_count": null,
   "metadata": {},
   "outputs": [],
   "source": [
    "def calculator(a,b,op):\n",
    "    if op==\"+\":\n",
    "        return a+b\n",
    "    elif op==\"-\":\n",
    "        return a-b\n",
    "    elif op==\"*\":\n",
    "        return a*b\n",
    "    elif op==\"/\":\n",
    "        return a//b\n",
    "    elif op==\"**\":\n",
    "        return a**b"
   ]
  },
  {
   "cell_type": "code",
   "execution_count": null,
   "metadata": {},
   "outputs": [],
   "source": [
    "answer = calculator(10,5,\"**\")"
   ]
  },
  {
   "cell_type": "code",
   "execution_count": null,
   "metadata": {},
   "outputs": [],
   "source": [
    "answer"
   ]
  },
  {
   "cell_type": "code",
   "execution_count": null,
   "metadata": {},
   "outputs": [],
   "source": []
  }
 ],
 "metadata": {
  "kernelspec": {
   "display_name": "Python 3 (ipykernel)",
   "language": "python",
   "name": "python3"
  },
  "language_info": {
   "codemirror_mode": {
    "name": "ipython",
    "version": 3
   },
   "file_extension": ".py",
   "mimetype": "text/x-python",
   "name": "python",
   "nbconvert_exporter": "python",
   "pygments_lexer": "ipython3",
   "version": "3.9.7"
  }
 },
 "nbformat": 4,
 "nbformat_minor": 2
}
